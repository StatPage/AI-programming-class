{
 "cells": [
  {
   "cell_type": "code",
   "execution_count": 8,
   "metadata": {},
   "outputs": [
    {
     "name": "stdout",
     "output_type": "stream",
     "text": [
      "George Washington\n",
      "John Adams\n",
      "Thomas Jefferson\n",
      "James Madison\n",
      "James Monroe\n",
      "John Q. Adams\n"
     ]
    }
   ],
   "source": [
    "def main():\n",
    "    display_file1(\"firstUSPresidents.txt\")\n",
    "    \n",
    "def display_file1(filename):\n",
    "    openfile = open(filename, 'r')\n",
    "    for x in openfile:\n",
    "        print(x, end='')\n",
    "main()"
   ]
  },
  {
   "cell_type": "markdown",
   "metadata": {},
   "source": [
    "수업 자료에는 end=''가 아닌 .rstrip()을 사용했다. 내 생각엔 newline character를 없애준다는 의미에서 직관적으로 .rstrip()이 더 좋은 것 같다."
   ]
  },
  {
   "cell_type": "code",
   "execution_count": 10,
   "metadata": {},
   "outputs": [
    {
     "name": "stdout",
     "output_type": "stream",
     "text": [
      "['George Washington', 'John Adams', 'Thomas Jefferson', 'James Madison', 'James Monroe', 'John Q. Adams']\n"
     ]
    }
   ],
   "source": [
    "def main():\n",
    "    display_file2(\"firstUSPresidents.txt\")\n",
    "    \n",
    "def display_file2(filename):\n",
    "    openfile = open(filename, 'r')\n",
    "#    openfile = [lambda x: x.rstrip for x in openfile]\n",
    "    listfile = [x.rstrip() for x in openfile]\n",
    "    print(listfile)\n",
    "    \n",
    "main()"
   ]
  },
  {
   "cell_type": "markdown",
   "metadata": {},
   "source": [
    "불러들인 파일과 생성한 리스트의 변수 이름을 동일하게 준 나와 달리 수업 자료에서는 다르게 표현해주고 있다. 또한 lambda는 mini function인데 이것을 리스트에 넣었으니 원하는 리스트가 생성이 안됐던 것 그냥 []안에 for문을 작성해줬어도 됐다."
   ]
  },
  {
   "cell_type": "code",
   "execution_count": 12,
   "metadata": {
    "scrolled": true
   },
   "outputs": [
    {
     "name": "stdout",
     "output_type": "stream",
     "text": [
      "George Washington\n",
      "John Adams\n",
      "Thomas Jefferson\n",
      "James Madison\n",
      "James Monroe\n",
      "John Q. Adams\n"
     ]
    }
   ],
   "source": [
    "def main():\n",
    "    display_file3(\"firstUSPresidents.txt\")\n",
    "    \n",
    "def display_file3(filename):\n",
    "    openfile = open(filename, 'r')\n",
    "    string = openfile.readline()\n",
    "    while string != \"\":\n",
    "        print(string.rstrip())\n",
    "        string = openfile.readline()\n",
    "    \n",
    "main()"
   ]
  },
  {
   "cell_type": "markdown",
   "metadata": {},
   "source": [
    "처음에는 readline을 어떻게 사용할지 몰라 고민했다. 수업 자료에서 readline이란 것은 line을 string형태로 읽어온다고 써져 있어서 한 줄 마다 새로 string을 구성하기 위해서 while문을 작성했다. 그렇다면 readlines는 어떻게 사용하면 좋을까?"
   ]
  },
  {
   "cell_type": "code",
   "execution_count": 13,
   "metadata": {
    "scrolled": true
   },
   "outputs": [
    {
     "name": "stdout",
     "output_type": "stream",
     "text": [
      "['George Washington\\n', 'John Adams\\n', 'Thomas Jefferson\\n', 'James Madison\\n', 'James Monroe\\n', 'John Q. Adams\\n']\n"
     ]
    }
   ],
   "source": [
    "def main():\n",
    "    display_file4(\"firstUSPresidents.txt\")\n",
    "    \n",
    "def display_file4(filename):\n",
    "    openfile = open(filename, 'r')\n",
    "    stringList = openfile.readlines()\n",
    "    print(stringList)\n",
    "    \n",
    "main()"
   ]
  },
  {
   "cell_type": "markdown",
   "metadata": {},
   "source": [
    "readlines는 줄마다 line으로 읽어오는 readline과 달리 모든 줄을 한 번에 리스트의 원소로 불러오는 명령어인 것 같다."
   ]
  }
 ],
 "metadata": {
  "kernelspec": {
   "display_name": "Python 3",
   "language": "python",
   "name": "python3"
  },
  "language_info": {
   "codemirror_mode": {
    "name": "ipython",
    "version": 3
   },
   "file_extension": ".py",
   "mimetype": "text/x-python",
   "name": "python",
   "nbconvert_exporter": "python",
   "pygments_lexer": "ipython3",
   "version": "3.8.3"
  }
 },
 "nbformat": 4,
 "nbformat_minor": 4
}
