{
 "cells": [
  {
   "cell_type": "markdown",
   "metadata": {},
   "source": [
    "### Operator\n",
    "- Operators do something on operands"
   ]
  },
  {
   "cell_type": "code",
   "execution_count": 1,
   "metadata": {
    "scrolled": true
   },
   "outputs": [
    {
     "data": {
      "text/plain": [
       "1.0"
      ]
     },
     "execution_count": 1,
     "metadata": {},
     "output_type": "execute_result"
    }
   ],
   "source": [
    "3.5 // 2   # Integer division resulting in a float"
   ]
  },
  {
   "cell_type": "code",
   "execution_count": 2,
   "metadata": {
    "scrolled": true
   },
   "outputs": [
    {
     "data": {
      "text/plain": [
       "1"
      ]
     },
     "execution_count": 2,
     "metadata": {},
     "output_type": "execute_result"
    }
   ],
   "source": [
    "- 20 % 3   # Modulo (returns the remainder of the division)"
   ]
  },
  {
   "cell_type": "markdown",
   "metadata": {},
   "source": [
    "잘못하면 틀릴 수도 있으니까 연산과정을 주의하자. 나머지는 양수밖에 될 수 없으므로 3으로 -7을 곱하고 +1을 하는 거다. 그러면 나머지는 1이다."
   ]
  },
  {
   "cell_type": "markdown",
   "metadata": {},
   "source": [
    "- Relational operators\n",
    "![image](https://user-images.githubusercontent.com/61931924/96367285-e37fe900-1187-11eb-92d5-73e20e111273.png)"
   ]
  },
  {
   "cell_type": "markdown",
   "metadata": {},
   "source": [
    "- Methods that return either Boolen values\n",
    "![image](https://user-images.githubusercontent.com/61931924/96367302-014d4e00-1188-11eb-8450-1efc001f2c40.png)"
   ]
  },
  {
   "cell_type": "markdown",
   "metadata": {},
   "source": [
    "### Precedence and Order of Evaluation\n",
    "- The following table summarizes the rules for precedence of all operators, including those we have not yet discussed\n",
    "    - Rows are in order of increasing precedence\n",
    "    - Operators on the same line have the same precedence\n",
    "    ![image](https://user-images.githubusercontent.com/61931924/96367373-702aa700-1188-11eb-9a50-2008259693ba.png)\n",
    "    ![image](https://user-images.githubusercontent.com/61931924/96367388-8173b380-1188-11eb-91dd-9db4a9697d69.png)\n",
    "    - It is better to use parentheses to group operators and operands appropriately in order to explicitly specify the precedence"
   ]
  },
  {
   "cell_type": "markdown",
   "metadata": {},
   "source": [
    "### Decision Structures\n",
    "- __if__ and nested __if-else__ statement"
   ]
  },
  {
   "cell_type": "code",
   "execution_count": 5,
   "metadata": {
    "scrolled": true
   },
   "outputs": [
    {
     "name": "stdout",
     "output_type": "stream",
     "text": [
      "Enter an integer: 23\n",
      "Congratulations, you guessed it.\n",
      "(but you do not win any prizes!)\n",
      "Done\n"
     ]
    }
   ],
   "source": [
    "number = 23\n",
    "guess = int(input('Enter an integer: '))\n",
    "if guess == number:\n",
    "    # New block starts here\n",
    "    print('Congratulations, you guessed it.')\n",
    "    print('(but you do not win any prizes!)')\n",
    "    # New block ends here\n",
    "else:\n",
    "    if guess < number:\n",
    "        print('No, it is a little higher than that')\n",
    "    else:\n",
    "        print('No, it is a little lower than that')\n",
    "        \n",
    "print('Done')"
   ]
  },
  {
   "cell_type": "markdown",
   "metadata": {},
   "source": [
    "- The string entered by the user is converted to an integer using int() and then stored in the variable guess (assuming that the string contains a valid integer in the text)\n",
    "- A colon at the end of if statement indicates to Python that a block of statements follows\n",
    "- Notice that we use indentation levels to tell Python which statements belong to which block"
   ]
  },
  {
   "cell_type": "markdown",
   "metadata": {},
   "source": [
    "- The following code is equivalent to that of the previous example"
   ]
  },
  {
   "cell_type": "code",
   "execution_count": 9,
   "metadata": {
    "scrolled": true
   },
   "outputs": [
    {
     "name": "stdout",
     "output_type": "stream",
     "text": [
      "Enter an integer: 23\n",
      "Congratulations, you guessed it.\n",
      "(but you do not win any prizes!)\n",
      "Done\n"
     ]
    }
   ],
   "source": [
    "number = 23\n",
    "guess = int(input('Enter an integer: '))\n",
    "if guess == number:\n",
    "    print('Congratulations, you guessed it.')\n",
    "    print('(but you do not win any prizes!)')\n",
    "elif guess < number:\n",
    "    print('No, it is a little higher than that')\n",
    "else:\n",
    "    print('No, it is a little lower than that')\n",
    "\n",
    "print('Done')"
   ]
  },
  {
   "cell_type": "markdown",
   "metadata": {},
   "source": [
    "- This extension of the if-else statement allows for more than two possible alternatives with the inclusion of elif clauses\n",
    "    - Reduces the amount of indentation required"
   ]
  },
  {
   "cell_type": "markdown",
   "metadata": {},
   "source": [
    "- The __elif__ and __else__ parts are optional"
   ]
  },
  {
   "cell_type": "code",
   "execution_count": 10,
   "metadata": {
    "scrolled": true
   },
   "outputs": [
    {
     "name": "stdout",
     "output_type": "stream",
     "text": [
      "Enter the first number: 5\n",
      "Enter the second number: 10\n",
      "Enter the third number: 7\n",
      "The largest number is 10.\n"
     ]
    }
   ],
   "source": [
    "## Find the largest of three numbers.\n",
    "firstNumber = eval(input('Enter the first number: '))\n",
    "secondNumber = eval(input('Enter the second number: '))\n",
    "thirdNumber = eval(input('Enter the third number: '))\n",
    "\n",
    "# Determine and display the largest value.\n",
    "largest = firstNumber\n",
    "if secondNumber > largest:\n",
    "    largest = secondNumber\n",
    "if thirdNumber > largest:\n",
    "    largest = thirdNumber\n",
    "print('The largest number is', str(largest) + '.')\n"
   ]
  },
  {
   "cell_type": "markdown",
   "metadata": {},
   "source": [
    "- The integer stored in largest is converted to a string by str() before it is concatenated with another string (a period) by +"
   ]
  },
  {
   "cell_type": "markdown",
   "metadata": {},
   "source": [
    "- A space will be printed before the period if we change the print statement as follows"
   ]
  },
  {
   "cell_type": "code",
   "execution_count": 12,
   "metadata": {},
   "outputs": [
    {
     "name": "stdout",
     "output_type": "stream",
     "text": [
      "The largest number is 10 .\n"
     ]
    }
   ],
   "source": [
    "print('The largest number is', largest, '.')"
   ]
  },
  {
   "cell_type": "markdown",
   "metadata": {},
   "source": [
    "### The while Loop\n",
    "- while문은 조건이 True이면 돌아간다."
   ]
  },
  {
   "cell_type": "code",
   "execution_count": null,
   "metadata": {},
   "outputs": [],
   "source": [
    "number = 23\n",
    "running = True\n",
    "while running:\n",
    "    guess = int(input('Enter an integer: '))\n",
    "    if guess == number:\n",
    "        print('Congratulations, you guessed it.')\n",
    "        running = False # this causes the while loop to stop\n",
    "    elif guess < number:\n",
    "        print('No, it is a little higher than that.')\n",
    "    else:\n",
    "        print('No, it is a little lower than that.')\n",
    "else:\n",
    "    print('The while loop is over.')\n",
    "# Do anything else you want to do here\n",
    "print('Done')"
   ]
  },
  {
   "cell_type": "markdown",
   "metadata": {},
   "source": [
    "- If there is an else clause for a while loop, it is always executed unless you break out of the loop with a break statement\n",
    "- The True and False are called Boolean types and they are equivalent to the values 1 and 0, respectively"
   ]
  },
  {
   "cell_type": "code",
   "execution_count": 15,
   "metadata": {},
   "outputs": [
    {
     "name": "stdout",
     "output_type": "stream",
     "text": [
      "(Enter -1 to terminate entering numbers.)\n",
      "Enter a nonnegative integer: 5\n",
      "Enter a nonnegative integer: 3\n",
      "Enter a nonnegative integer: 9\n",
      "Enter a nonnegative integer: -1\n",
      "Minimum: 3\n",
      "Maximum: 9\n",
      "Average: 5.7\n"
     ]
    }
   ],
   "source": [
    "## Find the minimum, maximum, and average of a sequence of integers.\n",
    "count = 0   # number of nonnegative integers input\n",
    "total = 0   # sum of the nonnegative integers input\n",
    "# Obtain numbers and determine count, min, and max.\n",
    "print('(Enter -1 to terminate entering numbers.)')\n",
    "num = int(input('Enter a nonnegative integer: '))\n",
    "min = num\n",
    "max = num\n",
    "\n",
    "while num != -1:\n",
    "    count += 1\n",
    "    total += num\n",
    "    if num < min:\n",
    "        min = num\n",
    "    if num > max:\n",
    "        max = num\n",
    "    num = int(input('Enter a nonnegative integer: '))\n",
    "    \n",
    "if count > 0:\n",
    "    print('Minimum:', min)\n",
    "    print('Maximum:', max)\n",
    "    print('Average:', round(total / count, 1))\n",
    "else:\n",
    "    print('No nonnegative integers were entered.')\n"
   ]
  },
  {
   "cell_type": "markdown",
   "metadata": {},
   "source": [
    "### The for Loop\n",
    "- sequence might be an arithmetic progression of numbers, a string, a list, a tuple, or a file object\n",
    "    - When m and n are integers such that m < n, we can use the function list(range(m, n)) to generate   \n",
    "    [m, m + 1, m + 2, . . . , n – 1]\n",
    "    - range(m, n, s) takes the step count of s instead of 1(When m > n, s can be a negative integer)\n",
    "    - range(0, n) can be abbreviated to range(n)"
   ]
  },
  {
   "cell_type": "code",
   "execution_count": 17,
   "metadata": {},
   "outputs": [
    {
     "name": "stdout",
     "output_type": "stream",
     "text": [
      "1\n",
      "2\n",
      "3\n",
      "4\n",
      "The for loop is over\n"
     ]
    }
   ],
   "source": [
    "for i in range(1, 5):\n",
    "    print(i)\n",
    "else:\n",
    "    print('The for loop is over')"
   ]
  },
  {
   "cell_type": "markdown",
   "metadata": {},
   "source": [
    "- The else part is optional\n",
    "     - When included, it is always executed once after the for loop is over unless a break statement is encountered"
   ]
  },
  {
   "cell_type": "code",
   "execution_count": 20,
   "metadata": {},
   "outputs": [
    {
     "name": "stdout",
     "output_type": "stream",
     "text": [
      "Enter a number from 1 to 20: 5\n",
      "*\n",
      "**\n",
      "***\n",
      "****\n",
      "*****\n"
     ]
    }
   ],
   "source": [
    "## Display a triangle of asterisks.\n",
    "numberOfRows = int(input('Enter a number from 1 to 20: '))\n",
    "for i in range(numberOfRows):\n",
    "    for j in range(i + 1):\n",
    "        print('*', end='')\n",
    "    print()"
   ]
  },
  {
   "cell_type": "markdown",
   "metadata": {},
   "source": [
    "- Looping through the characters of a string:"
   ]
  },
  {
   "cell_type": "code",
   "execution_count": 23,
   "metadata": {},
   "outputs": [
    {
     "name": "stdout",
     "output_type": "stream",
     "text": [
      "Enter a word: 고라쩌어\n",
      "The reversed word is 어쩌라고.\n"
     ]
    }
   ],
   "source": [
    "word = input('Enter a word: ')\n",
    "reversedWord = ''\n",
    "for ch in word:\n",
    "    reversedWord = ch + reversedWord\n",
    "print('The reversed word is ' + reversedWord + '.')"
   ]
  },
  {
   "cell_type": "markdown",
   "metadata": {},
   "source": [
    "Looping through the lines of a text file:\n",
    ">   infile = open('fileName.txt', 'r')  \n",
    "    for line in infile:  \n",
    "    &nbsp; indented block of statements  \n",
    "    infile.close()  \n",
    "    \n",
    "    \n",
    "- First statement establishes connection between program and file(assuming the file is in the same folder as the program)\n",
    "- for loop reads each line of the file in succession\n",
    "     - line contains each line as a string\n",
    "     - Executes indented block of statement(s) for each line\n",
    "- Last statement terminates the connection"
   ]
  },
  {
   "cell_type": "markdown",
   "metadata": {},
   "source": [
    "- Looping through the lines of a text file:"
   ]
  },
  {
   "cell_type": "code",
   "execution_count": 1,
   "metadata": {},
   "outputs": [
    {
     "name": "stdout",
     "output_type": "stream",
     "text": [
      "Enter a first name: John\n",
      "John Adams\n",
      "John Quincy Adams\n",
      "John Tyler\n",
      "John F. Kennedy\n"
     ]
    }
   ],
   "source": [
    "firstName = input('Enter a first name: ')\n",
    "foundFlag = False\n",
    "infile = open('data/USPresidents.txt', 'r')\n",
    "for line in infile:\n",
    "    if line.startswith(firstName + ' '):\n",
    "        print(line.rstrip())\n",
    "        foundFlag = True\n",
    "infile.close()\n",
    "if not foundFlag:\n",
    "    print('No president had the first name', firstName + '.')"
   ]
  },
  {
   "cell_type": "markdown",
   "metadata": {},
   "source": [
    "- The pass statement:\n",
    "     - The header of a for loop must be followed by an indented block of at least one statement\n",
    "     - The pass statement is a do-nothing placeholder statement"
   ]
  },
  {
   "cell_type": "code",
   "execution_count": 5,
   "metadata": {},
   "outputs": [
    {
     "name": "stdout",
     "output_type": "stream",
     "text": [
      "Barack Obama\n"
     ]
    }
   ],
   "source": [
    "infile = open('data/USPresidents.txt', 'r')\n",
    "for line in infile:\n",
    "    pass\n",
    "print(line.rstrip())\n",
    "infile.close()"
   ]
  },
  {
   "cell_type": "markdown",
   "metadata": {},
   "source": [
    "### The break Statement\n",
    "- The break statement causes an exit from anywhere in the body of a loop terminating the loop, even if the loop condition has not become False or the sequence of items has not been completely iterated over\n",
    "- If you break out of a for or while loop, __any corresponding loop else block is not executed__"
   ]
  },
  {
   "cell_type": "code",
   "execution_count": 6,
   "metadata": {},
   "outputs": [
    {
     "name": "stdout",
     "output_type": "stream",
     "text": [
      "Enter QUIT to terminate entering something\n",
      "Enter something : gsjlksdf\n",
      "Length of the string is 8\n",
      "Enter something : QUIT\n"
     ]
    }
   ],
   "source": [
    "print('Enter QUIT to terminate entering something')\n",
    "while True:\n",
    "    s = input('Enter something : ')\n",
    "    if s == 'QUIT':\n",
    "        break\n",
    "    print('Length of the string is', len(s))\n",
    "else:\n",
    "    print('Done')"
   ]
  },
  {
   "cell_type": "markdown",
   "metadata": {},
   "source": [
    "### The continue Statement\n",
    "- The continue statement causes Python to skip the rest of the statements in the current loop body and to continue to the next iteration of the loop"
   ]
  },
  {
   "cell_type": "code",
   "execution_count": 8,
   "metadata": {},
   "outputs": [
    {
     "name": "stdout",
     "output_type": "stream",
     "text": [
      "Enter something : sg\n",
      "Too short\n",
      "Enter something : qusgsd\n",
      "Input is of sufficient length\n",
      "Enter something : quit\n"
     ]
    }
   ],
   "source": [
    "while True:\n",
    "    s = input('Enter something : ')\n",
    "    if s == 'quit':\n",
    "        break\n",
    "    if len(s) < 3:\n",
    "        print('Too short')\n",
    "        continue\n",
    "    print('Input is of sufficient length')"
   ]
  }
 ],
 "metadata": {
  "kernelspec": {
   "display_name": "Python 3",
   "language": "python",
   "name": "python3"
  },
  "language_info": {
   "codemirror_mode": {
    "name": "ipython",
    "version": 3
   },
   "file_extension": ".py",
   "mimetype": "text/x-python",
   "name": "python",
   "nbconvert_exporter": "python",
   "pygments_lexer": "ipython3",
   "version": "3.8.3"
  }
 },
 "nbformat": 4,
 "nbformat_minor": 4
}
