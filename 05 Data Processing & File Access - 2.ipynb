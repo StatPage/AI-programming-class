{
 "cells": [
  {
   "cell_type": "markdown",
   "metadata": {},
   "source": [
    "### Sets\n",
    "- A set is an unordered collection of items (referred to as elements) with no duplicates\n",
    "\n",
    "-- Sets can contain cunbers, strings, tuples, and Boolean values  \n",
    "-- Some examples of sets are {\"spam\", \"ni\"}, {3, 4, 7}  \n",
    "-- Sets cannot contain lists or other sets  \n",
    "-- Since the elements have no order, they cannot be indexed  \n",
    "    - Slicing and list methods such as sord and reverse are meaningless\n",
    "\n",
    "- Useful set operations include membership test, subset test, intersection, and so on"
   ]
  }
 ],
 "metadata": {
  "kernelspec": {
   "display_name": "Python 3",
   "language": "python",
   "name": "python3"
  },
  "language_info": {
   "codemirror_mode": {
    "name": "ipython",
    "version": 3
   },
   "file_extension": ".py",
   "mimetype": "text/x-python",
   "name": "python",
   "nbconvert_exporter": "python",
   "pygments_lexer": "ipython3",
   "version": "3.8.3"
  }
 },
 "nbformat": 4,
 "nbformat_minor": 4
}
