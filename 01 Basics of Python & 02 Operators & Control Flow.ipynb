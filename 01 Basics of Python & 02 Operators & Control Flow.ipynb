{
 "cells": [
  {
   "cell_type": "markdown",
   "metadata": {},
   "source": [
    "### Values and Types"
   ]
  },
  {
   "cell_type": "code",
   "execution_count": 1,
   "metadata": {},
   "outputs": [
    {
     "data": {
      "text/plain": [
       "(1, 0, 0)"
      ]
     },
     "execution_count": 1,
     "metadata": {},
     "output_type": "execute_result"
    }
   ],
   "source": [
    "1,000,000 "
   ]
  },
  {
   "cell_type": "markdown",
   "metadata": {},
   "source": [
    "파이썬은 쉼표(,)를 기준으로 나눠서 입력을 받기 때문에 Syntax Error가 발생하지 않더라도 의도했던 것과는 다르게 프로그램이 생성될 수도 있다."
   ]
  },
  {
   "cell_type": "markdown",
   "metadata": {},
   "source": [
    "### Numbers\n",
    "- Integers\n",
    "- Floats(floating point numbers):  \n",
    "    $34.$   $3.23$   $52.3E-4(=52.3 \\times 10^{-4}$"
   ]
  },
  {
   "cell_type": "code",
   "execution_count": 3,
   "metadata": {
    "scrolled": true
   },
   "outputs": [
    {
     "name": "stdout",
     "output_type": "stream",
     "text": [
      "0.00052 500000.0\n"
     ]
    }
   ],
   "source": [
    "print(52e-5, 5.e+5)"
   ]
  },
  {
   "cell_type": "markdown",
   "metadata": {},
   "source": [
    "### Variables\n",
    "- Naming rule:\n",
    "    - Must begin with a letter or an underscore(_)\n",
    "    - __Descriptive variable names help others (and yourself) easyily recall what the variable represents__\n",
    "\n",
    "- Python's keywords cannot be used as variable names\n",
    "     - example: and, as, assert, from, with, yield, global\n",
    "\n",
    "- Numeric objects in Memory:"
   ]
  },
  {
   "cell_type": "code",
   "execution_count": 4,
   "metadata": {},
   "outputs": [],
   "source": [
    "n = 5\n",
    "n = 7"
   ]
  },
  {
   "cell_type": "markdown",
   "metadata": {},
   "source": [
    "The number 5 in memory is said to be __orphaned__ or __abandoned__  \n",
    "Python will eventually remove the orphaned number from memory with a process called garbage collection"
   ]
  },
  {
   "cell_type": "markdown",
   "metadata": {},
   "source": [
    "### Strings\n",
    "- Strings are immutable\n",
    "    - Cannot be changed once created\n",
    "- A string is a sequence of characters\n",
    "    - Triple quotes(\"\"\" or ''') can be used to specify multi-line strings in which single quotes and double quotes can be used freely"
   ]
  },
  {
   "cell_type": "markdown",
   "metadata": {},
   "source": [
    "- Two strings can be concatenated by using the + operator\n",
    "- A string can be repeatedly concatenated by using the * operator\n",
    "- When a string expression appears in an assignment statement or a print statement, the string expression is evaluated before being assigned or displayed"
   ]
  },
  {
   "cell_type": "markdown",
   "metadata": {},
   "source": [
    "### String Functions and Methods\n",
    "- The _eval_ function evaluates the expression to an integer or floating-point number as appropriate(expression은 string까지 포함한 말이다)."
   ]
  },
  {
   "cell_type": "code",
   "execution_count": 6,
   "metadata": {
    "scrolled": true
   },
   "outputs": [
    {
     "data": {
      "text/plain": [
       "10"
      ]
     },
     "execution_count": 6,
     "metadata": {},
     "output_type": "execute_result"
    }
   ],
   "source": [
    "a = 5\n",
    "eval('5 + a')"
   ]
  },
  {
   "cell_type": "markdown",
   "metadata": {},
   "source": [
    "- The _exec_ function takes a string consisting of Python code and executes it"
   ]
  },
  {
   "cell_type": "code",
   "execution_count": 9,
   "metadata": {},
   "outputs": [
    {
     "name": "stdout",
     "output_type": "stream",
     "text": [
      "5\n",
      "11\n"
     ]
    }
   ],
   "source": [
    "exec('x=5')\n",
    "print(x)\n",
    "exec('y=6')\n",
    "print(eval('x+y'))\n",
    "exec('x+y')"
   ]
  },
  {
   "cell_type": "markdown",
   "metadata": {},
   "source": [
    "exec function은 새로운 값을 반환하지 않는 string expression이고 statement이다. 그러므로 반환은 하지 않고 선언만 한다."
   ]
  },
  {
   "cell_type": "markdown",
   "metadata": {},
   "source": [
    "- The _int_ and _float_ can also be applied to numeric expressions\n",
    "\n",
    "\n",
    "- The _str_ function converts a number to its string representation\n",
    "\n",
    "\n",
    "- A string method is a process that performs a task on a string\n",
    "    - The general form of an expression applying a method is  \n",
    "            stirngName.methodName()  \n",
    "      where the parentheses might contain values\n",
    "      \n",
    "      \n",
    "- String operations (str1 = \"Python\")\n",
    "> len, upper, lower, count,  \n",
    "capitalize: capitalizes the first letter of the string and lowercases the rest  \n",
    "title: capitalizes the first letter of each word in the string and lowercases the rest  \n",
    "rstrip: remoces spaces from the right side of the string"
   ]
  },
  {
   "cell_type": "markdown",
   "metadata": {},
   "source": [
    "- Chained methods:\n",
    "    - Several methods can be combined into a single line by chaining the two methods\n",
    "    - Chained methods are executed from left to right\n",
    "    - Chaining often produces clearer code since it eliminates temporary variables, such as the variables, such as the variables _hello_ below"
   ]
  },
  {
   "cell_type": "code",
   "execution_count": 11,
   "metadata": {},
   "outputs": [
    {
     "name": "stdout",
     "output_type": "stream",
     "text": [
      "2 2\n"
     ]
    }
   ],
   "source": [
    "hello = \"Good Bye\".upper()\n",
    "numberOfO1 = hello.count('O')\n",
    "\n",
    "numberOfO2 = \"Good Bye\".upper().count('O')\n",
    "print(numberOfO1, numberOfO2)"
   ]
  },
  {
   "cell_type": "markdown",
   "metadata": {},
   "source": [
    "### Indices and Slices\n",
    "- Python allows strings to be indexed by their position from the right side of the string by using negative numbers for indices"
   ]
  },
  {
   "cell_type": "code",
   "execution_count": 12,
   "metadata": {
    "scrolled": true
   },
   "outputs": [
    {
     "name": "stdout",
     "output_type": "stream",
     "text": [
      "n hon\n"
     ]
    }
   ],
   "source": [
    "print('Python'[-1], 'Python'[-3:])"
   ]
  },
  {
   "cell_type": "markdown",
   "metadata": {},
   "source": [
    "### Optional print Arguments\n",
    "- We can optionally change the separator with _sep_ argument\n",
    "- _print_ always ends with an invisible wpecial character \"new line\"(\\n) so that repeated calls to print will all appear on a separate new line each"
   ]
  },
  {
   "cell_type": "code",
   "execution_count": 13,
   "metadata": {
    "scrolled": true
   },
   "outputs": [
    {
     "name": "stdout",
     "output_type": "stream",
     "text": [
      "Whynot?\n"
     ]
    }
   ],
   "source": [
    "print(\"Why\", \"not\", \"?\", sep=\"\")"
   ]
  },
  {
   "cell_type": "markdown",
   "metadata": {},
   "source": [
    "- We can optionally change the ending operation with _end_ argument"
   ]
  },
  {
   "cell_type": "code",
   "execution_count": 14,
   "metadata": {},
   "outputs": [
    {
     "name": "stdout",
     "output_type": "stream",
     "text": [
      "Why not ?\n"
     ]
    }
   ],
   "source": [
    "print(\"Why\", end=\" \")\n",
    "print(\"not\", \"?\")"
   ]
  },
  {
   "cell_type": "markdown",
   "metadata": {},
   "source": [
    "### The format Method\n",
    "- Strings can be constructed from other information\n",
    "    - Python substitutes each of the format argument value into the place of th corresponding specification in the string\n",
    "    - Note that Python starts counting from 0"
   ]
  }
 ],
 "metadata": {
  "kernelspec": {
   "display_name": "Python 3",
   "language": "python",
   "name": "python3"
  },
  "language_info": {
   "codemirror_mode": {
    "name": "ipython",
    "version": 3
   },
   "file_extension": ".py",
   "mimetype": "text/x-python",
   "name": "python",
   "nbconvert_exporter": "python",
   "pygments_lexer": "ipython3",
   "version": "3.8.3"
  }
 },
 "nbformat": 4,
 "nbformat_minor": 4
}
