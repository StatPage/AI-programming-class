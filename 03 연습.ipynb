{
 "cells": [
  {
   "cell_type": "markdown",
   "metadata": {},
   "source": [
    "### 문제: 길이 5의 리스트를 생성 후 3번쨰 원소를 제거하시오."
   ]
  },
  {
   "cell_type": "markdown",
   "metadata": {},
   "source": [
    "### 문제: 원소가 2,7,3,6,8,3,6인 리스트를 생성 후 del function이 아닌 method로 첫 번째 3을 리스트에서 제거하시오."
   ]
  },
  {
   "cell_type": "markdown",
   "metadata": {},
   "source": [
    "### 문제: 's p l i t'을 변수에 지정하고 이를 분리하고 다시 붙이시오."
   ]
  },
  {
   "cell_type": "markdown",
   "metadata": {},
   "source": [
    "### 문제: 원소가 1,2,3,4,5,6,7,8,9,10인 리스트를 생성후 세 번째 원소부터 3칸 간격으로 추출하시오."
   ]
  },
  {
   "cell_type": "markdown",
   "metadata": {},
   "source": [
    "### 문제: 문자열을 만든 후 리스트로 변형하시오."
   ]
  },
  {
   "cell_type": "markdown",
   "metadata": {},
   "source": [
    "### 문제: 리스트를 생성 후 복사하는 두 가지 방법으로 새로운 객체를 생성하시오."
   ]
  },
  {
   "cell_type": "markdown",
   "metadata": {},
   "source": [
    "### 문제: 'Timer'에서 'e' 와 'a'가 있는지 확인하는 명령어를 작성하시오."
   ]
  },
  {
   "cell_type": "markdown",
   "metadata": {},
   "source": [
    "### 문제: 위의 명령어와 똑같은 기능을 하는 함수 혹은 method를 사용히시오."
   ]
  }
 ],
 "metadata": {
  "kernelspec": {
   "display_name": "Python 3",
   "language": "python",
   "name": "python3"
  },
  "language_info": {
   "codemirror_mode": {
    "name": "ipython",
    "version": 3
   },
   "file_extension": ".py",
   "mimetype": "text/x-python",
   "name": "python",
   "nbconvert_exporter": "python",
   "pygments_lexer": "ipython3",
   "version": "3.8.3"
  }
 },
 "nbformat": 4,
 "nbformat_minor": 4
}
