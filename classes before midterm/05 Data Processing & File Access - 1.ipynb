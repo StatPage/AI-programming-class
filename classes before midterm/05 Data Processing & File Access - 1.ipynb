{
 "cells": [
  {
   "cell_type": "markdown",
   "metadata": {},
   "source": [
    "### Reading Text Files\n",
    "\n",
    "파일을 불러오는데 for문과 list comprehension을 사용할 수도 있지만 Readline을 통해 불러보겠다. 실은 이해가 안되서."
   ]
  },
  {
   "cell_type": "code",
   "execution_count": 10,
   "metadata": {
    "scrolled": true
   },
   "outputs": [
    {
     "name": "stdout",
     "output_type": "stream",
     "text": [
      "George Washington\n",
      "John Adams\n",
      "Thomas Jefferson\n"
     ]
    }
   ],
   "source": [
    "def main():\n",
    "    ## Display the names of the first three presidents.\n",
    "    file = \"FirstPresidents.txt\"\n",
    "    displayWithForLoop(file)\n",
    "    print()\n",
    "    displayWithListComprehension(file)\n",
    "    print()\n",
    "    displayWithReadline(file)\n",
    "\n",
    "def displayWithForLoop(file):\n",
    "    infile = open(file, 'r')\n",
    "    for line in infile:\n",
    "        print(line.rstrip())\n",
    "    infile.close()\n",
    "\n",
    "def displayWithListComprehension(file):\n",
    "    infile = open(file, 'r')\n",
    "    listPres = [line.rstrip() for line in infile]\n",
    "    infile.close()\n",
    "    print(listPres)\n",
    "\n",
    "def displayWithReadline(file):\n",
    "    infile = open(file, 'r')\n",
    "    line = infile.readline()\n",
    "    while line != \"\":\n",
    "        print(line.rstrip())\n",
    "        line = infile.readline()\n",
    "    infile.close()\n",
    "\n",
    "main()"
   ]
  },
  {
   "cell_type": "markdown",
   "metadata": {},
   "source": [
    "- After all the lines of the file have been read, the readline method returns the empty string"
   ]
  },
  {
   "cell_type": "markdown",
   "metadata": {},
   "source": [
    "### Creating Text Files\n",
    "A statement of the form  \n",
    ">    outfile = open(fileName, 'w')  \n",
    "     outfile.writelines(list1)  # 단 list1이 newline character로 끝나는 string들로 이루어져야 한다.  \n",
    "     outfile.write(strVar)   # write를 하나씩 해주고 싶을 때 사용하면 된다.  \n",
    "    \n",
    "파일은 반드시 __close()__ 해줘야 디스크에 옮겨진다."
   ]
  },
  {
   "cell_type": "code",
   "execution_count": 2,
   "metadata": {},
   "outputs": [],
   "source": [
    "def main():\n",
    "    L = [\"George washington\", \"John Adams\", \"Thomas Jefferson\"]\n",
    "    outfile = open(\"data/firstUSPresident2.txt\", 'w')\n",
    "    createWithWrite(L, outfile)\n",
    "    outfile = open(\"data/firstUSPresidents3.txt\", 'w')\n",
    "    createWithWritelines(L, outfile)\n",
    "    \n",
    "# 입력해줄 때마다 \\n을 붙여주는 방법의 .write()\n",
    "def createWithWrite(L, outfile):\n",
    "    for i in range(len(L)):\n",
    "        outfile.write(L[i]+\"\\n\")  # write는 한 줄에 대통령 이름을 한 줄씩 입력하게 된다.\n",
    "    outfile.close()\n",
    "    \n",
    "# 리스트의 모든 원소에 \\n을 붙여주고 한 번에 입력하는 .writelines()\n",
    "def createWithWritelines(L, outfile):\n",
    "    for i in range(len(L)):\n",
    "        L[i] = L[i] + '\\n'\n",
    "    outfile.writelines(L)\n",
    "    outfile.close()\n",
    "\n",
    "main()"
   ]
  },
  {
   "cell_type": "markdown",
   "metadata": {},
   "source": [
    "- If an existing file is opened for writing, its original content will be replaced by new content"
   ]
  },
  {
   "cell_type": "code",
   "execution_count": 20,
   "metadata": {},
   "outputs": [],
   "source": [
    "def main():\n",
    "    statesList = createListFromFile(\"States.txt\")\n",
    "    createSortedFile(statesList, \"StatesAlpha.txt\")\n",
    "\n",
    "def createListFromFile(fileName):\n",
    "    infile = open(fileName, 'r')\n",
    "    desiredList = [line.rstrip() for line in infile]\n",
    "    infile.close()\n",
    "    return desiredList\n",
    "\n",
    "def createSortedFile(listName, fileName):\n",
    "    listName.sort()\n",
    "    for i in range(len(listName)):\n",
    "        listName[i] = listName[i] + \"\\n\"  # 리스트의 원소들에 모두 newline character를 넣어준다.\n",
    "    outfile = open(fileName, 'w')  # 리스트의 원소들을 새로 만들어줬으니까 새로운 파일을 작성하자.\n",
    "    outfile.writelines(listName)\n",
    "    outfile.close()\n",
    "\n",
    "main()"
   ]
  },
  {
   "cell_type": "markdown",
   "metadata": {},
   "source": [
    "#### Adding Lines to an Existing Text File\n",
    "- A statement of the form\n",
    "    outfile = open(fileName, 'a')\n",
    "    allows the program to add lines to the end of the specified file"
   ]
  },
  {
   "cell_type": "code",
   "execution_count": 23,
   "metadata": {},
   "outputs": [],
   "source": [
    "def main():\n",
    "    outfile = open(\"firstUSPresidents.txt\", 'a')\n",
    "    list1 = [\"James Madison\\n\", 'James Monroe\\n']\n",
    "    outfile.writelines(list1)\n",
    "    outfile.write(\"John Q. Adams\\n\")\n",
    "    outfile.close()\n",
    "main()"
   ]
  },
  {
   "cell_type": "markdown",
   "metadata": {},
   "source": [
    "- Altering, inserting, or deleting a aline of a text file cannot be made directly  \n",
    "    -- A new file must be created by reading each item from the original file and recording it, with the changes, into the new file  \n",
    "    -- The old file is then erased, and the new file is renamed with the name of the original file  \n",
    "- To gain access to the functions needed for these tasks, we must first import the standard library module os with the statement  \n",
    "    __import os__  \n",
    "    and then delete the specified file using the statement  \n",
    "    __os.remove(fileName)__\n",
    "- The statement  \n",
    "    __os.rename(oldFileName, newFileName)__  \n",
    "    will change the name and possibly the path of a file\n",
    "- The __remove__ and __rename__ functions cannot be used with open files  \n",
    "    -- The second argument of the rename function cannot be the name of an existing file  \n",
    "    -- An error message is generated if the file to be removed, renamed, or opened for reading does not exist\n",
    "- To verify if a file exists before attempting to rename, delete, or read it, we can use  \n",
    "    __os.path.isfile(fileName)__  \n",
    "    That returns True if the specified file exists and False otherwise "
   ]
  },
  {
   "cell_type": "code",
   "execution_count": 3,
   "metadata": {},
   "outputs": [
    {
     "name": "stdout",
     "output_type": "stream",
     "text": [
      "exist\n"
     ]
    }
   ],
   "source": [
    "import os\n",
    "if os.path.isfile(\"USPresidents.txt\"):\n",
    "    print(\"exist\")\n",
    "else:\n",
    "    print(\"not exist\")"
   ]
  },
  {
   "cell_type": "code",
   "execution_count": 4,
   "metadata": {},
   "outputs": [],
   "source": [
    "import os.path\n",
    "if os.path.isfile(\"ABC.txt\"):\n",
    "    print(\"File already exists.\")\n",
    "else:\n",
    "    infile = open(\"ABC.txt\", 'w')\n",
    "    infile.write(\"a\\nb\\nc\\n\")\n",
    "    infile.close()"
   ]
  }
 ],
 "metadata": {
  "kernelspec": {
   "display_name": "Python 3",
   "language": "python",
   "name": "python3"
  },
  "language_info": {
   "codemirror_mode": {
    "name": "ipython",
    "version": 3
   },
   "file_extension": ".py",
   "mimetype": "text/x-python",
   "name": "python",
   "nbconvert_exporter": "python",
   "pygments_lexer": "ipython3",
   "version": "3.8.3"
  }
 },
 "nbformat": 4,
 "nbformat_minor": 4
}
