{
 "cells": [
  {
   "cell_type": "markdown",
   "metadata": {},
   "source": [
    "## 과제\n",
    "![image](https://user-images.githubusercontent.com/61931924/96476081-c6bee080-126f-11eb-9cc8-0a41f68299f3.png)\n",
    "![image](https://user-images.githubusercontent.com/61931924/96476243-ea822680-126f-11eb-8ce6-f75eee19841f.png)"
   ]
  },
  {
   "cell_type": "code",
   "execution_count": 1,
   "metadata": {},
   "outputs": [
    {
     "name": "stdout",
     "output_type": "stream",
     "text": [
      "Enter a nonzero integer: 5\n",
      "The reciprocal of 5 is 0.200\n"
     ]
    }
   ],
   "source": [
    "# 29\n",
    "while True:\n",
    "    try:\n",
    "        n = int(input(\"Enter a nonzero integer: \"))\n",
    "        reciprocal = 1 / n\n",
    "        print(\"The reciprocal of {0} is {1:,.3f}\".format(n, reciprocal))\n",
    "        break\n",
    "    except ValueError:\n",
    "        print(\"You did not enter a nonzero integer. Try again\")\n",
    "    except ZeroDivisionError:\n",
    "        print(\"You entered zero. Try again.\")"
   ]
  },
  {
   "cell_type": "code",
   "execution_count": null,
   "metadata": {},
   "outputs": [],
   "source": [
    "# 31\n",
    "while True:\n",
    "    try:\n",
    "        num = int(input(\"Enter a integer from 1 to 100: \"))\n",
    "        if 1 <= num <= 100:\n",
    "            print(\"Your number is\", str(num) + '.')\n",
    "            break\n",
    "        else:\n",
    "            print(\"Your number was not between 1 and 100.\")\n",
    "    except:\n",
    "        print(\"You did not enter an integer.\")     "
   ]
  },
  {
   "cell_type": "code",
   "execution_count": 2,
   "metadata": {},
   "outputs": [
    {
     "name": "stdout",
     "output_type": "stream",
     "text": [
      "1\n",
      "2\n",
      "3\n",
      "4\n",
      "5\n"
     ]
    }
   ],
   "source": [
    "# 8\n",
    "def displaySequenceOfNumbers(m, n):\n",
    "    if m <= n:\n",
    "        print(m)\n",
    "        displaySequenceOfNumbers(m+1,n)\n",
    "        \n",
    "displaySequenceOfNumbers(1, 5)"
   ]
  },
  {
   "cell_type": "code",
   "execution_count": null,
   "metadata": {},
   "outputs": [],
   "source": [
    "# 13\n",
    "def main():\n",
    "    state = ''\n",
    "    getState(state)\n",
    "    \n",
    "def getState(state):\n",
    "    state = input(\"Enter a state: \")\n",
    "    if state != 'End':\n",
    "        getState(state)\n",
    "        print(state)\n",
    "        \n",
    "main()"
   ]
  },
  {
   "cell_type": "markdown",
   "metadata": {},
   "source": [
    "재귀 함수: 자기 자신을 다시 호출하여 작업을 수행하는 방식"
   ]
  },
  {
   "cell_type": "markdown",
   "metadata": {},
   "source": [
    "### 문제: 제곱하는 함수를 재귀적 방식으로 작성하라. ex) power(2,3) → 8"
   ]
  },
  {
   "cell_type": "code",
   "execution_count": 9,
   "metadata": {},
   "outputs": [
    {
     "name": "stdout",
     "output_type": "stream",
     "text": [
      "256\n"
     ]
    }
   ],
   "source": [
    "def power(r, n):\n",
    "    if n == 1:\n",
    "        return r\n",
    "    else:\n",
    "        return r * power(r, n-1)\n",
    "        \n",
    "print(power(2, 8))"
   ]
  },
  {
   "cell_type": "markdown",
   "metadata": {},
   "source": [
    "부족한 점: \n",
    "1. n이 1에 도달했을 때 값을 반환한 것은 좋았지만 그 전에 실행한 함수들이 마친 다음 또 반환하는 명령어를 작성하지 않아 값이 출력이 되지 않았다. n = 1일 때를 제외한 상황도 반환 또는 출력할 수 있도록 하자."
   ]
  },
  {
   "cell_type": "markdown",
   "metadata": {},
   "source": [
    "### 문제: 입력된 문자가 대칭인지 확인하는 함수를 재귀를 통해 작성하시오."
   ]
  },
  {
   "cell_type": "code",
   "execution_count": 12,
   "metadata": {},
   "outputs": [
    {
     "name": "stdout",
     "output_type": "stream",
     "text": [
      "False\n",
      "True\n"
     ]
    }
   ],
   "source": [
    "def palin(word):\n",
    "    if len(word) <= 1:\n",
    "        return True\n",
    "    elif word[0] == word[-1]:\n",
    "        word = word[1:-1]\n",
    "        return palin(word)\n",
    "    else:\n",
    "        return False\n",
    "    \n",
    "print(palin('banana'))\n",
    "print(palin('lol'))"
   ]
  },
  {
   "cell_type": "markdown",
   "metadata": {},
   "source": [
    "### 문제: 변수 a와 b에 문자 'float'와 'int'가 입력되어 있다.  단 한 줄로 이 둘의 값을 변경하시오."
   ]
  },
  {
   "cell_type": "code",
   "execution_count": 13,
   "metadata": {},
   "outputs": [
    {
     "name": "stdout",
     "output_type": "stream",
     "text": [
      "int float\n"
     ]
    }
   ],
   "source": [
    "a = 'float'\n",
    "b = 'int'\n",
    "a, b = b, a\n",
    "print(a, b)"
   ]
  },
  {
   "cell_type": "markdown",
   "metadata": {},
   "source": [
    "### 문제: 숫자 외에는 인정하지 않고 경고 문자를 띄우며 숫자를 입력할 때까지 다시 입력하는 프로그램을 작성하시오."
   ]
  },
  {
   "cell_type": "code",
   "execution_count": 14,
   "metadata": {},
   "outputs": [
    {
     "name": "stdout",
     "output_type": "stream",
     "text": [
      "Enter the number: sdg\n",
      "You are wrong. Try again\n",
      "Enter the number: w\n",
      "You are wrong. Try again\n",
      "Enter the number: 5.5\n",
      "You are wrong. Try again\n",
      "Enter the number: 몰라\n",
      "You are wrong. Try again\n",
      "Enter the number: 하고 싶다\n",
      "You are wrong. Try again\n",
      "Enter the number: 공부를\n",
      "You are wrong. Try again\n",
      "Enter the number: !!!!\n",
      "You are wrong. Try again\n",
      "Enter the number: 5\n",
      "Input number is 5\n"
     ]
    }
   ],
   "source": [
    "def main():\n",
    "    while True:\n",
    "        try:\n",
    "            number = int(input(\"Enter the number: \"))\n",
    "            break\n",
    "        except ValueError:\n",
    "            print(\"You are wrong. Try again\")\n",
    "            \n",
    "    print(\"Input number is\", number)\n",
    "main()"
   ]
  },
  {
   "cell_type": "markdown",
   "metadata": {},
   "source": [
    "### 문제: 있는 파일을 입력할 때까지 에러를 처리하면서 경고문구를 출력하는 프로그램을 작성하시오."
   ]
  },
  {
   "cell_type": "code",
   "execution_count": 17,
   "metadata": {},
   "outputs": [
    {
     "name": "stdout",
     "output_type": "stream",
     "text": [
      "Enter the file's name: data/UN.txt\n",
      "['Afghanistan,Asia,31.8,251772', 'Albania,Europe,3.0,11100', 'Algeria,Africa,38.3,919595', 'Andorra,Europe,.085,181', 'Angola,Africa,19.1,481354', 'Antigua and Barbuda,North America,.091,108', 'Argentina,South America,44.0,1068302', 'Armenia,Asia,3.1,11506', 'Australia,Australia/Oceania,22.5,2967909', 'Austria,Europe,8.2,32383', 'Azerbaijan,Asia,9.7,33436', 'Bahamas,North America,.32,5358', 'Bahrain,Asia,1.3,253', 'Bangladesh,Asia,166.3,55599', 'Barbados,North America,.29,167', 'Belarus,Europe,9.6,80155', 'Belgium,Europe,10.4,11787', 'Belize,North America,.34,8867', 'Benin,Africa,10.2,43484', 'Bhutan,Asia,.73,14824', 'Bolivia,South America,10.6,424163', 'Bosnia and Herzegovina,Europe,3.9,19767', 'Botswana,Africa,2.2,224606', 'Brazil,South America,202.7,3287597', 'Brunei Darussalam,Asia,.42,2226', 'Bulgaria,Europe,6.9,42823', 'Burkina Faso,Africa,18.4,105792', 'Burundi,Africa,10.4,10745', 'Cambodia,Asia,15.5,69898', 'Cameroon,Africa,23.1,183568', 'Canada,North America,34.8,3855000', 'Cape Verde,Africa,.54,1557', 'Central African Republic,Africa,5.3,240534', 'Chad,Africa,11.4,495753', 'Chile,South America,17.4,292183', 'China,Asia,1355.7,3696100', 'Colombia,South America,46.2,440839', 'Comoros,Africa,.77,863', 'Costa Rica,North America,4.8,19730', \"Cote D'Ivoire,Africa,22.8,124502\", 'Croatia,Europe,4.5,21831', 'Cuba,North America,11.0,42803', 'Cyprus,Asia,1.2,3572', 'Czech Republic,Europe,10.6,30450', \"Democratic People's Republic of Korea,Asia,24.9,46528\", 'Democratic Republic of the Congo,Africa,77.4,905355', 'Denmark,Europe,5.6,16640', 'Djibouti,Africa,.81,8958', 'Dominica,North America,.073,290', 'Dominican Republic,North America,10.4,18704', 'Ecuador,South America,14.0,98985', 'Egypt,Africa,86.9,387048', 'El Salvador,North America,6.2,8124', 'Equatorial Guinea,Africa,.72,10828', 'Eritrea,Africa,6.3,45405', 'Estonia,Europe,1.3,17413', 'Ethiopia,Africa,96.6,426371', 'Fiji,Australia/Oceania,.90,7056', 'Finland,Europe,5.3,130596', 'France,Europe,66.3,211209', 'Gabon,Africa,1.7,103347', 'Gambia,Africa,1.9,4007', 'Georgia,Asia,4.9,26916', 'Germany,Europe,81.0,137847', 'Ghana,Africa,25.8,92098', 'Greece,Europe,11.8,50944', 'Grenada,North America,.11,132', 'Guatemala,North America,14.7,42042', 'Guinea,Africa,11.5,94926', 'Guinea Bissau,Africa,1.7,13948', 'Guyana,South America,.74,83000', 'Haiti,North America,10.2,10714', 'Honduras,North America,8.6,43278', 'Hungary,Europe,10.0,35919', 'Iceland,Europe,.32,39770', 'India,Asia,1236.3,1269210', 'Indonesia,Asia,253.6,735355', 'Iran,Asia,80.8,636372', 'Iraq,Asia,32.6,169234', 'Ireland,Europe,4.8,31520', 'Israel,Asia,7.8,8019', 'Italy,Europe,61.7,116346', 'Jamaica,North America,2.9,4444', 'Japan,Asia,127.1,145883', 'Jordan,Asia,7.9,45495', 'Kazakhstan,Asia,18.0,1052085', 'Kenya,Africa,45.0,224080', 'Kiribati,Australia/Oceania,.10,280', 'Kuwait,Asia,2.7,6880', 'Kyrgyzstan,Asia,5.6,77181', \"Lao People's Democratic Republic,Asia,6.8,91429\", 'Latvia,Europe,2.2,24938', 'Lebanon,Asia,5.9,4035', 'Lesotho,Africa,1.9,12727', 'Liberia,Africa,4.1,43000', 'Libyan Arab Jamahiriya,Africa,6.2,679359', 'Liechtenstein,Europe,.037,62', 'Lithuania,Europe,3.5,25173', 'Luxembourg,Europe,.52,998', 'Madagascar,Africa,23.2,226597', 'Malawi,Africa,17.4,45747', 'Malaysia,Asia,30.1,127355', 'Maldives,Asia,.39,115', 'Mali,Africa,16.5,478839', 'Malta,Europe,.41,121', 'Marshall Islands,Australia/Oceania,.071,69', 'Mauritania,Africa,3.5,397954', 'Mauritius,Africa,1.3,787', 'Mexico,North America,120.3,761606', 'Micronesia,Australia/Oceania,.11,271', 'Monaco,Europe,.031,0.76', 'Mongolia,Asia,3.0,603909', 'Montenegro,Europe,.65,5019', 'Morocco,Africa,33.0,172414', 'Mozambique,Africa,24.7,309496', 'Myanmar,Asia,55.7,261227', 'Namibia,Africa,2.2,318696', 'Nauru,Australia/Oceania,.0095,8', 'Nepal,Asia,31.0,56827', 'Netherlands,Europe,16.59,16033', 'New Zealand,Australia/Oceania,4.4,103738', 'Nicaragua,North America,6.1,50193', 'Niger,Africa,17.5,489678', 'Nigeria,Africa,177.2,356669', 'Norway,Europe,5.1,148746', 'Oman,Asia,3.2,119498', 'Pakistan,Asia,196.2,310403', 'Palau,Australia/Oceania,.021,177', 'Panama,North America,3.6,29157', 'Papua New Guinea,Australia/Oceania,6.6,178703', 'Paraguay,South America,6.7,157048', 'Peru,South America,30.1,496226', 'Philippines,Asia,107.7,115831', 'Poland,Europe,38.3,120726', 'Portugal,Europe,10.9,35645', 'Qatar,Asia,2.1,4416', 'Republic of Korea,Asia,49.0,38622', 'Republic of Moldova,Europe,3.6,13067', 'Republic of the Congo,Africa,4.7,132047', 'Romania,Europe,21.7,92043', 'Russian Federation,Europe,142.5,6592800', 'Rwanda,Africa,12.3,10169', 'Saint Kitts and Nevis,North America,.052,101', 'Saint Lucia,North America,.16,239', 'Saint Vincent and the Grenadines,North America,.10,150', 'Samoa,Australia/Oceania,.20,1093', 'San Marino,Europe,.033,23.5', 'Sao Tome and Principe,Africa,.19,372', 'Saudi Arabia,Asia,27.3,829996', 'Senegal,Africa,13.6,76000', 'Serbia,Europe,7.2,34116', 'Seychelles,Africa,.092,174', 'Sierra Leone,Africa,5.7,27699', 'Singapore,Asia,5.6,274.2', 'Slovakia,Europe,5.4,18932', 'Slovenia,Europe,2.0,7827', 'Solomon Islands,Australia/Oceania,.61,43', 'Somalia,Africa,10.4,246201', 'South Africa,Africa,48.4,471443', 'South Sudan,Africa,11.6,239285', 'Spain,Europe,47.7,195364', 'Sri Lanka,Asia,22.9,25332', 'Sudan,Africa,35.5,967495', 'Suriname,South America,.57,63251', 'Swaziland,Africa,1.4,6704', 'Sweden,Europe,9.7,173732', 'Switzerland,Europe,8.1,15940', 'Syrian Arab Republic,Asia,18.0,71479', 'Tajikistan,Asia,8.1,55251', 'Thailand,Asia,67.7,198115', 'The former Yugoslav Republic of Macedonia,Europe,2.1,205', 'Timor-Leste,Asia,1.2,5743', 'Togo,Africa,7.4,21925', 'Tonga,Australia/Oceania,.11,289', 'Trinidad and Tobago,North America,1.2,1978', 'Tunisia,Africa,10.9,63170', 'Turkey,Asia,81.6,302535', 'Turkmenistan,Asia,5.1,188456', 'Tuvalu,Australia/Oceania,.011,10', 'Uganda,Africa,35.9,91136', 'Ukraine,Europe,44.3,233090', 'United Arab Emirates,Asia,5.6,32278', 'United Kingdom,Europe,66.7,94526', 'United Republic of Tanzania,Africa,50.0,364898', 'United States,North America,318.9,3794066', 'Uruguay,South America,3.3,68037', 'Uzbekistan,Asia,28.9,172742', 'Vanuatu,Australia/Oceania,.27,4706', 'Venezuela,South America,28.9,353841', 'Vietnam,Asia,93.4,128527', 'Yemen,Asia,26.1,203849', 'Zambia,Africa,14.7,290587', 'Zimbabwe,Africa,13.8,150871']\n"
     ]
    }
   ],
   "source": [
    "def main():\n",
    "    while True:\n",
    "        try:\n",
    "            fileName = input(\"Enter the file's name: \")\n",
    "            infile = open(fileName, 'r')\n",
    "            fileList = [line.rstrip() for line in infile]\n",
    "            infile.close()\n",
    "            print(fileList)\n",
    "            break\n",
    "        except FileNotFoundError as exc:\n",
    "            print(exc)\n",
    "\n",
    "main()"
   ]
  },
  {
   "cell_type": "markdown",
   "metadata": {},
   "source": [
    "### 문제: keyError를 다루는 프로그램을 작성하시오. 물론 올바른 키가 입력될 때까지 키는 입력돼야 한다."
   ]
  },
  {
   "cell_type": "code",
   "execution_count": 18,
   "metadata": {},
   "outputs": [
    {
     "name": "stdout",
     "output_type": "stream",
     "text": [
      "Enter the key of a, b or c: d\n",
      "'d'\n",
      "Try again\n",
      "Enter the key of a, b or c: e\n",
      "'e'\n",
      "Try again\n",
      "Enter the key of a, b or c: g\n",
      "'g'\n",
      "Try again\n",
      "Enter the key of a, b or c: b\n",
      "banana\n"
     ]
    }
   ],
   "source": [
    "def main():\n",
    "    d = {'a':'apple', 'b':'banana', 'c':'cigarette'}\n",
    "    while True:\n",
    "        try:\n",
    "            key = input(\"Enter the key of a, b or c: \")\n",
    "            print(d[key])\n",
    "            break\n",
    "        except KeyError:\n",
    "            print(\"Try again\")\n",
    "main()"
   ]
  },
  {
   "cell_type": "markdown",
   "metadata": {},
   "source": [
    "### 문제: exception Handling을 문제가 생길 수 있는 구간마다 사용해서 파일이 있는지 점검하고 파일 내의 데이터가 이상하면 그 전까지의 데이터를 총합하여 출력하는 프로그램을 작성하시오. else문 혹은 finally 문을 사용해야 함."
   ]
  },
  {
   "cell_type": "code",
   "execution_count": 48,
   "metadata": {},
   "outputs": [],
   "source": [
    "outfile = open('data/Numbers2.txt', 'w')\n",
    "outfile.writelines(['2\\n', '3\\n', 'a\\n'])\n",
    "outfile.close()"
   ]
  },
  {
   "cell_type": "code",
   "execution_count": 52,
   "metadata": {},
   "outputs": [
    {
     "name": "stdout",
     "output_type": "stream",
     "text": [
      "Line 3 could not be converted to a float\n",
      "average is 2.5\n",
      "total is 5.0\n"
     ]
    }
   ],
   "source": [
    "def main():\n",
    "    count = 0\n",
    "    total = 0\n",
    "    try:\n",
    "        infile = open(\"data/Numbers2.txt\", 'r')\n",
    "        fileList = [line.rstrip() for line in infile]\n",
    "        foundFlag = True\n",
    "    except FileNotFoundError:\n",
    "        print(\"File doesn't exist\")\n",
    "        foundFlag = False\n",
    "    \n",
    "    if foundFlag:\n",
    "        try:\n",
    "            for number in fileList:\n",
    "                count += 1\n",
    "                total += float(number)\n",
    "            print('average is', total / count)\n",
    "        except ValueError:\n",
    "            print(\"Line\", count, \"could not be converted to a float\")\n",
    "            if count > 1:\n",
    "                print('average is', total/(count-1))\n",
    "                print('total is', total)\n",
    "            else:\n",
    "                print(\"No average can be calculated.\")\n",
    "        except ZeroDivisionError:\n",
    "            print(\"File was empty.\")\n",
    "        else:\n",
    "            print('total is', total)\n",
    "        finally:\n",
    "            infile.close()\n",
    "\n",
    "main()"
   ]
  },
  {
   "cell_type": "markdown",
   "metadata": {},
   "source": [
    "부족한 점:\n",
    "1. try-except문 다음에 try문을 어떻게 이어가야할 지 모른다.\n",
    "2. 조건문을 실행하는 조건으로 foundFlag를 설정해두는데 매우 유용하므로 기억해두자.\n",
    "3. for문 안에다가 try문을 돌려서 값을 여러 번 출력했다.먼저 try를 하고 for문을 안에다가 두도록 하자.\n",
    "4. for문 안에다가 print(average)를 넣어서 값을 여러번 출력... for문이 끝나면 한 번에 돌려주도록 하자."
   ]
  },
  {
   "cell_type": "markdown",
   "metadata": {},
   "source": [
    "### 문제: 리스트 elements = [\"earth\", \"air\", \"fire\", \"water\"]이 있다. 임의로 한 개의 원소를 고른 경우와 두 개의 원소를 고른 경우, 리스트를 임의로 배치한 경우를 출력하시오. 그리고 1부터 100까지의 균등 분포에서 임의로 하나를 출력하는 명령어를 작성하시오."
   ]
  },
  {
   "cell_type": "code",
   "execution_count": 20,
   "metadata": {},
   "outputs": [
    {
     "name": "stdout",
     "output_type": "stream",
     "text": [
      "air\n",
      "['earth', 'air']\n",
      "['water', 'earth', 'fire', 'air']\n",
      "75\n"
     ]
    }
   ],
   "source": [
    "import random\n",
    "\n",
    "def main():\n",
    "    elements = [\"earth\", \"air\", \"fire\", \"water\"]\n",
    "    print(random.choice(elements))\n",
    "    print(random.sample(elements, 2))\n",
    "    random.shuffle(elements)\n",
    "    print(elements)\n",
    "    print(random.randint(1, 100))\n",
    "main()"
   ]
  },
  {
   "cell_type": "markdown",
   "metadata": {},
   "source": [
    "부족한 점:\n",
    "1. 리스트에서 복수로 추출할 때 즉, sample을 사용할 때는 여러 개의 값을 리스트로 묶어 하나로 출력."
   ]
  },
  {
   "cell_type": "markdown",
   "metadata": {},
   "source": [
    "### 문제: data/DeckOfCardsList.dat 파일을 불러온 후 5개를 임의로 추출하시오."
   ]
  },
  {
   "cell_type": "code",
   "execution_count": 23,
   "metadata": {},
   "outputs": [
    {
     "name": "stdout",
     "output_type": "stream",
     "text": [
      "['5♥', 'A♦', '10♦', '6♥', '5♣']\n"
     ]
    }
   ],
   "source": [
    "import random\n",
    "import pickle\n",
    "\n",
    "def main():\n",
    "    infile = open(\"data/DeckOfCardsList.dat\", 'rb')\n",
    "    deck = pickle.load(infile)\n",
    "    infile.close()\n",
    "    print(random.sample(deck, 5))\n",
    "    \n",
    "main()"
   ]
  },
  {
   "cell_type": "markdown",
   "metadata": {},
   "source": [
    "부족한 점:\n",
    "1. 바이너리 파일을 여는데 'r'을 했다... 'rb'로 꼭 해야 한다. .dat이 붙은 파일은 다 b를 붙여라!\n",
    "2. 또 바이너리 파일인데 pickle.load를 사용하지 않고 list comprehension을 사용했다. 조심..."
   ]
  },
  {
   "cell_type": "markdown",
   "metadata": {},
   "source": [
    "### 문제: 룰렛이 있다. 룰렛은 세 가지 경우의 수를 가지고 있는데 10보다 크면 'big', 5보다 크면 'middle', 5보다 작거나 같으면 'small'이다. 룰렛을 세 번 돌려 결과를 출력하시오."
   ]
  },
  {
   "cell_type": "code",
   "execution_count": 45,
   "metadata": {},
   "outputs": [
    {
     "name": "stdout",
     "output_type": "stream",
     "text": [
      "small\n",
      "big\n",
      "big\n"
     ]
    }
   ],
   "source": [
    "import random\n",
    "\n",
    "def main():\n",
    "    for _ in range(3):\n",
    "        result = spinWheel()\n",
    "        print(result)\n",
    "\n",
    "def spinWheel():\n",
    "    n = random.randint(1, 20)\n",
    "    if n > 10:\n",
    "        return \"big\"\n",
    "    elif 10 >= n >5:\n",
    "        return \"middle\"\n",
    "    else:\n",
    "        return \"small\"\n",
    "\n",
    "main()"
   ]
  }
 ],
 "metadata": {
  "kernelspec": {
   "display_name": "Python 3",
   "language": "python",
   "name": "python3"
  },
  "language_info": {
   "codemirror_mode": {
    "name": "ipython",
    "version": 3
   },
   "file_extension": ".py",
   "mimetype": "text/x-python",
   "name": "python",
   "nbconvert_exporter": "python",
   "pygments_lexer": "ipython3",
   "version": "3.8.3"
  }
 },
 "nbformat": 4,
 "nbformat_minor": 4
}
