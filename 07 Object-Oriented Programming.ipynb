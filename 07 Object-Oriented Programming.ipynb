{
 "cells": [
  {
   "cell_type": "markdown",
   "metadata": {},
   "source": [
    "## Classes and Objects\n",
    "- Data hiding is an important  principle underlying object-oriented programming:\n",
    "    - As much impolementation detail as possible is hidden\n",
    "- Object consists of two things:\n",
    "    - Encapsulated data\n",
    "        - Unauthorized access to some of an object's components is prevented\n",
    "        (사용자들은 세부사항들을 알 수가 없다.)\n",
    "    - Methods that act on the data\n",
    "        - __Used to retrieve and modify the values within the object__\n",
    "        (데이터에 대한 접근이 method를 통해서만 가능하다.)\n",
    "- Programmer using an object is concerned only with \n",
    "    - Tasks that the object can perform\n",
    "    - Parameters used by these tasks(i.e., methods)"
   ]
  },
  {
   "cell_type": "markdown",
   "metadata": {},
   "source": [
    "### User-Defined Classes\n",
    "- A class is a template from which objects are created\n",
    "    - Specifies the properties and methods that will be common to all objects that are instances of that class\n",
    "    - The data types _str, int, float, list, tuple, dictionary,_ and _set_ are __built-in Python classes\n",
    "- Python allows users to create their own classes(i.e., data types)\n",
    "    - Each class defined will have a specified set of methods\n",
    "    - Each object (instance) of the class will have its own value(s)\n",
    "- Class definitions have the general form:\n",
    "> class ClassName:  \n",
    "        indented list of methods for the class"
   ]
  },
  {
   "cell_type": "markdown",
   "metadata": {},
   "source": [
    "- Methods have __self__ as their first parameter\n",
    "    - When an object is created, each method's __self__ parameter references the object\n",
    "    - The \\_\\_init__ method (aka constructor) is automatically called when an object is created, assigning values to the instance variables(also called properties of the class)"
   ]
  },
  {
   "cell_type": "code",
   "execution_count": 1,
   "metadata": {},
   "outputs": [],
   "source": [
    "class Rectangle:   # class의 첫문자는 대문자를 써야 한다.\n",
    "    def __init__(self, width=1, height=1):   # initializer method\n",
    "        self._width = width   # instance variables 혹은 property of class 라고 읽을 수 있다.\n",
    "        self._height = height   # 보통 self. 다음에 _를 붙여준다.\n",
    "        \n",
    "    def setWidth(self, width):   # mutator method. 보통 변수 앞에 set을 붙여 이름을 지어준다.\n",
    "        self._width = width\n",
    "        \n",
    "    def setHeight(self, height):   # mutator method\n",
    "        self._height = height\n",
    "        \n",
    "    def getWidth(self):   # accessor mehtods\n",
    "        return self._width\n",
    "    \n",
    "    def getHeight(self):\n",
    "        return self._height\n",
    "    \n",
    "    def area(self):    # other methods\n",
    "        return self._width * self._height\n",
    "    \n",
    "    def perimeter(self):\n",
    "        return 2 * (self._width + self._height)\n",
    "    \n",
    "    def __str__(self):   # state-representation methods\n",
    "        return (\"Width: \" +str(self._width) + \"\\nHeight\" + str(self._height))"
   ]
  },
  {
   "cell_type": "markdown",
   "metadata": {},
   "source": [
    "- The \\_\\_str__ method provides a customized way to represent the state(values of the instance variables) of an object as a string"
   ]
  },
  {
   "cell_type": "markdown",
   "metadata": {},
   "source": [
    "\n",
    "- Classes can be typed directly into programs or stored in mudules and brought into programs with an import statement\n",
    "\n",
    "- An object, which is an instance of a class, is created with a statement of the form \n",
    "        objectName = ClassName(arg1, arg2, ...)\n",
    "    or\n",
    "        objectName = moduleName.ClassName(arg1, arg2, ...)"
   ]
  },
  {
   "cell_type": "code",
   "execution_count": 2,
   "metadata": {
    "scrolled": true
   },
   "outputs": [
    {
     "name": "stdout",
     "output_type": "stream",
     "text": [
      "Width: 4\n",
      "Height5\n",
      "Width: 1\n",
      "Height1\n",
      "Width: 4\n",
      "Height1\n"
     ]
    }
   ],
   "source": [
    "import rectangle\n",
    "\n",
    "r1 = rectangle.Rectangle(4, 5)\n",
    "print(r1)\n",
    "r2 = rectangle.Rectangle()\n",
    "print(r2)\n",
    "r3 = rectangle.Rectangle(4)\n",
    "print(r3)"
   ]
  },
  {
   "cell_type": "code",
   "execution_count": 4,
   "metadata": {},
   "outputs": [
    {
     "name": "stdout",
     "output_type": "stream",
     "text": [
      "4\n",
      "5\n",
      "20\n",
      "18\n"
     ]
    }
   ],
   "source": [
    "import rectangle\n",
    "r = rectangle.Rectangle()\n",
    "r.setWidth(4)   # Width를 mutator method를 통해 수정하고 있다.\n",
    "r.setHeight(5)\n",
    "print(r.getWidth())\n",
    "print(r.getHeight())\n",
    "print(r.area())\n",
    "print(r.perimeter())"
   ]
  },
  {
   "cell_type": "markdown",
   "metadata": {},
   "source": [
    "- Note:\n",
    "    - `r.setWidth(4)` and `r.setHeight(5)` can be replaced by `r.\\_width = 4` and `r.\\_height = 5,` respectively\n",
    "    - `print(\"Width is\", r.getWidth())` and  \n",
    "      `print(\"Height is\", r.getHeight())` can be replaced by  \n",
    "      `print(\"Width is\", r.\\_width)` and  \n",
    "      `print(\"Height is\", r.\\_height)`, repectively  \n",
    "      \n",
    "- However, such replacement is considered poor programming style\n",
    "- Instance variable names start with a single underscore so that they cannot be directly accessed from outside of the class definition\n",
    "    - Object-oriented programming hides the implementation of methods from the users of the class"
   ]
  },
  {
   "cell_type": "markdown",
   "metadata": {},
   "source": [
    "### Other Forms of the Initializer Method\n",
    "- There are three other ways the initialzer can be defined:  \n",
    "\n",
    "    def \\_\\_init__(self):\n",
    "        self._width = 1\n",
    "        self._height = 1\n",
    "    \n",
    "    `def \\_\\_init__(self, width=1):  \n",
    "        self._width = width\n",
    "        self._height = 1`\n",
    "        \n",
    "    `def \\_\\_init(self, width, height):  \n",
    "        self._width = width\n",
    "        self._height = height`\n",
    "        \n",
    "- With the third form, the constructor statement creating an instance must provide two arguments"
   ]
  },
  {
   "cell_type": "code",
   "execution_count": 7,
   "metadata": {},
   "outputs": [
    {
     "name": "stdout",
     "output_type": "stream",
     "text": [
      "Enter student's name: Fred\n",
      "Enter grade on midterm exam: 87\n",
      "Enter grade on final exam: 100\n",
      "\n",
      "Name\tGRADE\n",
      "Fred\tA\n"
     ]
    }
   ],
   "source": [
    "def main():\n",
    "    name = input(\"Enter student's name: \")\n",
    "    midterm = float(input(\"Enter grade on midterm exam: \"))\n",
    "    final = float(input(\"Enter grade on final exam: \"))\n",
    "    st = LGstudent(name, midterm, final)\n",
    "    print(\"\\nName\\tGRADE\")\n",
    "    print(st)\n",
    "    \n",
    "class LGstudent:\n",
    "    def __init__(self, name=\"\", midterm=0, final=0):\n",
    "        self._name = name\n",
    "        self._midterm = midterm\n",
    "        self._final = final\n",
    "        \n",
    "    def setName(self, name):\n",
    "        self._name = name\n",
    "        \n",
    "    def setMidterm(self, midterm):\n",
    "        self._midterm = midterm\n",
    "    \n",
    "    def setFinal(self, final):\n",
    "        self._final = final\n",
    "        \n",
    "    def calcSemGrade(self):\n",
    "        grade = (self._midterm + self._final) / 2\n",
    "        grade = round(grade)\n",
    "        if grade >= 90:\n",
    "            return \"A\"\n",
    "        elif grade >= 80:\n",
    "            return \"B\"\n",
    "        elif grade >= 70:\n",
    "            return \"C\"\n",
    "        elif grade >= 60:\n",
    "            return \"D\"\n",
    "        else:\n",
    "            return \"F\"\n",
    "    \n",
    "    def __str__(self):\n",
    "        return self._name + \"\\t\" + self.calcSemGrade()\n",
    "    \n",
    "main()"
   ]
  },
  {
   "cell_type": "markdown",
   "metadata": {},
   "source": [
    "### List of Objects\n",
    "- Items of a list can be any data type including a user-defined class\n",
    "- The following program uses a list where each item is an __LGstudent__ object"
   ]
  },
  {
   "cell_type": "code",
   "execution_count": 9,
   "metadata": {},
   "outputs": [
    {
     "name": "stdout",
     "output_type": "stream",
     "text": [
      "Enter student's name: 민철\n",
      "Enter student's grade on midterm exam: 90\n",
      "Enter student's grade on final exam: 95\n",
      "Do you wnat to continue N\n",
      "\n",
      "NAME\tGRADE\n",
      "민철\tA\n"
     ]
    }
   ],
   "source": [
    "import lgStudent\n",
    "\n",
    "def main():\n",
    "    listOfStudents = []\n",
    "    carryOn = 'Y'\n",
    "    while carryOn == 'Y':\n",
    "        st = lgStudent.LGstudent()\n",
    "        name = input(\"Enter student's name: \")\n",
    "        midterm = float(input(\"Enter student's grade on midterm exam: \"))\n",
    "        final = float(input(\"Enter student's grade on final exam: \"))\n",
    "        st = lgStudent.LGstudent(name, midterm, final)\n",
    "        listOfStudents.append(st)\n",
    "        carryOn = input(\"Do you wnat to continue \")\n",
    "        carryOn = carryOn.upper()\n",
    "    print(\"\\nNAME\\tGRADE\")\n",
    "    for pupil in listOfStudents:\n",
    "        print(pupil)\n",
    "        \n",
    "main()"
   ]
  },
  {
   "cell_type": "markdown",
   "metadata": {},
   "source": [
    "### Inheritance\n",
    "- Inheritance allows us to define a modified version of an existing class(__supercalss, parent class, or base class__)\n",
    "    - The new class is called the __subclass, child class, or derived class__\n",
    "- Subclass ingerits properties and methods of its superclass\n",
    "    - It can have its own properties and methdos overriding some of the superclass' methods\n",
    "    - No initializer method is needed if the child class does not have its own propertie(i.e., variables)"
   ]
  },
  {
   "cell_type": "markdown",
   "metadata": {},
   "source": [
    "- The following function creates a list of both types of students and uses the list to display the names of the students and their semester grades"
   ]
  },
  {
   "cell_type": "markdown",
   "metadata": {},
   "source": [
    "### \"is-a\" Relationship\n",
    "- Child classes are specializations of their parent's class\n",
    "    - Have all the characteristics of their parents\n",
    "    - But, more functionality\n",
    "    - Each child satisfies the \"is-a\" relationship with the parents\n",
    "- E.g., each letter-grade student _is_ a student, and each pass-fail student _is_ a student"
   ]
  },
  {
   "cell_type": "markdown",
   "metadata": {},
   "source": [
    "### The _isinstance_ Function\n",
    "- A statement of the form  \n",
    "       isinstance(object, className)\n",
    "  returns __True__ if __object__ is an instance of the __named class or any of its subclasses,__ and otherwise returns __False__\n",
    "  \n",
    "  \n",
    "- Some expressions involving the __isinstance__ function  \n",
    "![isinstance function](.\\img\\isinstance1.png)"
   ]
  },
  {
   "cell_type": "code",
   "execution_count": null,
   "metadata": {},
   "outputs": [],
   "source": []
  }
 ],
 "metadata": {
  "kernelspec": {
   "display_name": "Python 3",
   "language": "python",
   "name": "python3"
  },
  "language_info": {
   "codemirror_mode": {
    "name": "ipython",
    "version": 3
   },
   "file_extension": ".py",
   "mimetype": "text/x-python",
   "name": "python",
   "nbconvert_exporter": "python",
   "pygments_lexer": "ipython3",
   "version": "3.8.3"
  }
 },
 "nbformat": 4,
 "nbformat_minor": 4
}
