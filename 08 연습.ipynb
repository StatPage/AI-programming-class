{
 "cells": [
  {
   "cell_type": "markdown",
   "metadata": {},
   "source": [
    "![image](https://user-images.githubusercontent.com/61931924/96328881-8fd7a780-1082-11eb-9e7e-99c82a959af1.png)"
   ]
  },
  {
   "cell_type": "code",
   "execution_count": 14,
   "metadata": {
    "scrolled": false
   },
   "outputs": [
    {
     "name": "stdout",
     "output_type": "stream",
     "text": [
      "[1 2 3]\n",
      "[[1 2]\n",
      " [3 4]]\n",
      "[[1 2 3 4 5]]\n",
      "[1. 2. 3.]\n"
     ]
    },
    {
     "data": {
      "text/plain": [
       "(array([1, 2, 3]),\n",
       " array([[1, 2],\n",
       "        [3, 4]]),\n",
       " array([[1, 2, 3, 4, 5]]),\n",
       " array([1., 2., 3.]))"
      ]
     },
     "execution_count": 14,
     "metadata": {},
     "output_type": "execute_result"
    }
   ],
   "source": [
    "import numpy as np\n",
    "a = np.array([1,2,3])\n",
    "b = np.array([[1,2], [3,4]])\n",
    "c = np.array([1,2,3,4,5], ndmin=2)\n",
    "d = np.array([1, 2, 3], dtype=float)\n",
    "\n",
    "print(a)\n",
    "print(b)\n",
    "print(c)\n",
    "print(d)\n",
    "\n",
    "a,b,c,d"
   ]
  },
  {
   "cell_type": "markdown",
   "metadata": {},
   "source": [
    "### 부족한 점: ndmin과 dtype을 사용할 줄 몰랐다."
   ]
  },
  {
   "cell_type": "markdown",
   "metadata": {},
   "source": [
    "![image](https://user-images.githubusercontent.com/61931924/96328890-a847c200-1082-11eb-91ac-c9aa2275ddf6.png)"
   ]
  },
  {
   "cell_type": "code",
   "execution_count": 18,
   "metadata": {
    "scrolled": true
   },
   "outputs": [
    {
     "name": "stdout",
     "output_type": "stream",
     "text": [
      "[0 1 2 3 4]\n",
      "[3 5 7 9]\n",
      "[0. 0. 0. 0. 0.]\n",
      "[1. 1. 1. 1. 1.]\n"
     ]
    },
    {
     "data": {
      "text/plain": [
       "(array([0, 1, 2, 3, 4]),\n",
       " array([3, 5, 7, 9]),\n",
       " array([0., 0., 0., 0., 0.]),\n",
       " array([1., 1., 1., 1., 1.]))"
      ]
     },
     "execution_count": 18,
     "metadata": {},
     "output_type": "execute_result"
    }
   ],
   "source": [
    "a = np.arange(5)\n",
    "b = np.arange(3, 10, 2)\n",
    "c = np.zeros(5)\n",
    "d = np.ones(5)\n",
    "\n",
    "print(a)\n",
    "print(b)\n",
    "print(c)\n",
    "print(d)\n",
    "\n",
    "a, b, c, d"
   ]
  },
  {
   "cell_type": "markdown",
   "metadata": {},
   "source": [
    "![image](https://user-images.githubusercontent.com/61931924/96337478-6dfe1500-10c2-11eb-8f96-3ceb881e8adb.png)"
   ]
  },
  {
   "cell_type": "code",
   "execution_count": 20,
   "metadata": {},
   "outputs": [
    {
     "name": "stdout",
     "output_type": "stream",
     "text": [
      "[[1. 0. 0.]\n",
      " [0. 1. 0.]\n",
      " [0. 0. 1.]]\n",
      "[[1. 0. 0. 0.]\n",
      " [0. 1. 0. 0.]\n",
      " [0. 0. 1. 0.]]\n",
      "[10.  12.5 15.  17.5 20. ]\n",
      "[10. 15. 20.]\n"
     ]
    },
    {
     "data": {
      "text/plain": [
       "(array([[1., 0., 0.],\n",
       "        [0., 1., 0.],\n",
       "        [0., 0., 1.]]),\n",
       " array([[1., 0., 0., 0.],\n",
       "        [0., 1., 0., 0.],\n",
       "        [0., 0., 1., 0.]]),\n",
       " array([10. , 12.5, 15. , 17.5, 20. ]),\n",
       " array([10., 15., 20.]))"
      ]
     },
     "execution_count": 20,
     "metadata": {},
     "output_type": "execute_result"
    }
   ],
   "source": [
    "a = np.eye(3)\n",
    "b = np.eye(3, 4)\n",
    "c = np.linspace(10, 20, 5)\n",
    "d = np.linspace(10, 20, 3)\n",
    "\n",
    "print(a)\n",
    "print(b)\n",
    "print(c)\n",
    "print(d)\n",
    "\n",
    "a,b,c,d"
   ]
  },
  {
   "attachments": {
    "image.png": {
     "image/png": "[encoded data removed]"
    }
   },
   "cell_type": "markdown",
   "metadata": {},
   "source": [
    "np.arnge(6)으로 벡터 a를 만들고 이와 같은 결과를 만들어라.\n",
    "![image.png](attachment:image.png)\n",
    "마지막 행렬과 벡터는 b를 복사해서 만드는 것이다. "
   ]
  },
  {
   "cell_type": "code",
   "execution_count": 1,
   "metadata": {
    "scrolled": true
   },
   "outputs": [
    {
     "name": "stdout",
     "output_type": "stream",
     "text": [
      "[0 1 2 3 4 5]\n",
      "5\n",
      "[1 3 5]\n",
      "(3, 2)\n",
      "6\n",
      "2\n",
      "[[0 2 4]\n",
      " [1 3 5]]\n",
      "[[0 1]\n",
      " [2 3]\n",
      " [4 5]]\n",
      "[0 1 2 3 4 5]\n"
     ]
    }
   ],
   "source": [
    "import numpy as np\n",
    "\n",
    "a = np.arange(6)\n",
    "print(a)\n",
    "b = a.reshape(3,2)\n",
    "print(b[2,1])\n",
    "print(b[:,1])\n",
    "print(b.shape)\n",
    "print(b.size)\n",
    "print(b.ndim)\n",
    "print(b.transpose())\n",
    "\n",
    "c = np.copy(b)\n",
    "print(c)\n",
    "print(np.ravel(c))"
   ]
  },
  {
   "cell_type": "markdown",
   "metadata": {},
   "source": [
    "부족한 점: transpose method는 ()가 필요한 것을 몰랐다. np에서 ravel method가 벡터로 만들어주는 것을 몰랐다. shape가 ()가 안 필요한지도 몰랐고 행렬의 형태를 알려주는 것도 몰랐다."
   ]
  },
  {
   "cell_type": "markdown",
   "metadata": {},
   "source": [
    "Q. 임의의 행렬 두 개를 만들어서 덧셈, 곱셈, 행렬연산, 내적을 하시오."
   ]
  },
  {
   "cell_type": "code",
   "execution_count": 28,
   "metadata": {},
   "outputs": [
    {
     "name": "stdout",
     "output_type": "stream",
     "text": [
      "[[ 6  8]\n",
      " [10 12]]\n",
      "[[ 5 12]\n",
      " [21 32]]\n",
      "[[19 22]\n",
      " [43 50]]\n",
      "[[17 23]\n",
      " [39 53]]\n"
     ]
    }
   ],
   "source": [
    "a = np.array([[1,2],[3,4]])\n",
    "b = np.array([[5,6],[7,8]])\n",
    "\n",
    "print(a + b)\n",
    "print(a * b)\n",
    "print(np.dot(a, b))\n",
    "print(np.inner(a, b))"
   ]
  },
  {
   "cell_type": "markdown",
   "metadata": {},
   "source": [
    "Q. 벡터를 생성후 세 가지 종류의 반올림을 하시오."
   ]
  },
  {
   "cell_type": "code",
   "execution_count": 30,
   "metadata": {},
   "outputs": [
    {
     "name": "stdout",
     "output_type": "stream",
     "text": [
      "[1. 0. 0. 3.]\n",
      "[1. 1. 1. 3.]\n",
      "[1. 0. 0. 2.]\n"
     ]
    }
   ],
   "source": [
    "a = np.array([1, 0.5, 0.3, 2.7])\n",
    "\n",
    "b = np.around(a)\n",
    "c = np.ceil(a)\n",
    "d = np.floor(a)\n",
    "\n",
    "print(b)\n",
    "print(c)\n",
    "print(d)"
   ]
  },
  {
   "cell_type": "markdown",
   "metadata": {},
   "source": [
    "Q. 벡터를 생성 후 반올림을 소수점 두 번째 자리와 그냥 두 번째 자리까지 반올림 하시오."
   ]
  },
  {
   "cell_type": "code",
   "execution_count": 35,
   "metadata": {},
   "outputs": [
    {
     "name": "stdout",
     "output_type": "stream",
     "text": [
      "[13.  9.  1.  0.]\n",
      "[13.    9.    0.53  0.4 ]\n",
      "[10. 10.  0.  0.]\n"
     ]
    }
   ],
   "source": [
    "a = np.array([13, 9, 0.5346324, 0.4])\n",
    "\n",
    "b = np.around(a)\n",
    "c = np.around(a, decimals=2)\n",
    "d = np.around(a, decimals=-1)\n",
    "\n",
    "print(b)\n",
    "print(c)\n",
    "print(d)"
   ]
  },
  {
   "cell_type": "markdown",
   "metadata": {},
   "source": [
    "부족한 점: decimals 매개변수로 두 번째 자리까지 반올림 할 때 -를 안 붙여줬다."
   ]
  },
  {
   "cell_type": "markdown",
   "metadata": {},
   "source": [
    "Q. 표준 정규 분포에서 표본을 추출하여 6 × 3 행렬을 구하시오. 또한 범위가 [0, 10]인 균등 분포에서 표본을 추출해 2 × 5 행렬을 생성하시오."
   ]
  },
  {
   "cell_type": "code",
   "execution_count": 37,
   "metadata": {
    "scrolled": true
   },
   "outputs": [
    {
     "name": "stdout",
     "output_type": "stream",
     "text": [
      "[[0.03026538 0.69740421 0.66251055]\n",
      " [0.67694112 0.33337572 0.06526267]\n",
      " [0.92678743 0.88414077 0.65941161]\n",
      " [0.32553859 0.61613242 0.73996023]\n",
      " [0.2448028  0.62977831 0.66815697]\n",
      " [0.69398885 0.17998865 0.50719111]]\n",
      "[[6 3 4 4 4]\n",
      " [4 6 1 4 7]]\n"
     ]
    }
   ],
   "source": [
    "a = np.random.rand(6, 3)\n",
    "b = np.random.randint(0, 10, size=(2, 5))\n",
    "\n",
    "print(a)\n",
    "print(b)"
   ]
  },
  {
   "cell_type": "markdown",
   "metadata": {},
   "source": [
    "Q. 2 × 2 행렬과 2 × 1 벡터를 a와 b로 생성 후, a의 역행렬, ax = b의 정답, a의 결정 계수, a의 고유치와 고유벡터를 구하시오."
   ]
  },
  {
   "cell_type": "code",
   "execution_count": 43,
   "metadata": {
    "scrolled": true
   },
   "outputs": [
    {
     "name": "stdout",
     "output_type": "stream",
     "text": [
      "[[-2.   1. ]\n",
      " [ 1.5 -0.5]]\n",
      "[[-1.]\n",
      " [ 3.]]\n",
      "-2.0000000000000004\n",
      "(array([-0.37228132,  5.37228132]), array([[-0.82456484, -0.41597356],\n",
      "       [ 0.56576746, -0.90937671]]))\n"
     ]
    }
   ],
   "source": [
    "a = np.array([[1,2], [3,4]])\n",
    "b = np.array([[5], [9]])\n",
    "\n",
    "c = np.linalg.inv(a)\n",
    "d = np.linalg.solve(a, b)\n",
    "e = np.linalg.det(a)\n",
    "f = np.linalg.eig(a)\n",
    "\n",
    "print(c)\n",
    "print(d)\n",
    "print(e)\n",
    "print(f)"
   ]
  },
  {
   "cell_type": "markdown",
   "metadata": {},
   "source": [
    "부족한 점: 연산을 할 때 2 × 1 행렬(벡터)를 만들었어야 했는데 1 × 2 행렬로 만들었다. 고유치와 고유벡터를 구하는 method를 깜빡했다."
   ]
  },
  {
   "cell_type": "markdown",
   "metadata": {},
   "source": [
    "### 문제: 두 개의 선을 하나의 그래프에 나타내시오. x축 이름은 'Sequence', y축 이름은 'Time'"
   ]
  },
  {
   "cell_type": "code",
   "execution_count": 45,
   "metadata": {
    "scrolled": true
   },
   "outputs": [
    {
     "data": {
      "image/png": "[encoded data removed]",
      "text/plain": [
       "<Figure size 432x288 with 1 Axes>"
      ]
     },
     "metadata": {
      "needs_background": "light"
     },
     "output_type": "display_data"
    }
   ],
   "source": [
    "import matplotlib.pyplot as plt\n",
    "plt.plot([1,2,3,4,5], [10,9,8,7,6])\n",
    "plt.plot([1,3,5], [1,9,25])\n",
    "plt.xlabel('Sequence')\n",
    "plt.ylabel('Time')\n",
    "plt.show()"
   ]
  },
  {
   "cell_type": "markdown",
   "metadata": {},
   "source": [
    "부족한 점: plot에 입력할 때 array처럼 입력해서 원하는 결과가 안나왔다. plot method를 쓸 때 반드시 x와 y의 개수를 맞춰줘야 한다."
   ]
  },
  {
   "cell_type": "markdown",
   "metadata": {},
   "source": [
    "문제: 'data' 폴더에서 'firstChoice.txt' 문서를 다운받아 그래프를 그리시오. 데이터의 개수는 14140개. x축의 이름은 '평가개수'. y축의 이름은 '비용'이다. 제목의 이름은 'TSP-100'."
   ]
  },
  {
   "cell_type": "code",
   "execution_count": 50,
   "metadata": {
    "scrolled": false
   },
   "outputs": [
    {
     "name": "stderr",
     "output_type": "stream",
     "text": [
      "C:\\Users\\islab\\anaconda3\\lib\\site-packages\\matplotlib\\backends\\backend_agg.py:214: RuntimeWarning: Glyph 54217 missing from current font.\n",
      "  font.set_text(s, 0.0, flags=flags)\n",
      "C:\\Users\\islab\\anaconda3\\lib\\site-packages\\matplotlib\\backends\\backend_agg.py:214: RuntimeWarning: Glyph 44032 missing from current font.\n",
      "  font.set_text(s, 0.0, flags=flags)\n",
      "C:\\Users\\islab\\anaconda3\\lib\\site-packages\\matplotlib\\backends\\backend_agg.py:214: RuntimeWarning: Glyph 44060 missing from current font.\n",
      "  font.set_text(s, 0.0, flags=flags)\n",
      "C:\\Users\\islab\\anaconda3\\lib\\site-packages\\matplotlib\\backends\\backend_agg.py:214: RuntimeWarning: Glyph 49688 missing from current font.\n",
      "  font.set_text(s, 0.0, flags=flags)\n",
      "C:\\Users\\islab\\anaconda3\\lib\\site-packages\\matplotlib\\backends\\backend_agg.py:214: RuntimeWarning: Glyph 48708 missing from current font.\n",
      "  font.set_text(s, 0.0, flags=flags)\n",
      "C:\\Users\\islab\\anaconda3\\lib\\site-packages\\matplotlib\\backends\\backend_agg.py:214: RuntimeWarning: Glyph 50857 missing from current font.\n",
      "  font.set_text(s, 0.0, flags=flags)\n",
      "C:\\Users\\islab\\anaconda3\\lib\\site-packages\\matplotlib\\backends\\backend_agg.py:183: RuntimeWarning: Glyph 54217 missing from current font.\n",
      "  font.set_text(s, 0, flags=flags)\n",
      "C:\\Users\\islab\\anaconda3\\lib\\site-packages\\matplotlib\\backends\\backend_agg.py:183: RuntimeWarning: Glyph 44032 missing from current font.\n",
      "  font.set_text(s, 0, flags=flags)\n",
      "C:\\Users\\islab\\anaconda3\\lib\\site-packages\\matplotlib\\backends\\backend_agg.py:183: RuntimeWarning: Glyph 44060 missing from current font.\n",
      "  font.set_text(s, 0, flags=flags)\n",
      "C:\\Users\\islab\\anaconda3\\lib\\site-packages\\matplotlib\\backends\\backend_agg.py:183: RuntimeWarning: Glyph 49688 missing from current font.\n",
      "  font.set_text(s, 0, flags=flags)\n",
      "C:\\Users\\islab\\anaconda3\\lib\\site-packages\\matplotlib\\backends\\backend_agg.py:183: RuntimeWarning: Glyph 48708 missing from current font.\n",
      "  font.set_text(s, 0, flags=flags)\n",
      "C:\\Users\\islab\\anaconda3\\lib\\site-packages\\matplotlib\\backends\\backend_agg.py:183: RuntimeWarning: Glyph 50857 missing from current font.\n",
      "  font.set_text(s, 0, flags=flags)\n"
     ]
    },
    {
     "data": {
      "image/png": "[encoded data removed]",
      "text/plain": [
       "<Figure size 432x288 with 1 Axes>"
      ]
     },
     "metadata": {
      "needs_background": "light"
     },
     "output_type": "display_data"
    }
   ],
   "source": [
    "import matplotlib.pyplot as plt\n",
    "import numpy as np\n",
    "\n",
    "x = np.arange(14140)\n",
    "\n",
    "y = []\n",
    "infile = open('data/firstChoice.txt', 'r')\n",
    "for line in infile:\n",
    "    y.append(float(line))\n",
    "infile.close()\n",
    "\n",
    "plt.plot(x, y)\n",
    "plt.xlabel('평가개수')\n",
    "plt.ylabel('비용')\n",
    "plt.title('TSP-100')\n",
    "\n",
    "plt.show()"
   ]
  },
  {
   "cell_type": "markdown",
   "metadata": {},
   "source": [
    "부족한 점:\n",
    "1. infile을 입력할 때 각 행 마다 어떻게 rstrip을 적용했는지 떠오르지 않았다. 5장에서 공부를 다시 해야겠다. \n",
    "2. 데이터를 입력받을 때 당연히 문자로 입력받으므로 int혹은 float로 타입을 변경했어야 했는데 하질 못했다. 이 부분을 조심해야 한다. \n",
    "3. 제목으로 한글을 입력하면 결과가 안 나오니 영어로 입력한다. "
   ]
  },
  {
   "cell_type": "markdown",
   "metadata": {},
   "source": [
    "문제: 이번엔 fist choice 알고리즘과 simulated annealing알고리즘의 성능을 그래프를 통해 동시에 비교하려고 한다. 각자 'data' 폴더에서 'firstChoice.txt', 'SA.txt' 파일을 다운받아서 구현하시오. SA의 데이터 개수 61500개. 각 줄의 이름은 파일 이름 그대로 하시오. x축과 y축의 이름은 위와 동일. 제목은 'Search Performance (TSP-100)'이다."
   ]
  },
  {
   "cell_type": "code",
   "execution_count": 54,
   "metadata": {
    "scrolled": true
   },
   "outputs": [
    {
     "data": {
      "image/png": "[encoded data removed]",
      "text/plain": [
       "<Figure size 432x288 with 1 Axes>"
      ]
     },
     "metadata": {
      "needs_background": "light"
     },
     "output_type": "display_data"
    }
   ],
   "source": [
    "import numpy as np\n",
    "import matplotlib.pyplot as plt\n",
    "\n",
    "x1 = np.arange(14140)\n",
    "y1 = []\n",
    "\n",
    "infile = open('data/firstChoice.txt', 'r')\n",
    "for line in infile:\n",
    "    y1.append(float(line))\n",
    "infile.close()\n",
    "\n",
    "x2 = np.arange(61500)\n",
    "y2 = []\n",
    "\n",
    "infile = open('data/SA.txt', 'r')\n",
    "for line in infile:\n",
    "    y2.append(float(line))\n",
    "infile.close()\n",
    "\n",
    "plt.plot(x1,y1)\n",
    "plt.plot(x2,y2)\n",
    "plt.xlabel('Number of evaluation')\n",
    "plt.ylabel('Tour cost')\n",
    "plt.title('Search Performance (TSP-100)')\n",
    "plt.legend(['firstChoice', 'SA'])\n",
    "\n",
    "plt.show()"
   ]
  },
  {
   "cell_type": "markdown",
   "metadata": {},
   "source": [
    "부족한 점:\n",
    "1. 또 데이터를 입력할 때 float를 깜빡했다.\n",
    "2. 각 줄의 이름을 여러 개 입력할 때 리스트 형식으로 묶어서 입력하는 것을 몰랐다. 다음부터는 그렇게 하자."
   ]
  }
 ],
 "metadata": {
  "kernelspec": {
   "display_name": "Python 3",
   "language": "python",
   "name": "python3"
  },
  "language_info": {
   "codemirror_mode": {
    "name": "ipython",
    "version": 3
   },
   "file_extension": ".py",
   "mimetype": "text/x-python",
   "name": "python",
   "nbconvert_exporter": "python",
   "pygments_lexer": "ipython3",
   "version": "3.8.3"
  }
 },
 "nbformat": 4,
 "nbformat_minor": 4
}
