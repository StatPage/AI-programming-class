{
 "cells": [
  {
   "cell_type": "markdown",
   "metadata": {},
   "source": [
    "### Sets\n",
    "- A set is an unordered collection of items (referred to as elements) with no duplicates\n",
    "\n",
    "-- Sets can contain cunbers, strings, tuples, and Boolean values  \n",
    "-- Some examples of sets are {\"spam\", \"ni\"}, {3, 4, 7}  \n",
    "-- Sets cannot contain lists or other sets  \n",
    "-- Since the elements have no order, they cannot be indexed\n",
    "    - Slicing and list methods such as sord and reverse are meaningless\n",
    "\n",
    "- Useful set operations include membership test, subset test, intersection, and so on"
   ]
  },
  {
   "cell_type": "code",
   "execution_count": 2,
   "metadata": {},
   "outputs": [
    {
     "name": "stdout",
     "output_type": "stream",
     "text": [
      "{'brazil', 'india', 'russia'}\n",
      "{'china', 'brazil', 'india', 'russia'}\n",
      "{'brazil', 'india'}\n",
      "True\n",
      "{'brazil', 'india'}\n"
     ]
    },
    {
     "data": {
      "text/plain": [
       "{'brazil', 'china', 'india', 'russia'}"
      ]
     },
     "execution_count": 2,
     "metadata": {},
     "output_type": "execute_result"
    }
   ],
   "source": [
    "bri = {'brazil', 'russia', 'india'}\n",
    "print('india' in bri)\n",
    "print('usa' in bri)\n",
    "bric = bri.copy()\n",
    "print(bric)\n",
    "bric.add('china')\n",
    "print(bric)\n",
    "bri.remove('russia')   # or bri.discard('russia')\n",
    "print(bri)\n",
    "print(bric.issuperset(bri))   # or bri.issubset(bric)\n",
    "print(bri & bric)   # or bri.intersection(bric)\n",
    "bric.union(bri)"
   ]
  }
 ],
 "metadata": {
  "kernelspec": {
   "display_name": "Python 3",
   "language": "python",
   "name": "python3"
  },
  "language_info": {
   "codemirror_mode": {
    "name": "ipython",
    "version": 3
   },
   "file_extension": ".py",
   "mimetype": "text/x-python",
   "name": "python",
   "nbconvert_exporter": "python",
   "pygments_lexer": "ipython3",
   "version": "3.8.3"
  }
 },
 "nbformat": 4,
 "nbformat_minor": 4
}
