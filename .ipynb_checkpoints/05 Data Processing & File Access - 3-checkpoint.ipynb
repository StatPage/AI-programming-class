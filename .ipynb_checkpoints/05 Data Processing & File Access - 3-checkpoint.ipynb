{
 "cells": [
  {
   "cell_type": "markdown",
   "metadata": {},
   "source": [
    "Dicitionary-Valued Dictionaries\n",
    "- Dictionary's values can be any type of object including a dictionary\n",
    "- Consider the dictionary that consists of dictionaries\n",
    "- The value of nations would be the dictionary"
   ]
  },
  {
   "cell_type": "code",
   "execution_count": 1,
   "metadata": {
    "scrolled": false
   },
   "outputs": [
    {
     "ename": "FileNotFoundError",
     "evalue": "[Errno 2] No such file or directory: 'UNdict.dat'",
     "output_type": "error",
     "traceback": [
      "\u001b[1;31m---------------------------------------------------------------------------\u001b[0m",
      "\u001b[1;31mFileNotFoundError\u001b[0m                         Traceback (most recent call last)",
      "\u001b[1;32m<ipython-input-1-4f5051e4bb46>\u001b[0m in \u001b[0;36m<module>\u001b[1;34m\u001b[0m\n\u001b[0;32m     27\u001b[0m         \u001b[0mprint\u001b[0m\u001b[1;33m(\u001b[0m\u001b[1;34m\"   {0:s}: {1:,.2f}\"\u001b[0m\u001b[1;33m.\u001b[0m\u001b[0mformat\u001b[0m\u001b[1;33m(\u001b[0m\u001b[0mk\u001b[0m\u001b[1;33m[\u001b[0m\u001b[1;36m0\u001b[0m\u001b[1;33m]\u001b[0m\u001b[1;33m,\u001b[0m \u001b[0mk\u001b[0m\u001b[1;33m[\u001b[0m\u001b[1;36m1\u001b[0m\u001b[1;33m]\u001b[0m\u001b[1;33m[\u001b[0m\u001b[1;34m\"popl\"\u001b[0m\u001b[1;33m]\u001b[0m\u001b[1;33m)\u001b[0m\u001b[1;33m)\u001b[0m\u001b[1;33m\u001b[0m\u001b[1;33m\u001b[0m\u001b[0m\n\u001b[0;32m     28\u001b[0m \u001b[1;33m\u001b[0m\u001b[0m\n\u001b[1;32m---> 29\u001b[1;33m \u001b[0mmain\u001b[0m\u001b[1;33m(\u001b[0m\u001b[1;33m)\u001b[0m\u001b[1;33m\u001b[0m\u001b[1;33m\u001b[0m\u001b[0m\n\u001b[0m",
      "\u001b[1;32m<ipython-input-1-4f5051e4bb46>\u001b[0m in \u001b[0;36mmain\u001b[1;34m()\u001b[0m\n\u001b[0;32m      3\u001b[0m \u001b[1;32mdef\u001b[0m \u001b[0mmain\u001b[0m\u001b[1;33m(\u001b[0m\u001b[1;33m)\u001b[0m\u001b[1;33m:\u001b[0m\u001b[1;33m\u001b[0m\u001b[1;33m\u001b[0m\u001b[0m\n\u001b[0;32m      4\u001b[0m     \u001b[1;31m## Display contries (and their population) from a specified continent.\u001b[0m\u001b[1;33m\u001b[0m\u001b[1;33m\u001b[0m\u001b[1;33m\u001b[0m\u001b[0m\n\u001b[1;32m----> 5\u001b[1;33m     \u001b[0mnations\u001b[0m \u001b[1;33m=\u001b[0m \u001b[0mgetDictionary\u001b[0m\u001b[1;33m(\u001b[0m\u001b[1;34m\"UNdict.dat\"\u001b[0m\u001b[1;33m)\u001b[0m\u001b[1;33m\u001b[0m\u001b[1;33m\u001b[0m\u001b[0m\n\u001b[0m\u001b[0;32m      6\u001b[0m     \u001b[0mprint\u001b[0m\u001b[1;33m(\u001b[0m\u001b[1;34m\"Enter the name of a continent\"\u001b[0m\u001b[1;33m,\u001b[0m \u001b[0mend\u001b[0m\u001b[1;33m=\u001b[0m\u001b[1;34m''\u001b[0m\u001b[1;33m)\u001b[0m\u001b[1;33m\u001b[0m\u001b[1;33m\u001b[0m\u001b[0m\n\u001b[0;32m      7\u001b[0m     \u001b[0mcontinent\u001b[0m \u001b[1;33m=\u001b[0m \u001b[0minput\u001b[0m\u001b[1;33m(\u001b[0m\u001b[1;34m\"other than Antarctica: \"\u001b[0m\u001b[1;33m)\u001b[0m\u001b[1;33m\u001b[0m\u001b[1;33m\u001b[0m\u001b[0m\n",
      "\u001b[1;32m<ipython-input-1-4f5051e4bb46>\u001b[0m in \u001b[0;36mgetDictionary\u001b[1;34m(fileName)\u001b[0m\n\u001b[0;32m     10\u001b[0m \u001b[1;33m\u001b[0m\u001b[0m\n\u001b[0;32m     11\u001b[0m \u001b[1;32mdef\u001b[0m \u001b[0mgetDictionary\u001b[0m\u001b[1;33m(\u001b[0m\u001b[0mfileName\u001b[0m\u001b[1;33m)\u001b[0m\u001b[1;33m:\u001b[0m\u001b[1;33m\u001b[0m\u001b[1;33m\u001b[0m\u001b[0m\n\u001b[1;32m---> 12\u001b[1;33m     \u001b[0minfile\u001b[0m \u001b[1;33m=\u001b[0m \u001b[0mopen\u001b[0m\u001b[1;33m(\u001b[0m\u001b[0mfileName\u001b[0m\u001b[1;33m,\u001b[0m \u001b[1;34m'rb'\u001b[0m\u001b[1;33m)\u001b[0m\u001b[1;33m\u001b[0m\u001b[1;33m\u001b[0m\u001b[0m\n\u001b[0m\u001b[0;32m     13\u001b[0m     \u001b[0mcountries\u001b[0m \u001b[1;33m=\u001b[0m \u001b[0mpickle\u001b[0m\u001b[1;33m.\u001b[0m\u001b[0mload\u001b[0m\u001b[1;33m(\u001b[0m\u001b[0minfile\u001b[0m\u001b[1;33m)\u001b[0m\u001b[1;33m\u001b[0m\u001b[1;33m\u001b[0m\u001b[0m\n\u001b[0;32m     14\u001b[0m     \u001b[0minfile\u001b[0m\u001b[1;33m.\u001b[0m\u001b[0mclose\u001b[0m\u001b[1;33m(\u001b[0m\u001b[1;33m)\u001b[0m\u001b[1;33m\u001b[0m\u001b[1;33m\u001b[0m\u001b[0m\n",
      "\u001b[1;31mFileNotFoundError\u001b[0m: [Errno 2] No such file or directory: 'UNdict.dat'"
     ]
    }
   ],
   "source": [
    "import pickle\n",
    "\n",
    "def main():\n",
    "    ## Display contries (and their population) from a specified continent.\n",
    "    nations = getDictionary(\"UNdict.dat\")\n",
    "    print(\"Enter the name of a continent\", end='')\n",
    "    continent = input(\"other than Antarctica: \")\n",
    "    continentDict = constructContinentNations(nations, continent)\n",
    "    dispalySortedResults(continentDict)\n",
    "    \n",
    "def getDictionary(fileName):\n",
    "    infile = open(fileName, 'rb')\n",
    "    countries = pickle.load(infile)\n",
    "    infile.close()\n",
    "    return countries\n",
    "\n",
    "def contructContinentNations(nations, continent):\n",
    "    continentDict = {}\n",
    "    for nation in nations:\n",
    "        if nations[nation][\"cont\"] == continent:\n",
    "            continentDict[nation] = nations[nation]\n",
    "    return continentDict\n",
    "\n",
    "def displaySortedResults(dictionaryName):\n",
    "    continentList = sorted(dictionaryName.items(), key=lambda k: k[1][\"popl\"], reverse=True)\n",
    "    for k in continentList:\n",
    "        print(\"   {0:s}: {1:,.2f}\".format(k[0], k[1][\"popl\"]))\n",
    "\n",
    "main()"
   ]
  },
  {
   "cell_type": "markdown",
   "metadata": {},
   "source": [
    "# 꼭 덮어서 만들어볼 것."
   ]
  },
  {
   "attachments": {},
   "cell_type": "markdown",
   "metadata": {},
   "source": [
    "![image](https://user-images.githubusercontent.com/61931924/96403262-d1975800-1212-11eb-860d-e5292676887c.png)\n"
   ]
  },
  {
   "cell_type": "markdown",
   "metadata": {},
   "source": [
    "### Using a Dictionary with Tuples as Keys\n",
    "- _USpresStatesDict.dat_ holds a dictionary whose items look like   \n",
    "    {'Kennedy', 'John'}: 'Massachusetts'\n",
    "    ('Reagan', 'Ronald'}: 'California'"
   ]
  },
  {
   "cell_type": "code",
   "execution_count": null,
   "metadata": {},
   "outputs": [],
   "source": [
    "import pickle\n",
    "\n",
    "def main():\n",
    "    presDict = createDictFromBinaryFile(\"USpresStatesDict.dat\")\n",
    "    state = getState(presDict)\n",
    "    displayOutput(state, presDict)\n",
    "    \n",
    "def createDictFromBinaryFile(fileName):\n",
    "    infile = open(fileName, 'rb')\n",
    "    dictionary = pickle.load(infile)\n",
    "    infile.close()\n",
    "    return dictionary\n",
    "\n",
    "def getState(dictName):\n",
    "    state = input(\"Enter the name of a state: \")\n",
    "    if state in dictname.values():\n",
    "        return state\n",
    "    else:\n",
    "        return \"There are no presidents from \" + state + '.'\n",
    "\n",
    "def displayOutput(state, dictName):\n",
    "    if state.starswith(\"There\"):\n",
    "        print(state)\n",
    "    else:\n",
    "        print(\"Presidents from\", state + ':')\n",
    "        for pres in strted(dictName):   # dictionary에 sorted operator를 쓰면 dictionary의 key가 정렬이 된다.\n",
    "            if dictName[pres] == state:\n",
    "                print(\"  \" + pres[1] + \" \" + pres[0])\n",
    "\n",
    "main()"
   ]
  },
  {
   "attachments": {},
   "cell_type": "markdown",
   "metadata": {},
   "source": [
    "![image](https://user-images.githubusercontent.com/61931924/96403274-df4cdd80-1212-11eb-9802-9ad8b3bc2f75.png)"
   ]
  },
  {
   "cell_type": "markdown",
   "metadata": {},
   "source": [
    "### Dictionary Comprehension\n",
    "- Dictionaries can be created with dictionary comprehension, e.g.,  \n",
    "        {x: x * x for x in range(4)}\n",
    "- Dictionary comprehension can be used to extract a subset of a dictionary, e.g.,  \n",
    "    NE = [\"Maine\", \"Conneticut\", \"New Hampshire\", \"Massachusetts\", \"Vermont\", \"Rhode Island\"}  \n",
    "    subSet = {key: presDict{key} for key in presDict if presDict[key] in NE}  \n",
    "    \n",
    "comprehension에서 if문은 조건을 만족하는 key만 출력하겠다는 것을 의미한다."
   ]
  }
 ],
 "metadata": {
  "kernelspec": {
   "display_name": "Python 3",
   "language": "python",
   "name": "python3"
  },
  "language_info": {
   "codemirror_mode": {
    "name": "ipython",
    "version": 3
   },
   "file_extension": ".py",
   "mimetype": "text/x-python",
   "name": "python",
   "nbconvert_exporter": "python",
   "pygments_lexer": "ipython3",
   "version": "3.8.3"
  }
 },
 "nbformat": 4,
 "nbformat_minor": 4
}
