{
 "cells": [
  {
   "cell_type": "markdown",
   "metadata": {},
   "source": [
    "### 문제: \"data/FirstPresidents.txt\" 파일을 불러와서 세 가지 방법으로 내용을 출력하라."
   ]
  },
  {
   "cell_type": "code",
   "execution_count": 20,
   "metadata": {
    "scrolled": true
   },
   "outputs": [
    {
     "name": "stdout",
     "output_type": "stream",
     "text": [
      "Enter the file's name: data/FirstPresidents.txt\n",
      "George Washington\n",
      "John Adams\n",
      "Thomas Jefferson\n",
      "\n",
      "['George Washington', 'John Adams', 'Thomas Jefferson']\n",
      "\n",
      "['George Washington', 'John Adams', 'Thomas Jefferson']\n"
     ]
    }
   ],
   "source": [
    "def main():\n",
    "    fileName = input(\"Enter the file's name: \")\n",
    "    displayWithForLoop(fileName)\n",
    "    print()\n",
    "    displayWithListComprehension(fileName)\n",
    "    print()\n",
    "    displayWithReadline(fileName)\n",
    "    \n",
    "def displayWithForLoop(file):\n",
    "    infile = open(file, 'r')\n",
    "    for line in infile:\n",
    "        print(line.rstrip())\n",
    "    infile.close()\n",
    "    \n",
    "def displayWithListComprehension(file):\n",
    "    infile = open(file, 'r')\n",
    "    fileList = [line.rstrip() for line in infile]\n",
    "    infile.close()\n",
    "    print(fileList)\n",
    "    \n",
    "def displayWithReadline(file):\n",
    "    infile = open(file, 'r')\n",
    "    line = infile.readline()\n",
    "    fileList = []\n",
    "    while line != \"\":\n",
    "        fileList.append(line.rstrip())\n",
    "        line = infile.readline()\n",
    "    infile.close()\n",
    "    print(fileList)\n",
    "    \n",
    "main()"
   ]
  },
  {
   "cell_type": "markdown",
   "metadata": {},
   "source": [
    "부족한 점:  \n",
    "1. list로 출력을 해줄 때 print()를 안 썼다. 결과가 가장 중요한 것이다.\n",
    "2. open 명령어를 사용할 때 읽는 버전인 'r'을 사용하지 않았다...\n",
    "3. readlines method를 사용할 때 공백을 제거해서 출력해야 하는데 그러지 않았다.\n",
    "4. 마지막에 infile을 꼭 닫아줄 필요는 없지만 닫아주는 걸 습관화하자.\n",
    "5. readlines를 사용하면 물론 한 번에 입력해서 좋지만 \\n을 제거해야 되서 조금 더 가공이 필요하다. readlines는 진짜 있는 그대로 입력하는 것이다."
   ]
  },
  {
   "cell_type": "markdown",
   "metadata": {},
   "source": [
    "### 문제: L=[\"George\", \"John\", \"Thomas] 리스트로 write와 writelines 'data/USPresidents2.txt' 파일과 'USPresidents3.txt' 파일을 만드시오."
   ]
  },
  {
   "cell_type": "code",
   "execution_count": 123,
   "metadata": {},
   "outputs": [],
   "source": [
    "def main():\n",
    "    L = [\"George\", \"John\", \"Thomas\"]\n",
    "    outfile2 = open(\"data/USPresidents2.txt\", 'w')\n",
    "    writeWithWrite(L, outfile2)\n",
    "    outfile3 = open(\"data/USPresidents3.txt\", 'w')\n",
    "    writeWithWriteLines(L, outfile3)\n",
    "    \n",
    "def writeWithWrite(L, outfile):\n",
    "    for i in range(len(L)):\n",
    "        x = L[i] + '\\n'\n",
    "        outfile.write(x)   # 위의 명령어를 묶어서 한 번에 outfile.write(L[i] + '\\n') 로 써도 된다.\n",
    "    outfile.close()\n",
    "    \n",
    "def writeWithWriteLines(L, outfile):\n",
    "    for i in range(len(L)):\n",
    "        L[i] = L[i] + '\\n'\n",
    "    outfile.writelines(L)\n",
    "    outfile.close()\n",
    "    \n",
    "main()  "
   ]
  },
  {
   "cell_type": "markdown",
   "metadata": {},
   "source": [
    "부족한 점:  \n",
    "1. for문 쓸 때 계속 range()를 까먹는다.\n",
    "2. 위에서 함수 때문에 원소마다 새줄문자가 붙었고 나는 이걸 또 잘못 사용해서 write나 writelines 가 알아서 새줄문자를 입력해주는 줄 알았다... 출력할 때는 반드시 새줄문자(\\n)을 붙여줘야 한다."
   ]
  },
  {
   "cell_type": "markdown",
   "metadata": {},
   "source": [
    "### 문제: \"data/States.txt\" 파일을 불러와서 \"data/StatesBeta.txt\" 파일을 작성하라."
   ]
  },
  {
   "cell_type": "code",
   "execution_count": 2,
   "metadata": {},
   "outputs": [],
   "source": [
    "def main():\n",
    "    stateList1 = loadFile(\"data/States.txt\")\n",
    "    writeWithWritelines(stateList1, \"data/StatesBeta.txt\")\n",
    "    stateList2 = loadFile(\"data/States.txt\")\n",
    "    writeWithWritelines2(stateList2, \"data/StatesPi.txt\")\n",
    "    \n",
    "def loadFile(fileName):\n",
    "    infile = open(fileName, 'r')\n",
    "    fileList = [line.rstrip() for line in infile]\n",
    "    infile.close()\n",
    "    return fileList\n",
    "    \n",
    "def writeWithWritelines(listName, output):\n",
    "    for i in range(len(listName)):\n",
    "        listName[i] = listName[i] + '\\n'\n",
    "    outfile = open(output, 'w')\n",
    "    outfile.writelines(listName)\n",
    "    outfile.close()\n",
    "\n",
    "def writeWithWritelines2(listName, output):\n",
    "    outfile = open(output, 'w')\n",
    "    for i in range(len(listName)):\n",
    "        outfile.write(listName[i] + '\\n')\n",
    "    outfile.close()\n",
    "    \n",
    "main()"
   ]
  },
  {
   "cell_type": "markdown",
   "metadata": {},
   "source": [
    "부족한 점:  \n",
    "1. top-down design으로 만들 때는 statement문을 사용하려면 return을 써야 하는데 안 썼다.\n",
    "2. 입력할 때는 반드시 새줄문자를 사용하도록 하자."
   ]
  },
  {
   "cell_type": "markdown",
   "metadata": {},
   "source": [
    "### 문제: 위 문제에서 정렬된 파일로 생성하라."
   ]
  },
  {
   "cell_type": "code",
   "execution_count": 7,
   "metadata": {
    "scrolled": true
   },
   "outputs": [],
   "source": [
    "def main():\n",
    "    stateList1 = loadFile(\"data/States.txt\")\n",
    "    stateList2 = loadFile(\"data/States.txt\")\n",
    "    writeWithWritelines(stateList1, \"data/sorted_StatesBeta.txt\")\n",
    "    writeWithWritelines2(stateList2, \"data/sorted_StatesGamma.txt\")\n",
    "    \n",
    "def loadFile(fileName):\n",
    "    infile = open(fileName, 'r')\n",
    "    fileList = [line.rstrip() for line in infile]\n",
    "    infile.close()\n",
    "    return fileList\n",
    "    \n",
    "def writeWithWritelines(listName, output):\n",
    "    listName.sort()\n",
    "    for i in range(len(listName)):\n",
    "        listName[i] = listName[i] + '\\n'\n",
    "    outfile = open(output, 'w')\n",
    "    outfile.writelines(listName)\n",
    "    outfile.close()\n",
    "    \n",
    "def writeWithWritelines2(listName, output):\n",
    "    listName.sort()\n",
    "    outfile = open(output, 'w')\n",
    "    for i in range(len(listName)):\n",
    "        listName[i] = listName[i] + '\\n'\n",
    "        outfile.write(listName[i])\n",
    "    outfile.close()\n",
    "main()"
   ]
  },
  {
   "cell_type": "markdown",
   "metadata": {},
   "source": [
    "부족한 점:\n",
    "1. 계속 write를 writeline으로 쓰려고 한다. 고치자.\n",
    "2. 위에서 새줄문자가 붙여진 리스트들을 사용하고 내가 잘 하는 줄 알았다. 시정하자."
   ]
  },
  {
   "cell_type": "markdown",
   "metadata": {},
   "source": [
    "### 'data/USPresidents1.txt' 파일을 작성하고 이 파일에 원소가 'James Madison', 'James Monroe' 인 리스트와 원소''John Q. Adams'를 추가하라."
   ]
  },
  {
   "cell_type": "code",
   "execution_count": 32,
   "metadata": {},
   "outputs": [],
   "source": [
    "def main():\n",
    "    creatFile(\"data/USPresidents1.txt\")\n",
    "    appendData1(\"data/USPresidents1.txt\")\n",
    "    appendData2(\"data/USPresidents1.txt\")\n",
    "    \n",
    "def creatFile(fileName):\n",
    "    outfile = open(fileName, 'w')\n",
    "    outfile.close()\n",
    "\n",
    "def appendData1(fileName):\n",
    "    infile = open(fileName, 'a')\n",
    "    infile.writelines(['James, Madison\\n', 'James Monroe\\n'])\n",
    "    infile.close()\n",
    "    \n",
    "def appendData2(fileName):\n",
    "    infile = open(fileName, 'a')\n",
    "    infile.write('John Q. Adams\\n')\n",
    "    infile.close()\n",
    "\n",
    "main()"
   ]
  },
  {
   "cell_type": "markdown",
   "metadata": {},
   "source": [
    "부족한 점:\n",
    "1. 리스트랑 원소 모두 \\n을 안 붙여주고 입력을 했기 때문에 원소끼리 붙게 됐다.\n",
    "2. 위의 문제와 차이점을 모르겠다. 위에선 리스트 그 자체로 입력했을 때 '\\n'을 안 붙여줘도 됐는데 여기선 왜 그러는 걸까? 이걸 알아야 손으로 코딩할 때 안 틀릴 수 있다.\n",
    "3. 원리까지는 모르겠지만 우선은 파일을 작성할 때 인덱스를 통해 새줄문자('\\n')를 붙인 리스트로 작성, 추가하는 것을 기본으로 하자. \n",
    "4. __입력할 때는 항상 새줄문자를 붙여야 한다.__"
   ]
  },
  {
   "cell_type": "markdown",
   "metadata": {},
   "source": [
    "### 문제: \"data/USPresidents.txt\" 파일이 같은 폴더에 존재하는 지 확인하고 있다면 이름을 'data/USP1.txt'로 바꾸고 없으면 \"data/USPresidents.txt\"파일을 만드시오."
   ]
  },
  {
   "cell_type": "code",
   "execution_count": 7,
   "metadata": {},
   "outputs": [],
   "source": [
    "import os\n",
    "if os.path.isfile(\"data/USPresidents.txt\"):\n",
    "    os.rename(\"data/USPresidents.txt\", \"data/USP2.txt\")\n",
    "else:\n",
    "    outfile = open(\"data/USPresidents.txt\", 'w')\n",
    "    outfile.close()"
   ]
  },
  {
   "cell_type": "markdown",
   "metadata": {},
   "source": [
    "부족한 점: \n",
    "1. data 폴더에 데이터를 따로 저장하지 못했다."
   ]
  },
  {
   "cell_type": "markdown",
   "metadata": {},
   "source": [
    "### 문제: {'korea', 'japan', 'china'} 라는 set를 만드시오.\n",
    "\n",
    "1. 'india'가 set 안에 있는지 확인해서 boolean value를 반환하시오.\n",
    "2. 'korea'도 위와 같이 실행하시오.\n",
    "3. set의 복사본을 생성하시오. 이 둘은 같은 객체인지 대답하시오.\n",
    "4. 복사본에 russia를 추가하고 복사본과 원본의 원소를 확인하시오.\n",
    "5. 원본에 japan을 두 가지 방법으로 제거하고 복사본과 원본을 확인하시오.\n",
    "6. 무엇이 superset이고 subset인지 True 값을 반환하는 조건문을 작성하시오.\n",
    "7. 연산자를 통해 원본의 교집합, 합집합을 구하시오.\n",
    "8. method를 통해 복사본의 교집합, 합집합을 구하시오."
   ]
  },
  {
   "cell_type": "code",
   "execution_count": 13,
   "metadata": {},
   "outputs": [
    {
     "name": "stdout",
     "output_type": "stream",
     "text": [
      "False\n",
      "True\n",
      "{'japan', 'china', 'korea'} {'japan', 'china', 'korea', 'russia'}\n",
      "{'china', 'korea'} {'japan', 'china', 'korea', 'russia'}\n",
      "True\n",
      "True\n",
      "{'china', 'korea'}\n",
      "{'japan', 'china', 'korea', 'russia'}\n",
      "{'china', 'korea'}\n",
      "{'japan', 'china', 'korea', 'russia'}\n"
     ]
    }
   ],
   "source": [
    "s1 = {'korea', 'japan', 'china'}\n",
    "#1\n",
    "print('india' in s)\n",
    "#2\n",
    "print('korea' in s)\n",
    "#3\n",
    "s2 = s1.copy()\n",
    "#4\n",
    "s2.add('russia')\n",
    "print(s1, s2)\n",
    "#5\n",
    "s1.discard('japan') # or remove\n",
    "print(s1, s2)\n",
    "#6\n",
    "print(s2.issuperset(s1))\n",
    "print(s1.issubset(s2))\n",
    "# 7\n",
    "print(s1 & s2)\n",
    "print(s1 | s2)\n",
    "#8\n",
    "print(s2.intersection(s1))\n",
    "print(s2.union(s1))"
   ]
  },
  {
   "cell_type": "markdown",
   "metadata": {},
   "source": [
    "부족한 점:\n",
    "1. 셋을 복사하는 method를 까먹었다.\n",
    "2. union method랑 동일한 연산자를 까먹었다."
   ]
  },
  {
   "cell_type": "markdown",
   "metadata": {},
   "source": [
    "### 문제: 리스트를 생성하시오. \n",
    "1. 생성한 리스트의 타입을 튜플로 바꾸시오.\n",
    "2. 리스트의 타입을 set으로 바꾸시오.\n",
    "3. set을 다시 리스트로 바꾸시오.\n",
    "\n",
    "### 문제: 튜플을 생성하시오.\n",
    "1. 생성한 튜플의 타입을 set으로 바꾸시오.\n",
    "2. set의 원소를 제거하시오."
   ]
  },
  {
   "cell_type": "code",
   "execution_count": 14,
   "metadata": {},
   "outputs": [
    {
     "name": "stdout",
     "output_type": "stream",
     "text": [
      "(1, 2, 3, 4, 5) {1, 2, 3, 4, 5} [1, 2, 3, 4, 5]\n"
     ]
    }
   ],
   "source": [
    "list1 = [1,2,3,4,5]\n",
    "#1\n",
    "t = tuple(list1)\n",
    "#2\n",
    "s = set(list1)\n",
    "#3\n",
    "l = list(s)\n",
    "print(t, s, l)"
   ]
  },
  {
   "cell_type": "code",
   "execution_count": 9,
   "metadata": {},
   "outputs": [
    {
     "name": "stdout",
     "output_type": "stream",
     "text": [
      "{1, 2, 3, 4, 5}\n",
      "set()\n"
     ]
    }
   ],
   "source": [
    "tuple1 = (1,2,3,4,5,5)\n",
    "#1\n",
    "s = set(tuple1)\n",
    "print(s)\n",
    "#2\n",
    "s.clear()\n",
    "print(s)"
   ]
  },
  {
   "cell_type": "markdown",
   "metadata": {},
   "source": [
    "### 문제: 원소들이 string으로 이뤄진 set을 생성하시오.\n",
    "1. set을 정렬한 리스트로 반환하시오.\n",
    "2. set을 길이를 기준으로 내림차순으로 정렬한 리스트를 반환하시오.\n",
    "3. set을 내림차순으로 정렬한 리스트를 반환하시오."
   ]
  },
  {
   "cell_type": "code",
   "execution_count": 19,
   "metadata": {
    "scrolled": true
   },
   "outputs": [
    {
     "name": "stdout",
     "output_type": "stream",
     "text": [
      "['a', 'bc', 'def', 'ghij'] ['a', 'def', 'bc', 'ghij'] ['ghij', 'def', 'bc', 'a']\n"
     ]
    }
   ],
   "source": [
    "s = {'a', 'bc', 'def', 'ghij'}\n",
    "#1\n",
    "list_sort = sorted(s)\n",
    "#2\n",
    "list_key = sorted(s, key=lambda x: x.count('a'), reverse=True)\n",
    "#3\n",
    "list_reverse = sorted(s, reverse=True)\n",
    "print(list_sort, list_key, list_reverse)"
   ]
  },
  {
   "cell_type": "markdown",
   "metadata": {},
   "source": [
    "### 문제: \"data/VPres.txt\"와 \"data/USPres.txt\" 파일에서 set을 불러오고 둘의 교집합을 포함하는 내용으로 하는 파일 \"data/PresAndVPres2.txt\"을 만드시오."
   ]
  },
  {
   "cell_type": "code",
   "execution_count": 29,
   "metadata": {},
   "outputs": [],
   "source": [
    "def main():\n",
    "    vPres = createSet(\"data/VPres.txt\")\n",
    "    usPres = createSet(\"data/USPres.txt\")\n",
    "    interPres = intersectionSet(vPres, usPres)\n",
    "    createFile(interPres, \"data/PresAndVPres2.txt\")\n",
    "    \n",
    "def createSet(fileName):\n",
    "    infile = open(fileName, 'r')\n",
    "    fileSet = {x for x in infile}\n",
    "    infile.close()\n",
    "    return fileSet\n",
    "\n",
    "def intersectionSet(set1, set2):\n",
    "    return set1.intersection(set2)\n",
    "\n",
    "def createFile(setName, fileName):\n",
    "    outfile = open(fileName, 'w')\n",
    "    outfile.writelines(setName)\n",
    "    outfile.close()\n",
    "    \n",
    "main()"
   ]
  },
  {
   "cell_type": "markdown",
   "metadata": {},
   "source": [
    "부족한 점:\n",
    "1. lambda 식을 쓰려고 했는데 lambda는 필요 없었고 x for x in infile만 쓰면 됐다.  \n",
    "2. __내가 아직 list comprehension을 lambda 식과 구분할 지 모른다. 파일을 내려받거나 만들 때 list comprehension이 사용되는 것을 꼭 기억하자.__\n",
    "3. 5-1에서 연습한 거는 list comprehension이었고 여기서도 list comprehension을 연습한다.\n",
    "4. set도 list comprehension이 사용된다."
   ]
  },
  {
   "cell_type": "code",
   "execution_count": 121,
   "metadata": {},
   "outputs": [
    {
     "name": "stdout",
     "output_type": "stream",
     "text": [
      "잘까?\n"
     ]
    }
   ],
   "source": [
    "def main():\n",
    "    \"\"\"잘까?\"\"\"\n",
    "    \n",
    "print(main.__doc__)"
   ]
  },
  {
   "cell_type": "markdown",
   "metadata": {},
   "source": [
    "### 문제: set1과 set2를 만들고 set들간의 xor 집합을 만드시오. 또한 set2에는 없는 set1의 원소만 반환하시오."
   ]
  },
  {
   "cell_type": "code",
   "execution_count": 30,
   "metadata": {},
   "outputs": [
    {
     "name": "stdout",
     "output_type": "stream",
     "text": [
      "{1, 10, 15}\n",
      "{1, 15}\n"
     ]
    }
   ],
   "source": [
    "set1 = {1, 2, 15, 20}\n",
    "set2 = {2, 10, 20}\n",
    "print(set1 ^ set2)\n",
    "print(set1 - set2)"
   ]
  },
  {
   "cell_type": "markdown",
   "metadata": {},
   "source": [
    "### 문제: data/UN.txt 파일을 불러와(데이터는 ,로 구분되면 name, continent, population, land area순이다.) 대륙이 Europe인 나라들을 추출하시오."
   ]
  },
  {
   "cell_type": "code",
   "execution_count": 32,
   "metadata": {},
   "outputs": [
    {
     "name": "stdout",
     "output_type": "stream",
     "text": [
      "Enter continent's name: Europe\n",
      "Albania\n",
      "Andorra\n",
      "Austria\n",
      "Belarus\n",
      "Belgium\n",
      "Bosnia and Herzegovina\n",
      "Bulgaria\n",
      "Croatia\n",
      "Czech Republic\n",
      "Denmark\n",
      "Estonia\n",
      "Finland\n",
      "France\n",
      "Germany\n",
      "Greece\n",
      "Hungary\n",
      "Iceland\n",
      "Ireland\n",
      "Italy\n",
      "Latvia\n",
      "Liechtenstein\n",
      "Lithuania\n",
      "Luxembourg\n",
      "Malta\n",
      "Monaco\n",
      "Montenegro\n",
      "Netherlands\n",
      "Norway\n",
      "Poland\n",
      "Portugal\n",
      "Republic of Moldova\n",
      "Romania\n",
      "Russian Federation\n",
      "San Marino\n",
      "Serbia\n",
      "Slovakia\n",
      "Slovenia\n",
      "Spain\n",
      "Sweden\n",
      "Switzerland\n",
      "The former Yugoslav Republic of Macedonia\n",
      "Ukraine\n",
      "United Kingdom\n"
     ]
    }
   ],
   "source": [
    "def main():\n",
    "    continent = input(\"Enter continent's name: \")\n",
    "    continent = continent.title()\n",
    "    if continent != \"Antartica\":\n",
    "        infile = open(\"data/UN.txt\", 'r')\n",
    "        for line in infile:\n",
    "            data = line.split(',')\n",
    "            if data[1] == continent:\n",
    "                print(data[0])\n",
    "                \n",
    "    else:\n",
    "        print(\"There are no countries in Antartica\")\n",
    "    \n",
    "main()"
   ]
  },
  {
   "cell_type": "markdown",
   "metadata": {},
   "source": [
    "부족한 점:  \n",
    "1. 먼저 입력을 해서 파일에서 찾으면 되는데 나는 지금 데이터들을 다 불러와서 리스트처럼 만드려니까 꼬였다."
   ]
  },
  {
   "cell_type": "markdown",
   "metadata": {},
   "source": [
    "### 문제: data/UN.txt 파일을 불러와 자료를 영토의 크기를 기준인 내림차순으로 정렬하고 아래와 같이 출력이 되도록 만들어라. 그리고 나라 이름과 영토를 ,로 붙인 자료 형태로 data/UNbyArea.txt 파일을 만들어라. (Hint: 불러들인 자료 중에 형태를 바꿔야 하는 값들이 있다. 출력형태는 20칸과 9칸이다.)\n",
    "![image](https://user-images.githubusercontent.com/61931924/96412708-7de23a00-1225-11eb-926c-856ae38320b8.png)"
   ]
  },
  {
   "cell_type": "code",
   "execution_count": 56,
   "metadata": {
    "scrolled": true
   },
   "outputs": [
    {
     "name": "stdout",
     "output_type": "stream",
     "text": [
      "Country             Area (sq. mi.)\n",
      "Russian Federation    6592800\n",
      "Canada                3855000\n",
      "United States         3794066\n",
      "China                 3696100\n",
      "Brazil                3287597\n"
     ]
    }
   ],
   "source": [
    "def main():\n",
    "    countries = createList(\"data/UN.txt\")\n",
    "    countries.sort(key=lambda x: x[3], reverse=True)\n",
    "    displayCountries(countries)\n",
    "    createFile(countries)\n",
    "    \n",
    "def createList(fileName):\n",
    "    infile = open(fileName, 'r')\n",
    "    countryList = [line.rstrip() for line in infile]\n",
    "    infile.close()\n",
    "    for i in range(len(countryList)):\n",
    "        countryList[i] = countryList[i].split(',')\n",
    "        countryList[i][2] = eval(countryList[i][2])\n",
    "        countryList[i][3] = eval(countryList[i][3])\n",
    "    return countryList\n",
    "\n",
    "def displayCountries(countryList):\n",
    "    print('{0:20}{1:9}'.format('Country', 'Area (sq. mi.)'))\n",
    "    for i in range(5):\n",
    "        print('{0:20}{1:9}'.format(countryList[i][0], countryList[i][3]))\n",
    "        \n",
    "def createFile(countryList):\n",
    "    outfile = open(\"data/UNbyArea.txt\", 'w')\n",
    "    for country in countryList:\n",
    "        outfile.write(country[0] + ',' + str(country[3]) + '\\n')\n",
    "    outfile.close()\n",
    "        \n",
    "main()"
   ]
  },
  {
   "cell_type": "markdown",
   "metadata": {},
   "source": [
    "부족한 점:\n",
    "1. 우선 전혀 짤 줄 모른다.\n",
    "2. 파일을 불러 리스트를 만들 때 infile.rstrip()라고 했다. list comprehension을 습관화할 수 있도록 하자.\n",
    "3. 출력을 할 때 엄청 틀렸는데 {0:}하고 {1:}으로 입력할 변수의 위치를 지정하는데 나는 이걸 둘 다 0으로 지정해놨다. 그리고 내가 변수를 잘못지정한 줄 알았다. 출력하는 변수를 선택하는 자리도 확인하자.\n",
    "4. sort를 사용할 때 key에 lambda x는 리스트의 각 원소를 말하는 거니까 굳이 for문을 사용하지 않아도 괜찮다."
   ]
  },
  {
   "cell_type": "markdown",
   "metadata": {},
   "source": [
    "### 문제:\n",
    "1. 리스트로 구성된 리스트를 생성 후 딕셔너리로 만드시오.\n",
    "2. 튜플로 구성된 리스트를 생성 후 딕셔너리로 만드시오.\n",
    "3. 딕셔너리를 생성 후 임의의 원소를 하나 제거하시오.\n",
    "4. 위의 문제에서 생성 된 딕셔너리에 새로운 원소를 입력하시오.\n",
    "5. 딕셔너리의 모든 키와 값을 출력하시오."
   ]
  },
  {
   "cell_type": "code",
   "execution_count": 11,
   "metadata": {},
   "outputs": [
    {
     "name": "stdout",
     "output_type": "stream",
     "text": [
      "{'comic': 3, 'webtoon': 2, 'youtube': 1}\n",
      "{'hat': 1, 'hot': 2, 'hit': 3}\n",
      "{'webtoon': 2, 'youtube': 1}\n",
      "webtoon 2\n",
      "youtube 1\n",
      "movie 4\n"
     ]
    }
   ],
   "source": [
    "#1\n",
    "a = [['comic', 3], ['webtoon', 2], ['youtube', 1]]\n",
    "d1 = dict(a)\n",
    "print(d1)\n",
    "#2\n",
    "b = [('hat', 1), ('hot', 2), ('hit', 3)]\n",
    "d2 = dict(b)\n",
    "print(d2)\n",
    "#3\n",
    "del d1['comic']\n",
    "print(d1)\n",
    "#4\n",
    "d1['movie'] =4\n",
    "#5\n",
    "for x, y in d1.items():\n",
    "    print(x, y)"
   ]
  },
  {
   "cell_type": "markdown",
   "metadata": {},
   "source": [
    "부족한 점:\n",
    "1. 딕셔너리에서 원소를 삭제할 때(del 사용) 위치를 지정해야 하는지 원소를 지정해야 하는지 헷갈렸었다. 리스트에서는 인덱스였지만 딕셔너리에서는 키 값을 입력하므로 꼭 기억하자. 틀렸으니까...\n",
    "2. 딕셔너리의 모든 키와 값을 출력할 때 items()를 까먹었다.\n",
    "3. dictionaryName.items()를 사용하면 (key, value)를 원소로 하는 리스트가 출력되는 것을 몰랐다."
   ]
  },
  {
   "cell_type": "markdown",
   "metadata": {},
   "source": [
    "### 문제:\n",
    "1. {0:0, 1:1, 2:2, 3:3}인 딕셔너리를 만드시오.\n",
    "2. 딕셔너리에서 하나의 명령어로 키 5를 입력하고 5를 출력하시오.\n",
    "3. 딕셔너리의 키를 리스트로 반환하시오. 값도 리스트로 반환하시오. 키와 값도 묶어서 반환하시오.\n",
    "4. 딕셔너리를 복사하시오. 그리고 속이 없는 딕셔너리도 생성하시오.\n",
    "5. 딕셔너리의 원소를 모두 제거하시오."
   ]
  },
  {
   "cell_type": "code",
   "execution_count": 128,
   "metadata": {},
   "outputs": [
    {
     "name": "stdout",
     "output_type": "stream",
     "text": [
      "5\n",
      "\n",
      "[1, 2, 3]\n",
      "[1, 2, 3]\n",
      "[(1, 1), (2, 2), (3, 3)]\n",
      "\n",
      "{1: 1, 2: 2, 3: 3} {}\n",
      "\n",
      "{}\n"
     ]
    }
   ],
   "source": [
    "#1\n",
    "d = {1:1, 2:2, 3:3}\n",
    "#2\n",
    "print(d.get(5, 5))\n",
    "print()\n",
    "#3\n",
    "print(list(d.keys()))\n",
    "print(list(d.values()))\n",
    "print(list(d.items()))\n",
    "print()\n",
    "#4\n",
    "e = dict(d)\n",
    "s = {}\n",
    "print(e, s)\n",
    "print()\n",
    "#5\n",
    "e.clear()\n",
    "print(e)"
   ]
  },
  {
   "cell_type": "markdown",
   "metadata": {},
   "source": [
    "부족한 점:\n",
    "1. get method를 사용할 때 반환하는 것을 까먹고 출력을 못했다. 반환하는 만큼 지정될 변수 혹은 출력할 print를 사용해야 했다."
   ]
  },
  {
   "cell_type": "code",
   "execution_count": 64,
   "metadata": {},
   "outputs": [
    {
     "name": "stdout",
     "output_type": "stream",
     "text": [
      "string\n"
     ]
    }
   ],
   "source": [
    "a = 'stri\\\n",
    "ng'\n",
    "print(a)"
   ]
  },
  {
   "cell_type": "code",
   "execution_count": 66,
   "metadata": {},
   "outputs": [
    {
     "name": "stdout",
     "output_type": "stream",
     "text": [
      "string\n"
     ]
    }
   ],
   "source": [
    "b = ('str' + \n",
    "'ing')\n",
    "print(b)"
   ]
  },
  {
   "cell_type": "markdown",
   "metadata": {},
   "source": [
    "부족한 점:\n",
    "1. b를 입력할 때 그냥 새줄로 넘어갔다. 괄호가 있을 때만 사용이 가능한 것을 유의하자."
   ]
  },
  {
   "cell_type": "code",
   "execution_count": 67,
   "metadata": {},
   "outputs": [
    {
     "name": "stdout",
     "output_type": "stream",
     "text": [
      "bc\n"
     ]
    }
   ],
   "source": [
    "a = \"\"\n",
    "a += \"b\"\n",
    "a += \"c\"\n",
    "print(a)"
   ]
  },
  {
   "cell_type": "markdown",
   "metadata": {},
   "source": [
    "### 문제: data/Gettysburg.txt 파일을 불러들여 리스트와 딕셔너리를 만들어라. 단어의 총 개수와 종류를 나타내고 중복되는 단어는 5개 이상이 되는 것만 출력하도록 하라."
   ]
  },
  {
   "cell_type": "code",
   "execution_count": 88,
   "metadata": {},
   "outputs": [
    {
     "name": "stdout",
     "output_type": "stream",
     "text": [
      "The Gettysburg Address contains 268 words.\n",
      "The Gettysburg Address contains 139 different words.\n",
      "The most common words and their frequencies are:\n",
      "that: 13\n",
      "the: 11\n",
      "we: 10\n",
      "to: 8\n",
      "here: 8\n",
      "a: 7\n",
      "and: 6\n",
      "nation: 5\n",
      "of: 5\n",
      "have: 5\n",
      "for: 5\n",
      "it: 5\n"
     ]
    }
   ],
   "source": [
    "def main():\n",
    "    wordOfList = loadFile(\"data/Gettysburg.txt\")\n",
    "    dict_ = formDict(wordOfList)\n",
    "    displayResult(wordOfList, dict_)\n",
    "    displayNumber(dict_)\n",
    "    \n",
    "def loadFile(fileName):\n",
    "    infile = open(fileName, 'r')\n",
    "    originLine = infile.readline().lower()\n",
    "    ch_ = \"\"\n",
    "    for ch in originLine:\n",
    "        if (\"a\"<= ch <= \"z\") or (ch == \" \"):\n",
    "            ch_ += ch\n",
    "    ch_ = ch_.split()\n",
    "    return ch_\n",
    "\n",
    "def formDict(list_):\n",
    "    dict_ = {}\n",
    "    for line in list_:\n",
    "        dict_[line] = 0\n",
    "    for line in list_:\n",
    "        dict_[line] += 1\n",
    "    return dict_\n",
    "\n",
    "def displayResult(list_, dict_):\n",
    "    print(\"The Gettysburg Address contains\", len(list_), 'words.')\n",
    "    print(\"The Gettysburg Address contains\", len(dict_), 'different words.')\n",
    "    \n",
    "def displayNumber(dict_):\n",
    "    items = []\n",
    "    keys = dict_.keys()\n",
    "    for key in keys:\n",
    "        if dict_[key] >= 5:\n",
    "            items.append((key, dict_[key]))\n",
    "    items.sort(key=lambda x: x[1], reverse=True)\n",
    "    print(\"The most common words and their frequencies are:\")\n",
    "    for key, item in items:\n",
    "        print(f\"{key}: {item}\")\n",
    "    \n",
    "main()"
   ]
  },
  {
   "cell_type": "markdown",
   "metadata": {},
   "source": [
    "부족한 점:\n",
    "1. 파일을 거르면서 로딩을 할 때 무엇을 반환해야할지 몰랐다.\n",
    "2. readline() 안에 infile을 넣는 실수를 했다.\n",
    "3. readline() 으로 불렀으면 하나의 문자고 for문을 돌리면 하나의 알파벳으로 for문을 돌리는데 그렇게 안 하고 엉뚱한 짓을 했다.\n",
    "4. 리스트에 키랑 값을 추가해주려는데 append method는 하나의 값만 받기 때문에 튜플 형태로 묶어줬어야 했다.\n",
    "5. 문자 형태여서 대문자도 있고 소문자도 있는데 단어의 개수를 세주려면 .lower() 혹은 .upper()를 써줘야 했다."
   ]
  },
  {
   "cell_type": "markdown",
   "metadata": {},
   "source": [
    "### 문제: 딕셔너리 addr이 주어져 있다. 이를 이용해서 이름이 \"Binary File2.txt\"인 이진 파일을 만들고 또한 이진 파일에서 내용을 다운받아 출력하라."
   ]
  },
  {
   "cell_type": "code",
   "execution_count": 96,
   "metadata": {},
   "outputs": [
    {
     "name": "stdout",
     "output_type": "stream",
     "text": [
      "{'Swaroop': 'swaroop@swaroopch.com', 'Larry': 'larry@wall.org', 'Matsumoto': 'matz@ruby-lang.org', 'Spammer': 'spammer@hotmail.com'}\n"
     ]
    }
   ],
   "source": [
    "import pickle\n",
    "\n",
    "addr = { 'Swaroop'    : 'swaroop@swaroopch.com',\n",
    "          'Larry'     : 'larry@wall.org',\n",
    "          'Matsumoto' : 'matz@ruby-lang.org',\n",
    "          'Spammer'   : 'spammer@hotmail.com'}\n",
    "\n",
    "outfile = open(\"data/Binary File2.txt\", 'wb')\n",
    "pickle.dump(addr, outfile)\n",
    "outfile.close()\n",
    "\n",
    "infile = open(\"data/Binary File2.txt\", 'rb')\n",
    "addr2 = pickle.load(infile)\n",
    "infile.close()"
   ]
  },
  {
   "cell_type": "markdown",
   "metadata": {},
   "source": [
    "부족한 점:\n",
    "1. pickle 사용법을 몰랐다. pickle.dump(데이터, 작성할 파일)\n",
    "2. pickle.load()을 사용하면 변수를 선언해서 사용해야 하는데 그걸 몰랐다."
   ]
  },
  {
   "cell_type": "markdown",
   "metadata": {},
   "source": [
    "### 문제: data/UNdict.dat 파일을 통해서 다운받아 Europe을 입력했을 때 Europe에 속하는 데이터를 인구 내림차순으로 정렬하라.\n",
    "![image](https://user-images.githubusercontent.com/61931924/96449563-feb62b80-124f-11eb-8892-d52988145c54.png)\n"
   ]
  },
  {
   "cell_type": "code",
   "execution_count": 12,
   "metadata": {},
   "outputs": [
    {
     "name": "stdout",
     "output_type": "stream",
     "text": [
      "Enter continent's name: Europe\n",
      "dict_items([('Czech Republic', {'popl': 10.6, 'cont': 'Europe', 'area': 30450}), ('Slovenia', {'popl': 2.0, 'cont': 'Europe', 'area': 7827}), ('France', {'popl': 66.3, 'cont': 'Europe', 'area': 211209}), ('Sweden', {'popl': 9.7, 'cont': 'Europe', 'area': 173732}), ('Norway', {'popl': 5.1, 'cont': 'Europe', 'area': 148746}), ('Russian Federation', {'popl': 142.5, 'cont': 'Europe', 'area': 6592800}), ('Spain', {'popl': 47.7, 'cont': 'Europe', 'area': 195364}), ('Romania', {'popl': 21.7, 'cont': 'Europe', 'area': 92043}), ('Albania', {'popl': 3.0, 'cont': 'Europe', 'area': 11100}), ('Croatia', {'popl': 4.5, 'cont': 'Europe', 'area': 21831}), ('Finland', {'popl': 5.3, 'cont': 'Europe', 'area': 130596}), ('Andorra', {'popl': 0.085, 'cont': 'Europe', 'area': 181}), ('Greece', {'popl': 11.8, 'cont': 'Europe', 'area': 50944}), ('The former Yugoslav Republic of Macedonia', {'popl': 2.1, 'cont': 'Europe', 'area': 205}), ('Luxembourg', {'popl': 0.52, 'cont': 'Europe', 'area': 998}), ('Netherlands', {'popl': 16.59, 'cont': 'Europe', 'area': 16033}), ('Italy', {'popl': 61.7, 'cont': 'Europe', 'area': 116346}), ('Ukraine', {'popl': 44.3, 'cont': 'Europe', 'area': 233090}), ('Ireland', {'popl': 4.8, 'cont': 'Europe', 'area': 31520}), ('Monaco', {'popl': 0.031, 'cont': 'Europe', 'area': 0.76}), ('Malta', {'popl': 0.41, 'cont': 'Europe', 'area': 121}), ('Bulgaria', {'popl': 6.9, 'cont': 'Europe', 'area': 42823}), ('Poland', {'popl': 38.3, 'cont': 'Europe', 'area': 120726}), ('Portugal', {'popl': 10.9, 'cont': 'Europe', 'area': 35645}), ('Bosnia and Herzegovina', {'popl': 3.9, 'cont': 'Europe', 'area': 19767}), ('Montenegro', {'popl': 0.65, 'cont': 'Europe', 'area': 5019}), ('Serbia', {'popl': 7.2, 'cont': 'Europe', 'area': 34116}), ('Hungary', {'popl': 10.0, 'cont': 'Europe', 'area': 35919}), ('Liechtenstein', {'popl': 0.037, 'cont': 'Europe', 'area': 62}), ('Denmark', {'popl': 5.6, 'cont': 'Europe', 'area': 16640}), ('Latvia', {'popl': 2.2, 'cont': 'Europe', 'area': 24938}), ('Republic of Moldova', {'popl': 3.6, 'cont': 'Europe', 'area': 13067}), ('Estonia', {'popl': 1.3, 'cont': 'Europe', 'area': 17413}), ('Belarus', {'popl': 9.6, 'cont': 'Europe', 'area': 80155}), ('United Kingdom', {'popl': 66.7, 'cont': 'Europe', 'area': 94526}), ('Austria', {'popl': 8.2, 'cont': 'Europe', 'area': 32383}), ('Switzerland', {'popl': 8.1, 'cont': 'Europe', 'area': 15940}), ('Lithuania', {'popl': 3.5, 'cont': 'Europe', 'area': 25173}), ('San Marino', {'popl': 0.033, 'cont': 'Europe', 'area': 23.6}), ('Germany', {'popl': 81.0, 'cont': 'Europe', 'area': 137847}), ('Belgium', {'popl': 10.4, 'cont': 'Europe', 'area': 11787}), ('Slovakia', {'popl': 5.4, 'cont': 'Europe', 'area': 18932}), ('Iceland', {'popl': 0.32, 'cont': 'Europe', 'area': 39770})])\n",
      "Russian Federation: 142.5\n",
      "Germany: 81.0\n",
      "United Kingdom: 66.7\n",
      "France: 66.3\n",
      "Italy: 61.7\n",
      "Spain: 47.7\n",
      "Ukraine: 44.3\n",
      "Poland: 38.3\n",
      "Romania: 21.7\n",
      "Netherlands: 16.59\n",
      "Greece: 11.8\n",
      "Portugal: 10.9\n",
      "Czech Republic: 10.6\n",
      "Belgium: 10.4\n",
      "Hungary: 10.0\n",
      "Sweden: 9.7\n",
      "Belarus: 9.6\n",
      "Austria: 8.2\n",
      "Switzerland: 8.1\n",
      "Serbia: 7.2\n",
      "Bulgaria: 6.9\n",
      "Denmark: 5.6\n",
      "Slovakia: 5.4\n",
      "Finland: 5.3\n",
      "Norway: 5.1\n",
      "Ireland: 4.8\n",
      "Croatia: 4.5\n",
      "Bosnia and Herzegovina: 3.9\n",
      "Republic of Moldova: 3.6\n",
      "Lithuania: 3.5\n",
      "Albania: 3.0\n",
      "Latvia: 2.2\n",
      "The former Yugoslav Republic of Macedonia: 2.1\n",
      "Slovenia: 2.0\n",
      "Estonia: 1.3\n",
      "Montenegro: 0.65\n",
      "Luxembourg: 0.52\n",
      "Malta: 0.41\n",
      "Iceland: 0.32\n",
      "Andorra: 0.085\n",
      "Liechtenstein: 0.037\n",
      "San Marino: 0.033\n",
      "Monaco: 0.031\n"
     ]
    }
   ],
   "source": [
    "import pickle\n",
    "\n",
    "def main():\n",
    "    countries = loadDict('data/UNdict.dat')\n",
    "    cont = input(\"Enter continent's name: \")\n",
    "    countries2 = sameContinent(countries, cont)\n",
    "    display(countries2)\n",
    "    \n",
    "def loadDict(fileName):\n",
    "    infile = open('data/UNdict.dat', 'rb')\n",
    "    dict_ = pickle.load(infile)\n",
    "    infile.close()\n",
    "    return dict_\n",
    "    \n",
    "def sameContinent(dict_, contName):\n",
    "    country_dict = {}\n",
    "    for key in dict_:\n",
    "        if dict_[key][\"cont\"] == contName:\n",
    "            country_dict[key] = dict_[key]\n",
    "    return country_dict\n",
    "\n",
    "def display(country_dict):\n",
    "    countries = sorted(country_dict.items(), key= lambda x: x[1][\"popl\"], reverse=True)\n",
    "    for x in countries:\n",
    "        print(f'{x[0]}: {x[1][\"popl\"]}')\n",
    "\n",
    "main()"
   ]
  },
  {
   "cell_type": "markdown",
   "metadata": {},
   "source": [
    "부족한 점:\n",
    "1. 18번째 줄에 key 값을 입력해야 하는데 그냥 리스트처럼 추출하려고 했다.\n",
    "2. 딕셔너리로 for문을 돌리면 key만 할당이 되는데 item까지 지정해서 풀려고 했다. key와 item을 동시에 사용하려면 .items()를 사용하자.\n",
    "3. 반환한 거는 list인데 딕셔너리처럼 쓰려고 해서 오류가 떴다.\n",
    "4. sorted() function은 리스트로 반환해주는 명령어다.\n",
    "5. 딕셔너리를 어떻게 정렬할지 고민은 했는데 키와 딕셔너리(값)을 튜플로 묶어서 원소로 갖고 있는 리스트로 반환해주는 .items()가 있었다. 이것을 활용했어야 했다.\n",
    "6. 마지막에 출력할 때도 두 번째 원소인 item은 딕셔너리이므로 원하는 원소를 출력할 때는 키(\"popl\")를 입력해줬어야 했다.\n",
    "7. 원래 딕셔너리에 그냥 sorted를 사용하면 맨 처음의 key값으로 순서가 정렬된다."
   ]
  },
  {
   "cell_type": "markdown",
   "metadata": {},
   "source": [
    "### data/USPresStatesDict.dat 파일을 불러들여 원소가 ('Buchanan', 'James'): 'Pennsylvannia'의 형태인 딕셔너리를 생성하고 특정 지역을 입력하여 그 지역 출신의 대통령들의 이름을 출력하시오."
   ]
  },
  {
   "cell_type": "code",
   "execution_count": 17,
   "metadata": {},
   "outputs": [
    {
     "name": "stdout",
     "output_type": "stream",
     "text": [
      "Enter the name of State: Virginia\n",
      "Presidents from Virginia\n",
      "Thomas Jefferson\n",
      "James Madison\n",
      "James Monroe\n",
      "John Tyler\n",
      "George Washington\n"
     ]
    }
   ],
   "source": [
    "import pickle\n",
    "\n",
    "def main():\n",
    "    dictionary = getDictionary(\"data/USPresStatesDict.dat\")\n",
    "    state = returnState(dictionary)\n",
    "    displayPresident(state, dictionary)\n",
    "    \n",
    "def getDictionary(fileName):\n",
    "    infile = open(fileName, 'rb')\n",
    "    dict_ = pickle.load(infile)\n",
    "    infile.close()\n",
    "    return dict_\n",
    "    \n",
    "def returnState(pres_dict):\n",
    "    state = input(\"Enter the name of State: \")\n",
    "    if state in pres_dict.values():\n",
    "        return state\n",
    "    else:\n",
    "        return (\"There are no presidents from\" + state +'.')\n",
    "    \n",
    "def displayPresident(state, dict_):\n",
    "    if state.startswith(\"There\"):\n",
    "        print(state)\n",
    "    else:\n",
    "        print(\"Presidents from\", state)\n",
    "        for key in sorted(dict_):\n",
    "            if dict_[key] == state:\n",
    "                print(f\"{key[1]} {key[0]}\")\n",
    "\n",
    "main()"
   ]
  },
  {
   "cell_type": "markdown",
   "metadata": {},
   "source": [
    "부족한 점:\n",
    "1. 계속 딕셔너리를 반환하지 않는다.\n",
    "2. 딕셔너리는 sort method가 없다!!!!"
   ]
  }
 ],
 "metadata": {
  "kernelspec": {
   "display_name": "Python 3",
   "language": "python",
   "name": "python3"
  },
  "language_info": {
   "codemirror_mode": {
    "name": "ipython",
    "version": 3
   },
   "file_extension": ".py",
   "mimetype": "text/x-python",
   "name": "python",
   "nbconvert_exporter": "python",
   "pygments_lexer": "ipython3",
   "version": "3.8.3"
  }
 },
 "nbformat": 4,
 "nbformat_minor": 4
}
