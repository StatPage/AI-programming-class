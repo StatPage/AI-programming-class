{
 "cells": [
  {
   "cell_type": "markdown",
   "metadata": {},
   "source": [
    "### 문제: \"data/FirstPresidents.txt\" 파일을 불러와서 세 가지 방법으로 내용을 출력하라."
   ]
  },
  {
   "cell_type": "code",
   "execution_count": 2,
   "metadata": {
    "scrolled": true
   },
   "outputs": [
    {
     "name": "stdout",
     "output_type": "stream",
     "text": [
      "Enter the file's name: data/FirstPresidents.txt\n",
      "George Washington\n",
      "John Adams\n",
      "Thomas Jefferson\n",
      "\n",
      "['George Washington', 'John Adams', 'Thomas Jefferson']\n",
      "\n",
      "George Washington\n",
      "John Adams\n",
      "Thomas Jefferson\n",
      "\n",
      "['George Washington\\n', 'John Adams\\n', 'Thomas Jefferson\\n']\n"
     ]
    }
   ],
   "source": [
    "def main():\n",
    "    fileName = input(\"Enter the file's name: \")\n",
    "    displayWithForLoop(fileName)\n",
    "    print()\n",
    "    displayWithListComprehension(fileName)\n",
    "    print()\n",
    "    displayWithReadline(fileName)\n",
    "    print()\n",
    "    displayWithReadlines(fileName)\n",
    "    \n",
    "def displayWithForLoop(file):\n",
    "    infile = open(file, 'r')\n",
    "    for line in infile:\n",
    "        print(line.rstrip())\n",
    "    infile.close()\n",
    "    \n",
    "def displayWithListComprehension(file):\n",
    "    infile = open(file, 'r')\n",
    "    fileList = [line.rstrip() for line in infile]\n",
    "    infile.close()\n",
    "    print(fileList)\n",
    "    \n",
    "def displayWithReadline(file):\n",
    "    infile = open(file, 'r')\n",
    "    line = infile.readline()\n",
    "    while line != \"\":\n",
    "        print(line.rstrip())\n",
    "        line = infile.readline()\n",
    "    infile.close()\n",
    "    \n",
    "def displayWithReadlines(file):\n",
    "    infile = open(file, 'r')\n",
    "    fileList = infile.readlines()\n",
    "    infile.close()\n",
    "    print(fileList)\n",
    "    \n",
    "main()"
   ]
  },
  {
   "cell_type": "markdown",
   "metadata": {},
   "source": [
    "부족한 점:  \n",
    "1. list로 출력을 해줄 때 print()를 안 썼다. 결과가 가장 중요한 것이다.\n",
    "2. open 명령어를 사용할 때 읽는 버전인 'r'을 사용하지 않았다...\n",
    "3. readline method를 사용할 때 공백을 제거해서 출력해야 하는데 그러지 않았다.\n",
    "4. 마지막에 infile을 꼭 닫아줄 필요는 없지만 닫아주는 걸 습관화하자.\n",
    "5. readlines를 사용하면 물론 한 번에 입력해서 좋지만 \\n을 제거해야 되서 조금 더 가공이 필요하다. readlines는 진짜 있는 그대로 입력하는 것이다."
   ]
  },
  {
   "cell_type": "markdown",
   "metadata": {},
   "source": [
    "### 문제: L=[\"George\", \"John\", \"Thomas] 리스트로 write와 writelines 'data/USPresidents2.txt' 파일과 'USPresidents3.txt' 파일을 만드시오."
   ]
  },
  {
   "cell_type": "code",
   "execution_count": 43,
   "metadata": {},
   "outputs": [
    {
     "name": "stdout",
     "output_type": "stream",
     "text": [
      "['George\\n', 'John\\n', 'Thomas\\n']\n"
     ]
    }
   ],
   "source": [
    "def main():\n",
    "    L = [\"George\", \"John\", \"Thomas\"]\n",
    "    outfile2 = open(\"data/USPresidents2.txt\", 'w')\n",
    "    writeWithWrite(L, outfile2)\n",
    "    outfile3 = open(\"data/USPresidents3.txt\", 'w')\n",
    "    writeWithWriteLines(L, outfile3)\n",
    "    outfile4 = open(\"data/USPresidents4.txt\", 'w')\n",
    "    writeWithObject(L, outfile4)\n",
    "    outfile5 = open('data/USPresidents5.txt', 'w')\n",
    "    writeWithObject2(L, outfile5)\n",
    "    \n",
    "def writeWithWrite(L, outfile):\n",
    "    for i in range(len(L)):\n",
    "        x = L[i] + '\\n'\n",
    "        outfile.write(x)   # 위의 명령어를 묶어서 한 번에 outfile.write(L[i] + '\\n') 로 써도 된다.\n",
    "    outfile.close()\n",
    "    \n",
    "def writeWithWriteLines(L, outfile):\n",
    "    for i in range(len(L)):\n",
    "        L[i] = L[i] + '\\n'\n",
    "    outfile.writelines(L)\n",
    "    outfile.close()\n",
    "    \n",
    "def writeWithObject(L, outfile):\n",
    "    for i in L:\n",
    "        outfile.write(i)\n",
    "    outfile.close()\n",
    "\n",
    "def writeWithObject2(L, outfile):\n",
    "    outfile.writelines(L)\n",
    "    outfile.close()\n",
    "    \n",
    "main()  "
   ]
  },
  {
   "cell_type": "markdown",
   "metadata": {},
   "source": [
    "부족한 점:  \n",
    "1. for문 쓸 때 계속 range()를 까먹는다.\n",
    "2. 위에서 함수 때문에 원소마다 새줄문자가 붙었고 나는 이걸 또 잘못 사용해서 write나 writelines 가 알아서 새줄문자를 입력해주는 줄 알았다... 입력할 때는 반드시 새줄문자(\\n)을 붙여줘야 한다."
   ]
  },
  {
   "cell_type": "markdown",
   "metadata": {},
   "source": [
    "### 문제: \"data/States.txt\" 파일을 불러와서 \"data/StatesBeta.txt\" 파일을 작성하라."
   ]
  },
  {
   "cell_type": "code",
   "execution_count": 44,
   "metadata": {},
   "outputs": [],
   "source": [
    "def main():\n",
    "    stateList = loadFile(\"data/States.txt\")\n",
    "    writeWithWritelines(stateList, \"data/StatesBeta.txt\")\n",
    "    writeWithWritelines2(stateList, \"data/StatesPi.txt\")\n",
    "    writeWithWritelines3(stateList, \"data/StatesGamma.txt\")\n",
    "    writeWithWritelines4(stateList, 'data/StatesTheta.txt')\n",
    "    \n",
    "def loadFile(fileName):\n",
    "    infile = open(fileName, 'r')\n",
    "    fileList = [line.rstrip() for line in infile]\n",
    "    infile.close()\n",
    "    return fileList\n",
    "    \n",
    "def writeWithWritelines(listName, output):\n",
    "    for i in range(len(listName)):\n",
    "        listName[i] = listName[i] + '\\n'\n",
    "    outfile = open(output, 'w')\n",
    "    outfile.writelines(listName)\n",
    "    outfile.close()\n",
    "\n",
    "def writeWithWritelines2(listName, output):\n",
    "    outfile = open(output, 'w')\n",
    "    for i in range(len(listName)):\n",
    "        outfile.write(listName[i])\n",
    "    outfile.close()\n",
    "\n",
    "    \n",
    "def writeWithWritelines3(listName, output):\n",
    "    outfile = open(output, 'w')\n",
    "    for i in listName:\n",
    "        outfile.write(i)\n",
    "    outfile.close()\n",
    "    \n",
    "def writeWithWritelines4(listName, output):\n",
    "    outfile = open(output, 'w')\n",
    "    outfile.writelines(listName)\n",
    "    outfile.close()\n",
    "    \n",
    "main()"
   ]
  },
  {
   "cell_type": "markdown",
   "metadata": {},
   "source": [
    "부족한 점:  \n",
    "1. top-down design으로 만들 때는 statement문을 사용하려면 return을 써야 하는데 안 썼다.\n",
    "2. 입력할 때는 반드시 새줄문자를 사용하도록 하자."
   ]
  },
  {
   "cell_type": "markdown",
   "metadata": {},
   "source": [
    "### 문제: 위 문제에서 정렬된 파일로 생성하라."
   ]
  },
  {
   "cell_type": "code",
   "execution_count": 42,
   "metadata": {
    "scrolled": true
   },
   "outputs": [
    {
     "name": "stdout",
     "output_type": "stream",
     "text": [
      "['Delaware', 'Pennsylvania', 'New Jersey', 'Georgia', 'Connecticut', 'Massachusetts', 'Maryland', 'South Carolina', 'New Hampshire', 'Virginia', 'New York', 'North Carolina', 'Rhode Island', 'Vermont', 'Kentucky', 'Tennessee', 'Ohio', 'Louisiana', 'Indiana', 'Mississippi', 'Illinois', 'Alabama', 'Maine', 'Missouri', 'Arkansas', 'Michigan', 'Florida', 'Texas', 'Iowa', 'Wisconsin', 'California', 'Minnesota', 'Oregon', 'Kansas', 'West Virginia', 'Nevada', 'Nebraska', 'Colorado', 'North Dakota', 'South Dakota', 'Montana', 'Washington', 'Idaho', 'Wyoming', 'Utah', 'Oklahoma', 'New Mexico', 'Arizona', 'Alaska', 'Hawaii']\n",
      "['Delaware', 'Pennsylvania', 'New Jersey', 'Georgia', 'Connecticut', 'Massachusetts', 'Maryland', 'South Carolina', 'New Hampshire', 'Virginia', 'New York', 'North Carolina', 'Rhode Island', 'Vermont', 'Kentucky', 'Tennessee', 'Ohio', 'Louisiana', 'Indiana', 'Mississippi', 'Illinois', 'Alabama', 'Maine', 'Missouri', 'Arkansas', 'Michigan', 'Florida', 'Texas', 'Iowa', 'Wisconsin', 'California', 'Minnesota', 'Oregon', 'Kansas', 'West Virginia', 'Nevada', 'Nebraska', 'Colorado', 'North Dakota', 'South Dakota', 'Montana', 'Washington', 'Idaho', 'Wyoming', 'Utah', 'Oklahoma', 'New Mexico', 'Arizona', 'Alaska', 'Hawaii']\n"
     ]
    }
   ],
   "source": [
    "def main():\n",
    "    stateList = loadFile(\"data/States.txt\")\n",
    "    print(stateList)\n",
    "    writeWithWritelines3(stateList, 'data/sorted_StatesPi.txt')\n",
    "    writeWithWritelines4(stateList, 'data/sorted_StatesTheta.txt')\n",
    "    writeWithWritelines(stateList, \"data/sorted_StatesBeta.txt\")\n",
    "    writeWithWritelines2(stateList, \"data/sorted_StatesGamma.txt\")\n",
    "    \n",
    "def loadFile(fileName):\n",
    "    infile = open(fileName, 'r')\n",
    "    fileList = [line.rstrip() for line in infile]\n",
    "    infile.close()\n",
    "    return fileList\n",
    "    \n",
    "def writeWithWritelines(listName, output):\n",
    "    listName.sort()\n",
    "    for i in range(len(listName)):\n",
    "        listName[i] = listName[i] + '\\n'\n",
    "    outfile = open(output, 'w')\n",
    "    outfile.writelines(listName)\n",
    "    outfile.close()\n",
    "    \n",
    "def writeWithWritelines2(listName, output):\n",
    "    listName.sort()\n",
    "    outfile = open(output, 'w')\n",
    "    for i in range(len(listName)):\n",
    "        listName[i] = listName[i] + '\\n'\n",
    "        outfile.write(listName[i])\n",
    "    outfile.close()\n",
    "\n",
    "def writeWithWritelines3(listName, output):\n",
    "    print(listName)\n",
    "    listName.sort()\n",
    "    outfile = open(output, 'w')\n",
    "    for i in listName:\n",
    "        outfile.write(i)\n",
    "    outfile.close()\n",
    "    \n",
    "def writeWithWritelines4(listName, output):\n",
    "    listName.sort()\n",
    "    outfile = open(output, 'w')\n",
    "    outfile.writelines(listName)\n",
    "    outfile.close()\n",
    "    \n",
    "main()"
   ]
  },
  {
   "cell_type": "markdown",
   "metadata": {},
   "source": [
    "부족한 점:\n",
    "1. 계속 write를 writeline으로 쓰려고 한다. 고치자.\n",
    "2. 위에서 새줄문자가 붙여진 리스트들을 사용하고 내가 잘 하는 줄 알았다. 시정하자."
   ]
  },
  {
   "cell_type": "markdown",
   "metadata": {},
   "source": [
    "### 'data/USPresidents1.txt' 파일을 작성하고 이 파일에 원소가 'James Madison', 'James Monroe' 인 리스트와 원소''John Q. Adams'를 추가하라."
   ]
  },
  {
   "cell_type": "code",
   "execution_count": 32,
   "metadata": {},
   "outputs": [],
   "source": [
    "def main():\n",
    "    creatFile(\"data/USPresidents1.txt\")\n",
    "    appendData1(\"data/USPresidents1.txt\")\n",
    "    appendData2(\"data/USPresidents1.txt\")\n",
    "    \n",
    "def creatFile(fileName):\n",
    "    outfile = open(fileName, 'w')\n",
    "    outfile.close()\n",
    "\n",
    "def appendData1(fileName):\n",
    "    infile = open(fileName, 'a')\n",
    "    infile.writelines(['James, Madison\\n', 'James Monroe\\n'])\n",
    "    infile.close()\n",
    "    \n",
    "def appendData2(fileName):\n",
    "    infile = open(fileName, 'a')\n",
    "    infile.write('John Q. Adams\\n')\n",
    "    infile.close()\n",
    "\n",
    "main()"
   ]
  },
  {
   "cell_type": "markdown",
   "metadata": {},
   "source": [
    "부족한 점:\n",
    "1. 리스트랑 원소 모두 \\n을 안 붙여주고 입력을 했기 때문에 원소끼리 붙게 됐다.\n",
    "2. 위의 문제와 차이점을 모르겠다. 위에선 리스트 그 자체로 입력했을 때 '\\n'을 안 붙여줘도 됐는데 여기선 왜 그러는 걸까? 이걸 알아야 손으로 코딩할 때 안 틀릴 수 있다.\n",
    "3. 원리까지는 모르겠지만 우선은 파일을 작성할 때 인덱스를 통해 새줄문자('\\n')를 붙인 리스트로 작성, 추가하는 것을 기본으로 하자. \n",
    "4. __입력할 때는 항상 새줄문자를 붙여야 한다.__"
   ]
  },
  {
   "cell_type": "markdown",
   "metadata": {},
   "source": [
    "### 문제: \"data/USPresidents.txt\" 파일이 같은 폴더에 존재하는 지 확인하고 있다면 이름을 'data/USP1.txt'로 바꾸고 없으면 \"data/USPresidents.txt\"파일을 만드시오."
   ]
  },
  {
   "cell_type": "code",
   "execution_count": 7,
   "metadata": {},
   "outputs": [],
   "source": [
    "import os\n",
    "if os.path.isfile(\"data/USPresidents.txt\"):\n",
    "    os.rename(\"data/USPresidents.txt\", \"data/USP2.txt\")\n",
    "else:\n",
    "    outfile = open(\"data/USPresidents.txt\", 'w')\n",
    "    outfile.close()"
   ]
  },
  {
   "cell_type": "markdown",
   "metadata": {},
   "source": [
    "부족한 점: \n",
    "1. data 폴더에 데이터를 따로 저장하지 못했다."
   ]
  },
  {
   "cell_type": "markdown",
   "metadata": {},
   "source": [
    "### 문제: {'korea', 'japan', 'chinal'} 라는 set를 만드시오.\n",
    "\n",
    "1. 'india'가 set 안에 있는지 확인해서 boolean value를 반환하시오.\n",
    "2. 'korea'도 위와 같이 실행하시오.\n",
    "3. set의 복사본을 생성하시오. 이 둘은 같은 객체인지 대답하시오.\n",
    "4. 복사본에 russia를 추가하고 복사본과 원본의 원소를 확인하시오.\n",
    "5. 원본에 japan을 두 가지 방법으로 제거하고 복사본과 원본을 확인하시오.\n",
    "6. 무엇이 superset이고 subset인지 True 값을 반환하는 조건문을 작성하시오.\n",
    "7. 연산자를 통해 원본의 교집합, 합집합을 구하시오.\n",
    "8. method를 통해 복사본의 교집합, 합집합을 구하시오."
   ]
  },
  {
   "cell_type": "code",
   "execution_count": 13,
   "metadata": {},
   "outputs": [
    {
     "name": "stdout",
     "output_type": "stream",
     "text": [
      "False\n",
      "True\n",
      "{'japan', 'china', 'korea'} {'japan', 'china', 'korea', 'russia'}\n",
      "{'china', 'korea'} {'japan', 'china', 'korea', 'russia'}\n",
      "True\n",
      "True\n",
      "{'china', 'korea'}\n",
      "{'japan', 'china', 'korea', 'russia'}\n",
      "{'china', 'korea'}\n",
      "{'japan', 'china', 'korea', 'russia'}\n"
     ]
    }
   ],
   "source": [
    "s1 = {'korea', 'japan', 'china'}\n",
    "#1\n",
    "print('india' in s)\n",
    "#2\n",
    "print('korea' in s)\n",
    "#3\n",
    "s2 = s1.copy()\n",
    "#4\n",
    "s2.add('russia')\n",
    "print(s1, s2)\n",
    "#5\n",
    "s1.discard('japan') # or remove\n",
    "print(s1, s2)\n",
    "#6\n",
    "print(s2.issuperset(s1))\n",
    "print(s1.issubset(s2))\n",
    "# 7\n",
    "print(s1 & s2)\n",
    "print(s1 | s2)\n",
    "#8\n",
    "print(s2.intersection(s1))\n",
    "print(s2.union(s1))"
   ]
  },
  {
   "cell_type": "markdown",
   "metadata": {},
   "source": [
    "부족한 점:\n",
    "1. 셋을 복사하는 method를 까먹었다.\n",
    "2. union method랑 동일한 연산자를 까먹었다."
   ]
  },
  {
   "cell_type": "markdown",
   "metadata": {},
   "source": [
    "### 문제: 리스트를 생성하시오. \n",
    "1. 생성한 리스트의 타입을 튜플로 바꾸시오.\n",
    "2. 리스트의 타입을 set으로 바꾸시오.\n",
    "3. set을 다시 리스트로 바꾸시오.\n",
    "\n",
    "### 문제: 튜플을 생성하시오.\n",
    "1. 생성한 튜플의 타입을 set으로 바꾸시오.\n",
    "2. set의 원소를 제거하시오."
   ]
  },
  {
   "cell_type": "code",
   "execution_count": 14,
   "metadata": {},
   "outputs": [
    {
     "name": "stdout",
     "output_type": "stream",
     "text": [
      "(1, 2, 3, 4, 5) {1, 2, 3, 4, 5} [1, 2, 3, 4, 5]\n"
     ]
    }
   ],
   "source": [
    "list1 = [1,2,3,4,5]\n",
    "#1\n",
    "t = tuple(list1)\n",
    "#2\n",
    "s = set(list1)\n",
    "#3\n",
    "l = list(s)\n",
    "print(t, s, l)"
   ]
  },
  {
   "cell_type": "code",
   "execution_count": 15,
   "metadata": {},
   "outputs": [
    {
     "name": "stdout",
     "output_type": "stream",
     "text": [
      "set()\n"
     ]
    }
   ],
   "source": [
    "tuple1 = (1,2,3,4,5)\n",
    "#1\n",
    "s = set(tuple1)\n",
    "#2\n",
    "s.clear()\n",
    "print(s)"
   ]
  },
  {
   "cell_type": "markdown",
   "metadata": {},
   "source": [
    "### 문제: 원소들이 string으로 이뤄진 set을 생성하시오.\n",
    "1. set을 정렬한 리스트로 반환하시오.\n",
    "2. set을 길이를 기준으로 내림차순으로 정렬한 리스트를 반환하시오.\n",
    "3. set을 내림차순으로 정렬한 리스트를 반환하시오."
   ]
  },
  {
   "cell_type": "code",
   "execution_count": 19,
   "metadata": {
    "scrolled": true
   },
   "outputs": [
    {
     "name": "stdout",
     "output_type": "stream",
     "text": [
      "['a', 'bc', 'def', 'ghij'] ['a', 'def', 'bc', 'ghij'] ['ghij', 'def', 'bc', 'a']\n"
     ]
    }
   ],
   "source": [
    "s = {'a', 'bc', 'def', 'ghij'}\n",
    "#1\n",
    "list_sort = sorted(s)\n",
    "#2\n",
    "list_key = sorted(s, key=lambda x: x.count('a'), reverse=True)\n",
    "#3\n",
    "list_reverse = sorted(s, reverse=True)\n",
    "print(list_sort, list_key, list_reverse)"
   ]
  },
  {
   "cell_type": "markdown",
   "metadata": {},
   "source": [
    "### 문제: \"data/VPres.txt\"와 \"data/USPres.txt\" 파일에서 set을 불러오고 둘의 교집합을 포함하는 내용으로 하는 파일 \"data/PresAndVPres2.txt\"을 만드시오."
   ]
  },
  {
   "cell_type": "code",
   "execution_count": 29,
   "metadata": {},
   "outputs": [],
   "source": [
    "def main():\n",
    "    vPres = createSet(\"data/VPres.txt\")\n",
    "    usPres = createSet(\"data/USPres.txt\")\n",
    "    interPres = intersectionSet(vPres, usPres)\n",
    "    createFile(interPres, \"data/PresAndVPres2.txt\")\n",
    "    \n",
    "def createSet(fileName):\n",
    "    infile = open(fileName, 'r')\n",
    "    fileSet = {x for x in infile}\n",
    "    infile.close()\n",
    "    return fileSet\n",
    "\n",
    "def intersectionSet(set1, set2):\n",
    "    return set1.intersection(set2)\n",
    "\n",
    "def createFile(setName, fileName):\n",
    "    outfile = open(fileName, 'w')\n",
    "    outfile.writelines(setName)\n",
    "    outfile.close()\n",
    "    \n",
    "main()"
   ]
  },
  {
   "cell_type": "markdown",
   "metadata": {},
   "source": [
    "부족한 점:\n",
    "1. lambda 식을 쓰려고 했는데 lambda는 필요 없었고 x for x in infile만 쓰면 됐다.  \n",
    "2. __내가 아직 list comprehension을 lambda 식과 구분할 지 모른다. 파일을 내려받거나 만들 때 list comprehension이 사용되는 것을 꼭 기억하자.__\n",
    "3. 5-1에서 연습한 거는 list comprehension이었고 여기서도 list comprehension을 연습한다.\n",
    "4. set도 list comprehension이 사용된다."
   ]
  },
  {
   "cell_type": "markdown",
   "metadata": {},
   "source": [
    "### 문제: set1과 set2를 만들고 set들간의 xor 집합을 만드시오. 또한 set2에는 없는 set1의 원소만 반환하시오."
   ]
  },
  {
   "cell_type": "code",
   "execution_count": 30,
   "metadata": {},
   "outputs": [
    {
     "name": "stdout",
     "output_type": "stream",
     "text": [
      "{1, 10, 15}\n",
      "{1, 15}\n"
     ]
    }
   ],
   "source": [
    "set1 = {1, 2, 15, 20}\n",
    "set2 = {2, 10, 20}\n",
    "print(set1 ^ set2)\n",
    "print(set1 - set2)"
   ]
  },
  {
   "cell_type": "markdown",
   "metadata": {},
   "source": [
    "### 문제: data/UN.txt 파일을 불러와(데이터는 ,로 구분되면 name, continent, population, land area순이다.) 대륙이 Europe인 나라들을 추출하시오."
   ]
  },
  {
   "cell_type": "code",
   "execution_count": 32,
   "metadata": {},
   "outputs": [
    {
     "name": "stdout",
     "output_type": "stream",
     "text": [
      "Enter continent's name: Europe\n",
      "Albania\n",
      "Andorra\n",
      "Austria\n",
      "Belarus\n",
      "Belgium\n",
      "Bosnia and Herzegovina\n",
      "Bulgaria\n",
      "Croatia\n",
      "Czech Republic\n",
      "Denmark\n",
      "Estonia\n",
      "Finland\n",
      "France\n",
      "Germany\n",
      "Greece\n",
      "Hungary\n",
      "Iceland\n",
      "Ireland\n",
      "Italy\n",
      "Latvia\n",
      "Liechtenstein\n",
      "Lithuania\n",
      "Luxembourg\n",
      "Malta\n",
      "Monaco\n",
      "Montenegro\n",
      "Netherlands\n",
      "Norway\n",
      "Poland\n",
      "Portugal\n",
      "Republic of Moldova\n",
      "Romania\n",
      "Russian Federation\n",
      "San Marino\n",
      "Serbia\n",
      "Slovakia\n",
      "Slovenia\n",
      "Spain\n",
      "Sweden\n",
      "Switzerland\n",
      "The former Yugoslav Republic of Macedonia\n",
      "Ukraine\n",
      "United Kingdom\n"
     ]
    }
   ],
   "source": [
    "def main():\n",
    "    continent = input(\"Enter continent's name: \")\n",
    "    continent = continent.title()\n",
    "    if continent != \"Antartica\":\n",
    "        infile = open(\"data/UN.txt\", 'r')\n",
    "        for line in infile:\n",
    "            data = line.split(',')\n",
    "            if data[1] == continent:\n",
    "                print(data[0])\n",
    "                \n",
    "    else:\n",
    "        print(\"There are no countries in Antartica\")\n",
    "    \n",
    "main()"
   ]
  },
  {
   "cell_type": "markdown",
   "metadata": {},
   "source": [
    "부족한 점:  \n",
    "1. 먼저 입력을 해서 파일에서 찾으면 되는데 나는 지금 데이터들을 다 불러와서 리스트처럼 만드려니까 꼬였다."
   ]
  },
  {
   "cell_type": "markdown",
   "metadata": {},
   "source": [
    "### 문제: data/UN.txt 파일을 불러와 자료를 영토의 크기를 기준인 내림차순으로 정렬하고 아래와 같이 출력이 되도록 만들어라. 그리고 나라 이름과 영토를 ,로 붙인 자료 형태로 data/UNbyArea.txt 파일을 만들어라. (Hint: 불러들인 자료 중에 형태를 바꿔야 하는 값들이 있다. 출력형태는 20칸과 9칸이다.)\n",
    "![image](https://user-images.githubusercontent.com/61931924/96412708-7de23a00-1225-11eb-926c-856ae38320b8.png)"
   ]
  },
  {
   "cell_type": "code",
   "execution_count": 54,
   "metadata": {
    "scrolled": true
   },
   "outputs": [
    {
     "name": "stdout",
     "output_type": "stream",
     "text": [
      "Country             Area (sq. mi.)\n",
      "['Russian Federation', 'Europe', 142.5, 6592800]\n",
      "Russian Federation\n",
      "6592800\n",
      "Russian Federation  Russian Federation\n",
      "['Canada', 'North America', 34.8, 3855000]\n",
      "Canada\n",
      "3855000\n",
      "Canada              Canada   \n",
      "['United States', 'North America', 318.9, 3794066]\n",
      "United States\n",
      "3794066\n",
      "United States       United States\n",
      "['China', 'Asia', 1355.7, 3696100]\n",
      "China\n",
      "3696100\n",
      "China               China    \n",
      "['Brazil', 'South America', 202.7, 3287597]\n",
      "Brazil\n",
      "3287597\n",
      "Brazil              Brazil   \n"
     ]
    }
   ],
   "source": [
    "def main():\n",
    "    countries = createList(\"data/UN.txt\")\n",
    "    countries.sort(key=lambda x: x[3], reverse=True)\n",
    "    displayCountries(countries)\n",
    "    createFile(countries)\n",
    "    \n",
    "def createList(fileName):\n",
    "    infile = open(fileName, 'r')\n",
    "    countryList = [line.rstrip() for line in infile]\n",
    "    infile.close()\n",
    "    for i in range(len(countryList)):\n",
    "        countryList[i] = countryList[i].split(',')\n",
    "        countryList[i][2] = eval(countryList[i][2])\n",
    "        countryList[i][3] = eval(countryList[i][3])\n",
    "    return countryList\n",
    "\n",
    "def displayCountries(countryList):\n",
    "    print('{0:20}{1:9}'.format('Country', 'Area (sq. mi.)'))\n",
    "    for i in range(5):\n",
    "        print(countryList[i])\n",
    "        print(countryList[i][0])\n",
    "        print(countryList[i][3])\n",
    "        print('{0:20}{0:9}'.format(countryList[i][0], countryList[i][3]))\n",
    "        \n",
    "def createFile(countryList):\n",
    "    outfile = open(\"data/UNbyArea.txt\", 'w')\n",
    "    for country in countryList:\n",
    "        outfile.write(country[0] + ',' + str(country[3]) + '\\n')\n",
    "    outfile.close()\n",
    "        \n",
    "main()"
   ]
  },
  {
   "cell_type": "markdown",
   "metadata": {},
   "source": [
    "부족한 점:\n",
    "1. 우선 전혀 짤 줄 모른다.\n",
    "2. 파일을 불러 리스트를 만들 때 infile.rstrip()라고 했다. list comprehension을 습관화할 수 있도록 하자."
   ]
  },
  {
   "cell_type": "code",
   "execution_count": null,
   "metadata": {},
   "outputs": [],
   "source": []
  },
  {
   "cell_type": "code",
   "execution_count": null,
   "metadata": {},
   "outputs": [],
   "source": []
  },
  {
   "cell_type": "code",
   "execution_count": null,
   "metadata": {},
   "outputs": [],
   "source": []
  },
  {
   "cell_type": "code",
   "execution_count": null,
   "metadata": {},
   "outputs": [],
   "source": []
  },
  {
   "cell_type": "code",
   "execution_count": null,
   "metadata": {},
   "outputs": [],
   "source": []
  },
  {
   "cell_type": "code",
   "execution_count": null,
   "metadata": {},
   "outputs": [],
   "source": []
  },
  {
   "cell_type": "code",
   "execution_count": null,
   "metadata": {},
   "outputs": [],
   "source": []
  },
  {
   "cell_type": "code",
   "execution_count": null,
   "metadata": {},
   "outputs": [],
   "source": []
  },
  {
   "cell_type": "code",
   "execution_count": null,
   "metadata": {},
   "outputs": [],
   "source": []
  },
  {
   "cell_type": "code",
   "execution_count": null,
   "metadata": {},
   "outputs": [],
   "source": []
  },
  {
   "cell_type": "code",
   "execution_count": null,
   "metadata": {},
   "outputs": [],
   "source": []
  },
  {
   "cell_type": "code",
   "execution_count": null,
   "metadata": {},
   "outputs": [],
   "source": []
  },
  {
   "cell_type": "code",
   "execution_count": null,
   "metadata": {},
   "outputs": [],
   "source": []
  },
  {
   "cell_type": "code",
   "execution_count": null,
   "metadata": {},
   "outputs": [],
   "source": []
  },
  {
   "cell_type": "code",
   "execution_count": null,
   "metadata": {},
   "outputs": [],
   "source": []
  },
  {
   "cell_type": "code",
   "execution_count": null,
   "metadata": {},
   "outputs": [],
   "source": []
  },
  {
   "cell_type": "code",
   "execution_count": null,
   "metadata": {},
   "outputs": [],
   "source": []
  },
  {
   "cell_type": "code",
   "execution_count": null,
   "metadata": {},
   "outputs": [],
   "source": []
  },
  {
   "cell_type": "code",
   "execution_count": null,
   "metadata": {},
   "outputs": [],
   "source": []
  },
  {
   "cell_type": "code",
   "execution_count": null,
   "metadata": {},
   "outputs": [],
   "source": []
  },
  {
   "cell_type": "code",
   "execution_count": null,
   "metadata": {},
   "outputs": [],
   "source": []
  },
  {
   "cell_type": "code",
   "execution_count": null,
   "metadata": {},
   "outputs": [],
   "source": []
  },
  {
   "cell_type": "code",
   "execution_count": null,
   "metadata": {},
   "outputs": [],
   "source": []
  },
  {
   "cell_type": "code",
   "execution_count": null,
   "metadata": {},
   "outputs": [],
   "source": []
  },
  {
   "cell_type": "code",
   "execution_count": null,
   "metadata": {},
   "outputs": [],
   "source": []
  },
  {
   "cell_type": "code",
   "execution_count": null,
   "metadata": {},
   "outputs": [],
   "source": []
  },
  {
   "cell_type": "code",
   "execution_count": null,
   "metadata": {},
   "outputs": [],
   "source": []
  },
  {
   "cell_type": "code",
   "execution_count": null,
   "metadata": {},
   "outputs": [],
   "source": []
  },
  {
   "cell_type": "code",
   "execution_count": null,
   "metadata": {},
   "outputs": [],
   "source": []
  },
  {
   "cell_type": "code",
   "execution_count": null,
   "metadata": {},
   "outputs": [],
   "source": []
  },
  {
   "cell_type": "code",
   "execution_count": null,
   "metadata": {},
   "outputs": [],
   "source": []
  },
  {
   "cell_type": "code",
   "execution_count": null,
   "metadata": {},
   "outputs": [],
   "source": []
  },
  {
   "cell_type": "code",
   "execution_count": null,
   "metadata": {},
   "outputs": [],
   "source": []
  },
  {
   "cell_type": "code",
   "execution_count": null,
   "metadata": {},
   "outputs": [],
   "source": []
  },
  {
   "cell_type": "code",
   "execution_count": null,
   "metadata": {},
   "outputs": [],
   "source": []
  },
  {
   "cell_type": "code",
   "execution_count": null,
   "metadata": {},
   "outputs": [],
   "source": []
  },
  {
   "cell_type": "code",
   "execution_count": null,
   "metadata": {},
   "outputs": [],
   "source": []
  },
  {
   "cell_type": "code",
   "execution_count": null,
   "metadata": {},
   "outputs": [],
   "source": []
  },
  {
   "cell_type": "code",
   "execution_count": null,
   "metadata": {},
   "outputs": [],
   "source": []
  },
  {
   "cell_type": "code",
   "execution_count": null,
   "metadata": {},
   "outputs": [],
   "source": []
  }
 ],
 "metadata": {
  "kernelspec": {
   "display_name": "Python 3",
   "language": "python",
   "name": "python3"
  },
  "language_info": {
   "codemirror_mode": {
    "name": "ipython",
    "version": 3
   },
   "file_extension": ".py",
   "mimetype": "text/x-python",
   "name": "python",
   "nbconvert_exporter": "python",
   "pygments_lexer": "ipython3",
   "version": "3.8.3"
  }
 },
 "nbformat": 4,
 "nbformat_minor": 4
}
