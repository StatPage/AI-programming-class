{
 "cells": [
  {
   "cell_type": "markdown",
   "metadata": {},
   "source": [
    "## Classes and Objects\n",
    "- Data hiding is an important  principle underlying object-oriented programming:\n",
    "    - As much impolementation detail as possible is hidden\n",
    "- Object consists of two things:\n",
    "    - Encapsulated data\n",
    "        - Unauthorized access to some of an object's components is prevented\n",
    "        (사용자들은 세부사항들을 알 수가 없다.)\n",
    "    - Methods that act on the data\n",
    "        - __Used to retrieve and modify the values within the object__\n",
    "        (데이터에 대한 접근이 method를 통해서만 가능하다.)\n",
    "- Programmer using an object is concerned only with \n",
    "    - Tasks that the object can perform\n",
    "    - Parameters used by these tasks(i.e., methods)"
   ]
  },
  {
   "cell_type": "markdown",
   "metadata": {},
   "source": [
    "### User-Defined Classes\n",
    "- A class is a template from which objects are created\n",
    "    - Specifies the properties and methods that will be common to all objects that are instances of that class\n",
    "    - The data types _str, int, float, list, tuple, dictionary,_ and _set_ are __built-in Python classes\n",
    "- Python allows users to create their own classes(i.e., data types)\n",
    "    - Each class defined will have a specified set of methods\n",
    "    - Each object (instance) of the class will have its own value(s)\n",
    "- Class definitions have the general form:\n",
    "> class ClassName:  \n",
    "        indented list of methods for the class"
   ]
  },
  {
   "cell_type": "markdown",
   "metadata": {},
   "source": [
    "- Methods have __self__ as their first parameter\n",
    "    - When an object is created, each method's __self__ parameter references the object\n",
    "    - The \\_\\_init__ method (aka constructor) is automatically called when an object is created, assigning values to the instance variables(also called properties of the class)"
   ]
  },
  {
   "cell_type": "code",
   "execution_count": 45,
   "metadata": {},
   "outputs": [],
   "source": [
    "class Rectangle:   # class의 첫문자는 대문자를 써야 한다.\n",
    "    def __init__(self, width=1, height=1):   # initializer method\n",
    "        self._width = width   # instance variables 혹은 property of class 라고 읽을 수 있다.\n",
    "        self._height = height   # 보통 self. 다음에 _를 붙여준다.\n",
    "        \n",
    "    def setWidth(self, width):   # mutator method. 보통 변수 앞에 set을 붙여 이름을 지어준다.\n",
    "        self._width = width\n",
    "        \n",
    "    def setHeight(self, height):   # mutator method\n",
    "        self._height = height\n",
    "        \n",
    "    def getWidth(self):   # accessor mehtods\n",
    "        return self._width\n",
    "    \n",
    "    def getHeight(self):\n",
    "        return self._height\n",
    "    \n",
    "    def area(self):    # other methods\n",
    "        return self._width * self._height\n",
    "    \n",
    "    def perimeter(self):\n",
    "        return 2 * (self._width + self._height)\n",
    "    \n",
    "    def __str__(self):   # state-representation methods\n",
    "        return (\"Width: \" +str(self._width) + \"\\nHeight\" + str(self._height))"
   ]
  },
  {
   "cell_type": "markdown",
   "metadata": {},
   "source": [
    "- The \\_\\_str__ method provides a customized way to represent the state(values of the instance variables) of an object as a string"
   ]
  },
  {
   "cell_type": "markdown",
   "metadata": {},
   "source": [
    "\n",
    "- Classes can be typed directly into programs or stored in mudules and brought into programs with an import statement\n",
    "\n",
    "- An object, which is an instance of a class, is created with a statement of the form \n",
    "        objectName = ClassName(arg1, arg2, ...)\n",
    "    or\n",
    "        objectName = moduleName.ClassName(arg1, arg2, ...)"
   ]
  },
  {
   "cell_type": "code",
   "execution_count": 47,
   "metadata": {},
   "outputs": [
    {
     "ename": "AttributeError",
     "evalue": "module 'rectangle' has no attribute 'Rectangle'",
     "output_type": "error",
     "traceback": [
      "\u001b[1;31m---------------------------------------------------------------------------\u001b[0m",
      "\u001b[1;31mAttributeError\u001b[0m                            Traceback (most recent call last)",
      "\u001b[1;32m<ipython-input-47-e513be817f80>\u001b[0m in \u001b[0;36m<module>\u001b[1;34m\u001b[0m\n\u001b[0;32m      1\u001b[0m \u001b[1;32mimport\u001b[0m \u001b[0mrectangle\u001b[0m\u001b[1;33m\u001b[0m\u001b[1;33m\u001b[0m\u001b[0m\n\u001b[0;32m      2\u001b[0m \u001b[1;33m\u001b[0m\u001b[0m\n\u001b[1;32m----> 3\u001b[1;33m \u001b[0mr1\u001b[0m \u001b[1;33m=\u001b[0m \u001b[0mrectangle\u001b[0m\u001b[1;33m.\u001b[0m\u001b[0mRectangle\u001b[0m\u001b[1;33m(\u001b[0m\u001b[1;36m4\u001b[0m\u001b[1;33m,\u001b[0m \u001b[1;36m5\u001b[0m\u001b[1;33m)\u001b[0m\u001b[1;33m\u001b[0m\u001b[1;33m\u001b[0m\u001b[0m\n\u001b[0m\u001b[0;32m      4\u001b[0m \u001b[0mprint\u001b[0m\u001b[1;33m(\u001b[0m\u001b[0mr1\u001b[0m\u001b[1;33m)\u001b[0m\u001b[1;33m\u001b[0m\u001b[1;33m\u001b[0m\u001b[0m\n\u001b[0;32m      5\u001b[0m \u001b[0mr2\u001b[0m \u001b[1;33m=\u001b[0m \u001b[0mrectangle\u001b[0m\u001b[1;33m.\u001b[0m\u001b[0mRectangle\u001b[0m\u001b[1;33m(\u001b[0m\u001b[1;33m)\u001b[0m\u001b[1;33m\u001b[0m\u001b[1;33m\u001b[0m\u001b[0m\n",
      "\u001b[1;31mAttributeError\u001b[0m: module 'rectangle' has no attribute 'Rectangle'"
     ]
    }
   ],
   "source": [
    "import rectangle\n",
    "\n",
    "r1 = rectangle.Rectangle(4, 5)\n",
    "print(r1)\n",
    "r2 = rectangle.Rectangle()\n",
    "print(r2)\n",
    "r3 = rectangle.Rectangle(4)\n",
    "print(r3)"
   ]
  },
  {
   "cell_type": "code",
   "execution_count": null,
   "metadata": {},
   "outputs": [],
   "source": []
  }
 ],
 "metadata": {
  "kernelspec": {
   "display_name": "Python 3",
   "language": "python",
   "name": "python3"
  },
  "language_info": {
   "codemirror_mode": {
    "name": "ipython",
    "version": 3
   },
   "file_extension": ".py",
   "mimetype": "text/x-python",
   "name": "python",
   "nbconvert_exporter": "python",
   "pygments_lexer": "ipython3",
   "version": "3.8.3"
  }
 },
 "nbformat": 4,
 "nbformat_minor": 4
}
