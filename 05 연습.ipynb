{
 "cells": [
  {
   "cell_type": "markdown",
   "metadata": {},
   "source": [
    "### 문제: \"data/FirstPresidents.txt\" 파일을 불러와서 세 가지 방법으로 내용을 출력하라."
   ]
  },
  {
   "cell_type": "code",
   "execution_count": 2,
   "metadata": {
    "scrolled": true
   },
   "outputs": [
    {
     "name": "stdout",
     "output_type": "stream",
     "text": [
      "Enter the file's name: data/FirstPresidents.txt\n",
      "George Washington\n",
      "John Adams\n",
      "Thomas Jefferson\n",
      "\n",
      "['George Washington', 'John Adams', 'Thomas Jefferson']\n",
      "\n",
      "George Washington\n",
      "John Adams\n",
      "Thomas Jefferson\n",
      "\n",
      "['George Washington\\n', 'John Adams\\n', 'Thomas Jefferson\\n']\n"
     ]
    }
   ],
   "source": [
    "def main():\n",
    "    fileName = input(\"Enter the file's name: \")\n",
    "    displayWithForLoop(fileName)\n",
    "    print()\n",
    "    displayWithListComprehension(fileName)\n",
    "    print()\n",
    "    displayWithReadline(fileName)\n",
    "    print()\n",
    "    displayWithReadlines(fileName)\n",
    "    \n",
    "def displayWithForLoop(file):\n",
    "    infile = open(file, 'r')\n",
    "    for line in infile:\n",
    "        print(line.rstrip())\n",
    "    infile.close()\n",
    "    \n",
    "def displayWithListComprehension(file):\n",
    "    infile = open(file, 'r')\n",
    "    fileList = [line.rstrip() for line in infile]\n",
    "    infile.close()\n",
    "    print(fileList)\n",
    "    \n",
    "def displayWithReadline(file):\n",
    "    infile = open(file, 'r')\n",
    "    line = infile.readline()\n",
    "    while line != \"\":\n",
    "        print(line.rstrip())\n",
    "        line = infile.readline()\n",
    "    infile.close()\n",
    "    \n",
    "def displayWithReadlines(file):\n",
    "    infile = open(file, 'r')\n",
    "    fileList = infile.readlines()\n",
    "    infile.close()\n",
    "    print(fileList)\n",
    "    \n",
    "main()"
   ]
  },
  {
   "cell_type": "markdown",
   "metadata": {},
   "source": [
    "부족한 점:  \n",
    "1. list로 출력을 해줄 때 print()를 안 썼다. 결과가 가장 중요한 것이다.\n",
    "2. open 명령어를 사용할 때 읽는 버전인 'r'을 사용하지 않았다...\n",
    "3. readline method를 사용할 때 공백을 제거해서 출력해야 하는데 그러지 않았다.\n",
    "4. 마지막에 infile을 꼭 닫아줄 필요는 없지만 닫아주는 걸 습관화하자.\n",
    "5. readlines를 사용하면 물론 한 번에 입력해서 좋지만 \\n을 제거해야 되서 조금 더 가공이 필요하다. readlines는 진짜 있는 그대로 입력하는 것이다."
   ]
  },
  {
   "cell_type": "markdown",
   "metadata": {},
   "source": [
    "### 문제: L=[\"George\", \"John\", \"Thomas] 리스트로 write와 writelines 'data/USPresidents2.txt' 파일과 'USPresidents3.txt' 파일을 만드시오."
   ]
  },
  {
   "cell_type": "code",
   "execution_count": 43,
   "metadata": {},
   "outputs": [
    {
     "name": "stdout",
     "output_type": "stream",
     "text": [
      "['George\\n', 'John\\n', 'Thomas\\n']\n"
     ]
    }
   ],
   "source": [
    "def main():\n",
    "    L = [\"George\", \"John\", \"Thomas\"]\n",
    "    outfile2 = open(\"data/USPresidents2.txt\", 'w')\n",
    "    writeWithWrite(L, outfile2)\n",
    "    outfile3 = open(\"data/USPresidents3.txt\", 'w')\n",
    "    writeWithWriteLines(L, outfile3)\n",
    "    outfile4 = open(\"data/USPresidents4.txt\", 'w')\n",
    "    writeWithObject(L, outfile4)\n",
    "    outfile5 = open('data/USPresidents5.txt', 'w')\n",
    "    writeWithObject2(L, outfile5)\n",
    "    \n",
    "def writeWithWrite(L, outfile):\n",
    "    for i in range(len(L)):\n",
    "        x = L[i] + '\\n'\n",
    "        outfile.write(x)   # 위의 명령어를 묶어서 한 번에 outfile.write(L[i] + '\\n') 로 써도 된다.\n",
    "    outfile.close()\n",
    "    \n",
    "def writeWithWriteLines(L, outfile):\n",
    "    for i in range(len(L)):\n",
    "        L[i] = L[i] + '\\n'\n",
    "    outfile.writelines(L)\n",
    "    outfile.close()\n",
    "    \n",
    "def writeWithObject(L, outfile):\n",
    "    for i in L:\n",
    "        outfile.write(i)\n",
    "    outfile.close()\n",
    "\n",
    "def writeWithObject2(L, outfile):\n",
    "    outfile.writelines(L)\n",
    "    outfile.close()\n",
    "    \n",
    "main()  "
   ]
  },
  {
   "cell_type": "markdown",
   "metadata": {},
   "source": [
    "부족한 점:  \n",
    "1. for문 쓸 때 계속 range()를 까먹는다.\n",
    "2. 위에서 함수 때문에 원소마다 새줄문자가 붙었고 나는 이걸 또 잘못 사용해서 write나 writelines 가 알아서 새줄문자를 입력해주는 줄 알았다... 입력할 때는 반드시 새줄문자(\\n)을 붙여줘야 한다."
   ]
  },
  {
   "cell_type": "markdown",
   "metadata": {},
   "source": [
    "### 문제: \"data/States.txt\" 파일을 불러와서 \"data/StatesBeta.txt\" 파일을 작성하라."
   ]
  },
  {
   "cell_type": "code",
   "execution_count": 44,
   "metadata": {},
   "outputs": [],
   "source": [
    "def main():\n",
    "    stateList = loadFile(\"data/States.txt\")\n",
    "    writeWithWritelines(stateList, \"data/StatesBeta.txt\")\n",
    "    writeWithWritelines2(stateList, \"data/StatesPi.txt\")\n",
    "    writeWithWritelines3(stateList, \"data/StatesGamma.txt\")\n",
    "    writeWithWritelines4(stateList, 'data/StatesTheta.txt')\n",
    "    \n",
    "def loadFile(fileName):\n",
    "    infile = open(fileName, 'r')\n",
    "    fileList = [line.rstrip() for line in infile]\n",
    "    infile.close()\n",
    "    return fileList\n",
    "    \n",
    "def writeWithWritelines(listName, output):\n",
    "    for i in range(len(listName)):\n",
    "        listName[i] = listName[i] + '\\n'\n",
    "    outfile = open(output, 'w')\n",
    "    outfile.writelines(listName)\n",
    "    outfile.close()\n",
    "\n",
    "def writeWithWritelines2(listName, output):\n",
    "    outfile = open(output, 'w')\n",
    "    for i in range(len(listName)):\n",
    "        outfile.write(listName[i])\n",
    "    outfile.close()\n",
    "\n",
    "    \n",
    "def writeWithWritelines3(listName, output):\n",
    "    outfile = open(output, 'w')\n",
    "    for i in listName:\n",
    "        outfile.write(i)\n",
    "    outfile.close()\n",
    "    \n",
    "def writeWithWritelines4(listName, output):\n",
    "    outfile = open(output, 'w')\n",
    "    outfile.writelines(listName)\n",
    "    outfile.close()\n",
    "    \n",
    "main()"
   ]
  },
  {
   "cell_type": "markdown",
   "metadata": {},
   "source": [
    "부족한 점:  \n",
    "1. top-down design으로 만들 때는 statement문을 사용하려면 return을 써야 하는데 안 썼다.\n",
    "2. 입력할 때는 반드시 새줄문자를 사용하도록 하자."
   ]
  },
  {
   "cell_type": "markdown",
   "metadata": {},
   "source": [
    "### 문제: 위 문제에서 정렬된 파일로 생성하라."
   ]
  },
  {
   "cell_type": "code",
   "execution_count": 42,
   "metadata": {
    "scrolled": true
   },
   "outputs": [
    {
     "name": "stdout",
     "output_type": "stream",
     "text": [
      "['Delaware', 'Pennsylvania', 'New Jersey', 'Georgia', 'Connecticut', 'Massachusetts', 'Maryland', 'South Carolina', 'New Hampshire', 'Virginia', 'New York', 'North Carolina', 'Rhode Island', 'Vermont', 'Kentucky', 'Tennessee', 'Ohio', 'Louisiana', 'Indiana', 'Mississippi', 'Illinois', 'Alabama', 'Maine', 'Missouri', 'Arkansas', 'Michigan', 'Florida', 'Texas', 'Iowa', 'Wisconsin', 'California', 'Minnesota', 'Oregon', 'Kansas', 'West Virginia', 'Nevada', 'Nebraska', 'Colorado', 'North Dakota', 'South Dakota', 'Montana', 'Washington', 'Idaho', 'Wyoming', 'Utah', 'Oklahoma', 'New Mexico', 'Arizona', 'Alaska', 'Hawaii']\n",
      "['Delaware', 'Pennsylvania', 'New Jersey', 'Georgia', 'Connecticut', 'Massachusetts', 'Maryland', 'South Carolina', 'New Hampshire', 'Virginia', 'New York', 'North Carolina', 'Rhode Island', 'Vermont', 'Kentucky', 'Tennessee', 'Ohio', 'Louisiana', 'Indiana', 'Mississippi', 'Illinois', 'Alabama', 'Maine', 'Missouri', 'Arkansas', 'Michigan', 'Florida', 'Texas', 'Iowa', 'Wisconsin', 'California', 'Minnesota', 'Oregon', 'Kansas', 'West Virginia', 'Nevada', 'Nebraska', 'Colorado', 'North Dakota', 'South Dakota', 'Montana', 'Washington', 'Idaho', 'Wyoming', 'Utah', 'Oklahoma', 'New Mexico', 'Arizona', 'Alaska', 'Hawaii']\n"
     ]
    }
   ],
   "source": [
    "def main():\n",
    "    stateList = loadFile(\"data/States.txt\")\n",
    "    print(stateList)\n",
    "    writeWithWritelines3(stateList, 'data/sorted_StatesPi.txt')\n",
    "    writeWithWritelines4(stateList, 'data/sorted_StatesTheta.txt')\n",
    "    writeWithWritelines(stateList, \"data/sorted_StatesBeta.txt\")\n",
    "    writeWithWritelines2(stateList, \"data/sorted_StatesGamma.txt\")\n",
    "    \n",
    "def loadFile(fileName):\n",
    "    infile = open(fileName, 'r')\n",
    "    fileList = [line.rstrip() for line in infile]\n",
    "    infile.close()\n",
    "    return fileList\n",
    "    \n",
    "def writeWithWritelines(listName, output):\n",
    "    listName.sort()\n",
    "    for i in range(len(listName)):\n",
    "        listName[i] = listName[i] + '\\n'\n",
    "    outfile = open(output, 'w')\n",
    "    outfile.writelines(listName)\n",
    "    outfile.close()\n",
    "    \n",
    "def writeWithWritelines2(listName, output):\n",
    "    listName.sort()\n",
    "    outfile = open(output, 'w')\n",
    "    for i in range(len(listName)):\n",
    "        listName[i] = listName[i] + '\\n'\n",
    "        outfile.write(listName[i])\n",
    "    outfile.close()\n",
    "\n",
    "def writeWithWritelines3(listName, output):\n",
    "    print(listName)\n",
    "    listName.sort()\n",
    "    outfile = open(output, 'w')\n",
    "    for i in listName:\n",
    "        outfile.write(i)\n",
    "    outfile.close()\n",
    "    \n",
    "def writeWithWritelines4(listName, output):\n",
    "    listName.sort()\n",
    "    outfile = open(output, 'w')\n",
    "    outfile.writelines(listName)\n",
    "    outfile.close()\n",
    "    \n",
    "main()"
   ]
  },
  {
   "cell_type": "markdown",
   "metadata": {},
   "source": [
    "부족한 점:\n",
    "1. 계속 write를 writeline으로 쓰려고 한다. 고치자.\n",
    "2. 위에서 새줄문자가 붙여진 리스트들을 사용하고 내가 잘 하는 줄 알았다. 시정하자."
   ]
  },
  {
   "cell_type": "markdown",
   "metadata": {},
   "source": [
    "### 'data/USPresidents1.txt' 파일을 작성하고 이 파일에 원소가 'James Madison', 'James Monroe' 인 리스트와 원소''John Q. Adams'를 추가하라."
   ]
  },
  {
   "cell_type": "code",
   "execution_count": 32,
   "metadata": {},
   "outputs": [],
   "source": [
    "def main():\n",
    "    creatFile(\"data/USPresidents1.txt\")\n",
    "    appendData1(\"data/USPresidents1.txt\")\n",
    "    appendData2(\"data/USPresidents1.txt\")\n",
    "    \n",
    "def creatFile(fileName):\n",
    "    outfile = open(fileName, 'w')\n",
    "    outfile.close()\n",
    "\n",
    "def appendData1(fileName):\n",
    "    infile = open(fileName, 'a')\n",
    "    infile.writelines(['James, Madison\\n', 'James Monroe\\n'])\n",
    "    infile.close()\n",
    "    \n",
    "def appendData2(fileName):\n",
    "    infile = open(fileName, 'a')\n",
    "    infile.write('John Q. Adams\\n')\n",
    "    infile.close()\n",
    "\n",
    "main()"
   ]
  },
  {
   "cell_type": "markdown",
   "metadata": {},
   "source": [
    "부족한 점:\n",
    "1. 리스트랑 원소 모두 \\n을 안 붙여주고 입력을 했기 때문에 원소끼리 붙게 됐다.\n",
    "2. 위의 문제와 차이점을 모르겠다. 위에선 리스트 그 자체로 입력했을 때 '\\n'을 안 붙여줘도 됐는데 여기선 왜 그러는 걸까? 이걸 알아야 손으로 코딩할 때 안 틀릴 수 있다.\n",
    "3. 원리까지는 모르겠지만 우선은 파일을 작성할 때 인덱스를 통해 새줄문자('\\n')를 붙인 리스트로 작성, 추가하는 것을 기본으로 하자. \n",
    "4. __입력할 때는 항상 새줄문자를 붙여야 한다.__"
   ]
  },
  {
   "cell_type": "code",
   "execution_count": 1,
   "metadata": {},
   "outputs": [],
   "source": [
    "import os\n",
    "if os.path.isfile(\"data/USPresidents1.txt\"):\n",
    "    os.rename(\"data/USPresidents1.txt\", \"data/USP1.txt\")\n",
    "else:\n",
    "    outfile = open('data/USP1.txt', 'w')\n",
    "    outfile.write('name1\\n')\n",
    "    outfile.close()"
   ]
  }
 ],
 "metadata": {
  "kernelspec": {
   "display_name": "Python 3",
   "language": "python",
   "name": "python3"
  },
  "language_info": {
   "codemirror_mode": {
    "name": "ipython",
    "version": 3
   },
   "file_extension": ".py",
   "mimetype": "text/x-python",
   "name": "python",
   "nbconvert_exporter": "python",
   "pygments_lexer": "ipython3",
   "version": "3.8.3"
  }
 },
 "nbformat": 4,
 "nbformat_minor": 4
}
