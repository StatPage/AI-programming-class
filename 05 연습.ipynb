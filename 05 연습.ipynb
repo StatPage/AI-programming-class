{
 "cells": [
  {
   "cell_type": "markdown",
   "metadata": {},
   "source": [
    "### 문제: \"data/FirstPresidents.txt\" 파일을 불러와서 세 가지 방법으로 내용을 출력하라."
   ]
  },
  {
   "cell_type": "code",
   "execution_count": 5,
   "metadata": {},
   "outputs": [
    {
     "name": "stdout",
     "output_type": "stream",
     "text": [
      "Enter the file's name: data/FirstPresidents.txt\n",
      "George Washington\n",
      "John Adams\n",
      "Thomas Jefferson\n",
      "\n",
      "['George Washington', 'John Adams', 'Thomas Jefferson']\n",
      "\n",
      "George Washington\n",
      "John Adams\n",
      "Thomas Jefferson\n"
     ]
    }
   ],
   "source": [
    "def main():\n",
    "    fileName = input(\"Enter the file's name: \")\n",
    "    displayWithForLoop(fileName, 'r')\n",
    "    print()\n",
    "    displayWithListComprehension(fileName)\n",
    "    print()\n",
    "    displayWithReadline(fileName)\n",
    "    \n",
    "def displayWithForLoop(file, 'r'):\n",
    "    infile = open(file)\n",
    "    for line in infile:\n",
    "        print(line.rstrip())\n",
    "    infile.close()\n",
    "    \n",
    "def displayWithListComprehension(file, 'r'):\n",
    "    infile = open(file)\n",
    "    fileList = [line.rstrip() for line in infile]\n",
    "    infile.close()\n",
    "    print(fileList)\n",
    "    \n",
    "def displayWithReadline(file, 'r'):\n",
    "    infile = open(file)\n",
    "    line = infile.readline()\n",
    "    while line != \"\":\n",
    "        print(line.rstrip())\n",
    "        line = infile.readline()\n",
    "    infile.close()\n",
    "    \n",
    "main()"
   ]
  },
  {
   "cell_type": "markdown",
   "metadata": {},
   "source": [
    "부족한 점:  \n",
    "1. list로 출력을 해줄 때 print()를 안 썼다. 결과가 가장 중요한 것이다.\n",
    "2. open 명령어를 사용할 때 읽는 버전인 'r'을 사용하지 않았다...\n",
    "3. readline method를 사용할 때 공백을 제거해서 출력해야 하는데 그러지 않았다.\n",
    "4. 마지막에 infile을 꼭 닫아줄 필요는 없지만 닫아주는 걸 습관화하자."
   ]
  },
  {
   "cell_type": "markdown",
   "metadata": {},
   "source": [
    "### 문제: L=[\"George\", \"John\", \"Thomas] 리스트로 write와 writelines 'data/USPresidents2.txt' 파일과 'USPresidents3.txt' 파일을 만드시오."
   ]
  },
  {
   "cell_type": "code",
   "execution_count": 10,
   "metadata": {},
   "outputs": [],
   "source": [
    "def main():\n",
    "    L = [\"George\", \"John\", \"Thomas\"]\n",
    "    outfile2 = open(\"data/USPresidents2.txt\", 'w')\n",
    "    writeWithWrite(L, outfile2)\n",
    "    outfile3 = open(\"data/USPresidents3.txt\", 'w')\n",
    "    writeWithWriteLines(L, outfile3)\n",
    "    \n",
    "def writeWithWrite(L, outfile):\n",
    "    for i in range(len(L)):\n",
    "        x = L[i] + '\\n'\n",
    "        outfile.write(x)   # 위의 명령어를 묶어서 한 번에 outfile.write(L[i] + '\\n') 로 써도 된다.\n",
    "    outfile.close()\n",
    "    \n",
    "def writeWithWriteLines(L, outfile):\n",
    "    for i in range(len(L)):\n",
    "        L[i] = L[i] + '\\n'\n",
    "    outfile.writelines(L)\n",
    "    outfile.close()\n",
    "    \n",
    "main()  "
   ]
  },
  {
   "cell_type": "markdown",
   "metadata": {},
   "source": [
    "부족한 점:  \n",
    "1. for문 쓸 때 계속 range()를 까먹는다."
   ]
  },
  {
   "cell_type": "markdown",
   "metadata": {},
   "source": [
    "### 문제: \"data/States.txt\" 파일을 불러와서 \"data/StatesBeta.txt\" 파일을 작성하라."
   ]
  },
  {
   "cell_type": "code",
   "execution_count": 14,
   "metadata": {},
   "outputs": [],
   "source": [
    "def main():\n",
    "    stateList = loadFile(\"data/States.txt\")\n",
    "    writeWithWritelines(stateList, \"data/StatesBeta.txt\")\n",
    "    \n",
    "def loadFile(fileName):\n",
    "    infile = open(fileName, 'r')\n",
    "    fileList = [line.rstrip() for line in infile]\n",
    "    infile.close()\n",
    "    return fileList\n",
    "    \n",
    "def writeWithWritelines(listName, output):\n",
    "    for i in range(len(listName)):\n",
    "        listName[i] = listName[i] + '\\n'\n",
    "    outfile = open(output, 'w')\n",
    "    outfile.writelines(listName)\n",
    "    outfile.close()\n",
    "    \n",
    "main()"
   ]
  },
  {
   "cell_type": "markdown",
   "metadata": {},
   "source": [
    "부족한 점:  \n",
    "1. top-down design으로 만들 때는 statement문을 사용하려면 return을 써야 하는데 안 썼다."
   ]
  },
  {
   "cell_type": "code",
   "execution_count": 15,
   "metadata": {},
   "outputs": [],
   "source": [
    "outfile = open(\"data/USPresidents2.txt\", 'a')\n",
    "outfile.write('Fuck\\n')\n",
    "outfile.close()"
   ]
  }
 ],
 "metadata": {
  "kernelspec": {
   "display_name": "Python 3",
   "language": "python",
   "name": "python3"
  },
  "language_info": {
   "codemirror_mode": {
    "name": "ipython",
    "version": 3
   },
   "file_extension": ".py",
   "mimetype": "text/x-python",
   "name": "python",
   "nbconvert_exporter": "python",
   "pygments_lexer": "ipython3",
   "version": "3.8.3"
  }
 },
 "nbformat": 4,
 "nbformat_minor": 4
}
