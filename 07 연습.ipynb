{
 "cells": [
  {
   "cell_type": "markdown",
   "metadata": {},
   "source": [
    "문제: 원하는 값을 출력하기 위해 클래스를 생성후 입력, 출력하시오.  \n",
    "(Width: 4, Height: 5)  \n",
    "(Width: 1, Height: 1)  \n",
    "(Width: 4, Height: 1)  "
   ]
  },
  {
   "cell_type": "code",
   "execution_count": 5,
   "metadata": {},
   "outputs": [
    {
     "name": "stdout",
     "output_type": "stream",
     "text": [
      "Width: 4\n",
      "Height: 5\n",
      "Width: 1\n",
      "Height: 1\n",
      "Width: 4\n",
      "Height: 1\n"
     ]
    }
   ],
   "source": [
    "class Rectangle:\n",
    "    def __init__(self, width=1, height=1):\n",
    "        self._width = width\n",
    "        self._height = height\n",
    "        \n",
    "    def setWidth(self, width=1):\n",
    "        self.width = width\n",
    "        \n",
    "    def setHeight(self, height=1):\n",
    "        self.height = height\n",
    "        \n",
    "    def __str__(self):\n",
    "        return 'Width' + ': ' + str(self._width) + '\\n' + 'Height' + ': ' + str(self._height)\n",
    "    \n",
    "r1 = Rectangle(4, 5)\n",
    "print(r1)\n",
    "r2 = Rectangle()\n",
    "print(r2)\n",
    "r3 = Rectangle(4)\n",
    "print(r3)"
   ]
  },
  {
   "cell_type": "markdown",
   "metadata": {},
   "source": [
    "문제: width, height, area, perimeter를 구하는 클래스를 위의 코드를 참고해 width=4, height=5인 객체의 모든 값을 출력하시오."
   ]
  },
  {
   "cell_type": "code",
   "execution_count": 12,
   "metadata": {},
   "outputs": [
    {
     "name": "stdout",
     "output_type": "stream",
     "text": [
      "4\n",
      "5\n",
      "20\n",
      "18\n"
     ]
    }
   ],
   "source": [
    "class Rectangle:\n",
    "    def __init__(self, width=1, height=1):\n",
    "        self._width = width\n",
    "        self._height = height\n",
    "        \n",
    "    def setWidth(self, width=1):\n",
    "        self.width = width\n",
    "        \n",
    "    def setHeight(self, height=1):\n",
    "        self.height = height\n",
    "        \n",
    "    def getWidth(self):\n",
    "        return self._width\n",
    "    \n",
    "    def getHeight(self):\n",
    "        return self._height\n",
    "    \n",
    "    def area(self):\n",
    "        return self._width * self._height\n",
    "    \n",
    "    def perimeter(self):\n",
    "        return 2 * (self._width + self._height)\n",
    "        \n",
    "    def __str__(self):\n",
    "        return 'Width' + ': ' + str(self._width) + '\\n' + 'Height' + ': ' + str(self._height)\n",
    "    \n",
    "r = Rectangle(4, 5)\n",
    "print(r.getWidth())\n",
    "print(r.getHeight())\n",
    "print(r.area())\n",
    "print(r.perimeter())"
   ]
  },
  {
   "cell_type": "markdown",
   "metadata": {},
   "source": [
    "부족한 점: 클래스 만들 때 return으로 해서 print() 안에다가 method랑 같이 돌렸는데 객체가 출력되면서 틀렸다. 모든 method가 self만 인자로 삼으니 소괄호()가 필요했다. 잊어버리지 말자."
   ]
  },
  {
   "cell_type": "markdown",
   "metadata": {},
   "source": [
    "문제: 이름과 중간 성적, 기말 성적을 입력받아서 출력하는 프로그램을 작성하라."
   ]
  },
  {
   "cell_type": "code",
   "execution_count": 14,
   "metadata": {
    "scrolled": false
   },
   "outputs": [
    {
     "name": "stdout",
     "output_type": "stream",
     "text": [
      "Enter pupil's name: 민철\n",
      "Enter midterm score: 90\n",
      "Enter final score: 80\n",
      "\n",
      "Name\tGrade\n",
      "민철\t85.0\n"
     ]
    }
   ],
   "source": [
    "def main():\n",
    "    name = input(\"Enter pupil's name: \")\n",
    "    mid = int(input(\"Enter midterm score: \"))\n",
    "    final = int(input(\"Enter final score: \"))\n",
    "    st = LGstudent(name, mid, final)\n",
    "    print('\\nName\\tGrade')\n",
    "    print(st)\n",
    "    \n",
    "class LGstudent:\n",
    "    def __init__(self, name=\"\", mid=0, final=0):\n",
    "        self._name = name\n",
    "        self._mid = mid\n",
    "        self._final = final\n",
    "        \n",
    "    def calcGrade(self):\n",
    "        return (self._mid + self._final)/2\n",
    "    \n",
    "    def __str__(self):\n",
    "        return self._name + '\\t' + str(self.calcGrade())\n",
    "    \n",
    "main()"
   ]
  },
  {
   "cell_type": "markdown",
   "metadata": {},
   "source": [
    "부족한 점: method에서 변수들은 입력받을 필요가 없고 그냥 self._ 에다가 써주면 되는 것을 깜빡했다. 그리고 method 내에서 다른 method를 사용할 때 그냥 소괄호()만 쓰면 되는 것을 헷갈렸다."
   ]
  },
  {
   "cell_type": "markdown",
   "metadata": {},
   "source": [
    "문제: 위의 코드를 가지고 학생들의 리스트를 만들어 이름과 성적을 내림차순으로 정렬하시오."
   ]
  },
  {
   "cell_type": "code",
   "execution_count": 22,
   "metadata": {
    "scrolled": true
   },
   "outputs": [
    {
     "name": "stdout",
     "output_type": "stream",
     "text": [
      "Enter student's name: 1\n",
      "Enter student's mid score: 50\n",
      "Enter student's final score: 60\n",
      "Do you want to continue? y\n",
      "Enter student's name: 2\n",
      "Enter student's mid score: 70\n",
      "Enter student's final score: 90\n",
      "Do you want to continue? y\n",
      "Enter student's name: 3\n",
      "Enter student's mid score: 10\n",
      "Enter student's final score: 30\n",
      "Do you want to continue? n\n",
      "2\t80.0\n",
      "1\t55.0\n",
      "3\t20.0\n"
     ]
    }
   ],
   "source": [
    "def main():\n",
    "    pupil_list = []\n",
    "    carryOn = 'Y'\n",
    "    \n",
    "    while carryOn == 'Y':\n",
    "        name = input(\"Enter student's name: \")\n",
    "        mid = int(input(\"Enter student's mid score: \"))\n",
    "        final = int(input(\"Enter student's final score: \"))\n",
    "        st = LGstudent(name, mid, final)\n",
    "        pupil_list.append(st)\n",
    "        carryOn = input(\"Do you want to continue? \")\n",
    "        carryOn = carryOn.upper()\n",
    "    \n",
    "    pupil_list.sort(key = lambda x: x.calcGrade(), reverse=True)\n",
    "    print('\\nName\\tGrade')\n",
    "    for pupil in pupil_list:\n",
    "        print(pupil)\n",
    "        \n",
    "class LGstudent:\n",
    "    def __init__(self, name=\"\", mid=0, final=0):\n",
    "        self._name = name\n",
    "        self._mid = mid\n",
    "        self._final = final\n",
    "        \n",
    "    def calcGrade(self):\n",
    "        return (self._mid + self._final)/2\n",
    "    \n",
    "    def __str__(self):\n",
    "        return self._name + '\\t' + str(self.calcGrade())\n",
    "    \n",
    "main()"
   ]
  },
  {
   "cell_type": "markdown",
   "metadata": {},
   "source": [
    "부족한 점: sort의 기본값이 내림차순인 것을 몰랐다!! reverse 매개변수를 True로 주면 오름차순으로 정렬할 수 있다. key에 대해서도 너무 애매하게 알았다. key는 len으로 지정해줄 수 있고 정의한 함수를 넣어줄 수도 있고 lambda 식을 넣어줄 수도 있다. 중요한 것은 기준으로 삼는 식(정의한 함수 혹은 lambda식)이 값을 반환한다는 것이다."
   ]
  },
  {
   "cell_type": "markdown",
   "metadata": {},
   "source": [
    "### 문제: 이름과 성적을 입력받는 클래스를 만들고 이를 inherit하는 subClass를 두 개 만드시오. 하나는 점수에 따라 성적을 부여하고 하나는 'Pass', 'Fail'을 부여하는 것. 그리고 최종적으로 학생 리스트를 만들어 출력하는 프로그램을 작성하시오."
   ]
  },
  {
   "cell_type": "code",
   "execution_count": 25,
   "metadata": {},
   "outputs": [
    {
     "name": "stdout",
     "output_type": "stream",
     "text": [
      "Enter your name: 5\n",
      "Enter your midterm exam: 90\n",
      "Enter you final exam: 50\n",
      "Enter category of Grade: pf\n",
      "Do you want to continue? y\n",
      "Enter your name: 2\n",
      "Enter your midterm exam: 90\n",
      "Enter you final exam: 90\n",
      "Enter category of Grade: lg\n",
      "Do you want to continue? n\n",
      "\n",
      "Name\tGrade\n",
      "2\tA\n",
      "5\tPass\n"
     ]
    }
   ],
   "source": [
    "def main():\n",
    "    carryOn = \"Y\"\n",
    "    pupil_list = []\n",
    "    \n",
    "    while carryOn == \"Y\":\n",
    "        name = input(\"Enter your name: \")\n",
    "        mid = int(input(\"Enter your midterm exam: \"))\n",
    "        final = int(input(\"Enter you final exam: \"))\n",
    "        category = input(\"Enter category of Grade: \")\n",
    "        category = category.upper()\n",
    "        if category == \"LG\":\n",
    "            st = LGstudent(name, mid, final)\n",
    "            pupil_list.append(st)\n",
    "        else:\n",
    "            st = PFstudent(name, mid, final)\n",
    "            pupil_list.append(st)\n",
    "        carryOn = input(\"Do you want to continue? \")\n",
    "        carryOn = carryOn.upper()\n",
    "    \n",
    "    print('\\nName\\tGrade')\n",
    "    pupil_list.sort(key = lambda x: x.getName())\n",
    "    for pupil in pupil_list:\n",
    "        print(pupil)\n",
    "\n",
    "class Student:\n",
    "    def __init__(self, name=\"\", mid=0, final=0):\n",
    "        self._name = name\n",
    "        self._mid = mid\n",
    "        self._final = final\n",
    "        \n",
    "    def getName(self):\n",
    "        return self._name\n",
    "    \n",
    "    def __str__(self):\n",
    "        return self._name + '\\t' + str(self.calcGrade())\n",
    "    \n",
    "class LGstudent(Student):\n",
    "    def calcGrade(self):\n",
    "        average = (self._mid + self._final)/2\n",
    "        if average >= 90:\n",
    "            return \"A\"\n",
    "        elif 90> average > 80:\n",
    "            return \"B\"\n",
    "        elif 80> average > 70:\n",
    "            return \"C\"\n",
    "        elif 70> average > 60:\n",
    "            return \"D\"\n",
    "        else:\n",
    "            return \"F\"\n",
    "        \n",
    "class PFstudent(Student):\n",
    "    def calcGrade(self):\n",
    "        average = (self._mid + self._final) / 2\n",
    "        if average > 60:\n",
    "            return \"Pass\"\n",
    "        else:\n",
    "            return \"Fail\"\n",
    "        \n",
    "main()"
   ]
  },
  {
   "cell_type": "markdown",
   "metadata": {},
   "source": [
    "부족한 점: 조건문을 쓸 때 괄호 없이 연산자 두개를 하나에 묶어서 써도 되는지 몰랐다. str method도 inherit할 거라는 생각을 못하고 어떻게 해야하는지 고민했었다. 그리고 각자의 class에서 정의된 method를 써서 \\_\\_str__ method에 각자의 class에서 정의된 method를 써도 되는데 superClass에 있다보니 어떻게 하지? 라는 생각도 했었다. 다시 곱씹고 연습해보자."
   ]
  },
  {
   "cell_type": "markdown",
   "metadata": {},
   "source": [
    "### 문제: 위의 문제에서 이번엔 각 학생의 숫자까지 통합해서 출력하도록 하자."
   ]
  },
  {
   "cell_type": "code",
   "execution_count": 26,
   "metadata": {
    "scrolled": false
   },
   "outputs": [
    {
     "name": "stdout",
     "output_type": "stream",
     "text": [
      "Enter your name: 1\n",
      "Enter your midterm exam: 60\n",
      "Enter you final exam: 40\n",
      "Enter category of Grade: lg\n",
      "Do you want to continue? y\n",
      "Enter your name: 2\n",
      "Enter your midterm exam: 90\n",
      "Enter you final exam: 10\n",
      "Enter category of Grade: pf\n",
      "Do you want to continue? y\n",
      "Enter your name: 3\n",
      "Enter your midterm exam: 25\n",
      "Enter you final exam: 57\n",
      "Enter category of Grade: pf\n",
      "Do you want to continue? n\n",
      "\n",
      "Name\tGrade\n",
      "1\tF\n",
      "2\tFail\n",
      "3\tFail\n",
      "The number of letter-grade students: 1\n",
      "The number of pass-fail students: 2\n"
     ]
    }
   ],
   "source": [
    "def main():\n",
    "    carryOn = \"Y\"\n",
    "    pupil_list = []\n",
    "    \n",
    "    while carryOn == \"Y\":\n",
    "        name = input(\"Enter your name: \")\n",
    "        mid = int(input(\"Enter your midterm exam: \"))\n",
    "        final = int(input(\"Enter you final exam: \"))\n",
    "        category = input(\"Enter category of Grade: \")\n",
    "        category = category.upper()\n",
    "        if category == \"LG\":\n",
    "            st = LGstudent(name, mid, final)\n",
    "            pupil_list.append(st)\n",
    "        else:\n",
    "            st = PFstudent(name, mid, final)\n",
    "            pupil_list.append(st)\n",
    "        carryOn = input(\"Do you want to continue? \")\n",
    "        carryOn = carryOn.upper()\n",
    "    \n",
    "    print('\\nName\\tGrade')\n",
    "    pupil_list.sort(key = lambda x: x.getName())\n",
    "    number_of_lg = 0\n",
    "    for pupil in pupil_list:\n",
    "        print(pupil)\n",
    "        if isinstance(pupil, LGstudent):\n",
    "            number_of_lg += 1\n",
    "    print(\"The number of letter-grade students:\", number_of_lg)\n",
    "    print(\"The number of pass-fail students:\", len(pupil_list) - number_of_lg)\n",
    "            \n",
    "\n",
    "class Student:\n",
    "    def __init__(self, name=\"\", mid=0, final=0):\n",
    "        self._name = name\n",
    "        self._mid = mid\n",
    "        self._final = final\n",
    "        \n",
    "    def getName(self):\n",
    "        return self._name\n",
    "    \n",
    "    def __str__(self):\n",
    "        return self._name + '\\t' + str(self.calcGrade())\n",
    "    \n",
    "class LGstudent(Student):\n",
    "    def calcGrade(self):\n",
    "        average = (self._mid + self._final)/2\n",
    "        if average >= 90:\n",
    "            return \"A\"\n",
    "        elif 90> average > 80:\n",
    "            return \"B\"\n",
    "        elif 80> average > 70:\n",
    "            return \"C\"\n",
    "        elif 70> average > 60:\n",
    "            return \"D\"\n",
    "        else:\n",
    "            return \"F\"\n",
    "        \n",
    "class PFstudent(Student):\n",
    "    def calcGrade(self):\n",
    "        average = (self._mid + self._final) / 2\n",
    "        if average > 60:\n",
    "            return \"Pass\"\n",
    "        else:\n",
    "            return \"Fail\"\n",
    "        \n",
    "main()"
   ]
  },
  {
   "cell_type": "markdown",
   "metadata": {},
   "source": [
    "부족한 점: 명령어가 길어지니 "
   ]
  }
 ],
 "metadata": {
  "kernelspec": {
   "display_name": "Python 3",
   "language": "python",
   "name": "python3"
  },
  "language_info": {
   "codemirror_mode": {
    "name": "ipython",
    "version": 3
   },
   "file_extension": ".py",
   "mimetype": "text/x-python",
   "name": "python",
   "nbconvert_exporter": "python",
   "pygments_lexer": "ipython3",
   "version": "3.8.3"
  }
 },
 "nbformat": 4,
 "nbformat_minor": 4
}
