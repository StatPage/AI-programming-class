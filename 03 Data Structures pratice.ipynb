{
 "cells": [
  {
   "cell_type": "markdown",
   "metadata": {},
   "source": [
    "#### Q1. 리스트와 튜플을 만들고 개체를 복사하라. 복사한 개체를 통해 무엇이 다른지 논하시오."
   ]
  },
  {
   "cell_type": "code",
   "execution_count": 7,
   "metadata": {},
   "outputs": [
    {
     "name": "stdout",
     "output_type": "stream",
     "text": [
      "True\n",
      "True\n",
      "False\n",
      "True\n"
     ]
    }
   ],
   "source": [
    "list1 = [1, 2, 3]\n",
    "tuple1 = 1, 2, 3\n",
    "\n",
    "list2 = list1[:]\n",
    "tuple2 = tuple1[:]\n",
    "\n",
    "print(list1==list2)\n",
    "print(tuple1==tuple2)\n",
    "\n",
    "print(id(list1)==id(list2))\n",
    "print(id(tuple1)==id(tuple2))"
   ]
  },
  {
   "cell_type": "markdown",
   "metadata": {},
   "source": [
    "리스트와 튜플을 복제한 개체들은 단순히 출력 결과만 보면 동일한 개체라고 생각할 수 있다. 다만 메모리를 확인하면 리스트는 새로운 메모리를 할당받은 개체가 생겼으며 튜플은 메모리도 동일한 것을 알 수 있다."
   ]
  },
  {
   "cell_type": "code",
   "execution_count": 8,
   "metadata": {},
   "outputs": [
    {
     "name": "stdout",
     "output_type": "stream",
     "text": [
      "[1, 2, 3, 4] [1, 2, 3]\n"
     ]
    }
   ],
   "source": [
    "list1.append(4)\n",
    "print(list1, list2)"
   ]
  },
  {
   "cell_type": "markdown",
   "metadata": {},
   "source": [
    "할당받은 메모리 값이 다르기에 list1에 새로운 원소를 추가해줘도 list2는 그대로인 것을 알 수 있다(튜플의 경우 애초에 원소를 바꿀 수 없기에 리스트만 예시로 만들었다)."
   ]
  },
  {
   "cell_type": "markdown",
   "metadata": {},
   "source": [
    "#### Q2. 리스트를 생성하고 function 혹은 method를 통해 특정 원소를 삭제하고 operation과 method의 특징을 설명하시오."
   ]
  },
  {
   "cell_type": "code",
   "execution_count": 20,
   "metadata": {},
   "outputs": [
    {
     "name": "stdout",
     "output_type": "stream",
     "text": [
      "[10, 9, 7]\n",
      "[9, 7]\n",
      "[9, 7, 10]\n",
      "I wanna get to Daejeon\n"
     ]
    }
   ],
   "source": [
    "list3 = [10, 9, 8, 7]\n",
    "del list3[2] \n",
    "print(list3)\n",
    "\n",
    "list3.remove(10)   # del처럼 index를 사용하려다 틀렸다. 특정 원소 자체를 입력해야 한다.\n",
    "print(list3)\n",
    "\n",
    "list3.append(10)   # append method는 그냥 마지막 위치에 원소가 추가되는 것이다.\n",
    "print(list3)\n",
    "\n",
    "list4 = [\"I\", \"wanna\", \"get\", \"to\", \"Daejeon\"]\n",
    "print(\" \".join(list4))"
   ]
  },
  {
   "cell_type": "markdown",
   "metadata": {},
   "source": [
    "del() operation은 인덱스를 통해서 리스트 내의 특정 원소들을 제거할 수 있다. .remove() method는 리스트의 원소를 직접 입력해 해당하는 원소를 가장 자리에서부터 하나 제거한다. 만약 리스트에 값이 여러 개가 있다면 맨 앞에 위치한 원소만 제거가 되는 것이다."
   ]
  },
  {
   "cell_type": "markdown",
   "metadata": {},
   "source": [
    "#### Q3. 문자로 리스트를 생성한 후 이 리스트에서 간격을 3으로 두어 출력하시오."
   ]
  },
  {
   "cell_type": "code",
   "execution_count": 21,
   "metadata": {},
   "outputs": [
    {
     "name": "stdout",
     "output_type": "stream",
     "text": [
      "['s', 'c']\n"
     ]
    }
   ],
   "source": [
    "string = list(\"soccer\")\n",
    "result = string[::3]\n",
    "print(result)"
   ]
  },
  {
   "cell_type": "markdown",
   "metadata": {},
   "source": [
    "#### Q4. 리스트에서 [:]가 아닌 method를 통해 복제하시오."
   ]
  },
  {
   "cell_type": "code",
   "execution_count": 22,
   "metadata": {
    "scrolled": true
   },
   "outputs": [
    {
     "name": "stdout",
     "output_type": "stream",
     "text": [
      "False\n"
     ]
    }
   ],
   "source": [
    "list5 = [5, 10, 15, 20, 25, 30]\n",
    "list6 = list5.copy()\n",
    "print(id(list6) == id(list5))"
   ]
  },
  {
   "cell_type": "markdown",
   "metadata": {},
   "source": [
    ".copy() method를 통해 새로운 객체를 생성할 수 있다."
   ]
  },
  {
   "cell_type": "markdown",
   "metadata": {},
   "source": [
    "#### Q5. 임의의 함수를 정의하시오. 단, 함수를 만들 때 주석을 달고 이를 출력하시오."
   ]
  },
  {
   "cell_type": "code",
   "execution_count": 27,
   "metadata": {
    "scrolled": true
   },
   "outputs": [
    {
     "name": "stdout",
     "output_type": "stream",
     "text": [
      "문제가 원하는 것은 이거다!\n",
      "끝!\n"
     ]
    }
   ],
   "source": [
    "def main():\n",
    "    \"\"\"문제가 원하는 것은 이거다!\"\"\"\n",
    "    print(\"끝!\")\n",
    "\n",
    "print(main.__doc__)\n",
    "main()"
   ]
  },
  {
   "cell_type": "markdown",
   "metadata": {},
   "source": [
    "부족한 점: 함수를 정의할 때 인자를 넣는 brace를 당연히 넣는 줄 알았는데 아니었다. 조금 더 주의해야 겠다."
   ]
  },
  {
   "cell_type": "markdown",
   "metadata": {},
   "source": [
    "#### Q6. 명령어 내에서 local variable을 global variable로 바꾸시오."
   ]
  },
  {
   "cell_type": "code",
   "execution_count": 32,
   "metadata": {},
   "outputs": [
    {
     "name": "stdout",
     "output_type": "stream",
     "text": [
      "20\n",
      "20\n"
     ]
    }
   ],
   "source": [
    "a = 10\n",
    "def variable():\n",
    "    global a\n",
    "    a = 20\n",
    "    print(a)\n",
    "\n",
    "variable()\n",
    "print(a)"
   ]
  },
  {
   "cell_type": "markdown",
   "metadata": {},
   "source": [
    "부족한 점: global 선언은 잘 했지만 함수를 실행하는 것을 깜빡하고 안 했다. 이 부분을 주의해야 할 것 같다."
   ]
  },
  {
   "cell_type": "markdown",
   "metadata": {},
   "source": [
    "#### Q7. 주어진 리스트에서 정렬을 하시오. 단, 올림차순, 내림차순, 문자의 수로 정렬하는 것. 세 가지 종류별로 수행해야 한다."
   ]
  },
  {
   "cell_type": "code",
   "execution_count": 38,
   "metadata": {},
   "outputs": [
    {
     "name": "stdout",
     "output_type": "stream",
     "text": [
      "['break', 'brrr', 'democratic', 'equals', 'sequoia', 'two']\n",
      "['two', 'sequoia', 'equals', 'democratic', 'brrr', 'break']\n",
      "['democratic', 'sequoia', 'equals', 'break', 'brrr', 'two']\n"
     ]
    }
   ],
   "source": [
    "list11 = [\"democratic\", \"sequoia\", \"equals\", \"brrr\",\"break\", \"two\"]\n",
    "list11.sort()\n",
    "print(list11)\n",
    "list11.sort(reverse=True)\n",
    "print(list11)\n",
    "\n",
    "def numOfAlphabet(word):\n",
    "    number = 0\n",
    "    for i in word:\n",
    "        number += 1\n",
    "    return number    \n",
    "\n",
    "list11.sort(key=numOfAlphabet, reverse=True)\n",
    "print(list11)"
   ]
  },
  {
   "cell_type": "markdown",
   "metadata": {},
   "source": [
    "부족한 점: .sort는 method이고 해당 변수로 새로운 변수를 생성하는 statement가 아닌데 그런 것처럼 사용했다. 이 부분을 조심해야 겠다."
   ]
  },
  {
   "cell_type": "markdown",
   "metadata": {},
   "source": [
    "#### Q8. find method를 통해 주어진 변수 내에 a와 z가 있는지 확인하시오. 다른 방법을 통해서도 확인하시오."
   ]
  },
  {
   "cell_type": "code",
   "execution_count": 41,
   "metadata": {
    "scrolled": true
   },
   "outputs": [
    {
     "name": "stdout",
     "output_type": "stream",
     "text": [
      "-1 0 1 True\n"
     ]
    }
   ],
   "source": [
    "string2 = \"zoo\"\n",
    "print(string2.find(\"a\"), string2.find(\"z\"), string2.find(\"o\"),\"z\" in string2)"
   ]
  },
  {
   "cell_type": "markdown",
   "metadata": {},
   "source": [
    "find method는 입력된 인자가 있는지 확인해주면서 인덱스를 통해 결과를 출력해준다. 단 여러 개가 있을 경우 맨 앞의 인덱스만 출력해주고, 해당 인자가 없을 경우에는 -1을 출력한다."
   ]
  }
 ],
 "metadata": {
  "kernelspec": {
   "display_name": "Python 3",
   "language": "python",
   "name": "python3"
  },
  "language_info": {
   "codemirror_mode": {
    "name": "ipython",
    "version": 3
   },
   "file_extension": ".py",
   "mimetype": "text/x-python",
   "name": "python",
   "nbconvert_exporter": "python",
   "pygments_lexer": "ipython3",
   "version": "3.8.3"
  }
 },
 "nbformat": 4,
 "nbformat_minor": 4
}
