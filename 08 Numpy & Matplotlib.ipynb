{
 "cells": [
  {
   "cell_type": "markdown",
   "metadata": {},
   "source": [
    "### Installation\n",
    "- Use pip(Package Installer for Python)  \n",
    "    - pip install numpy\n",
    "    - pip install matplotlib\n",
    "    ![use pip](https://user-images.githubusercontent.com/61931924/95999516-ebcae200-0e70-11eb-96f9-224cb48d2c5c.PNG)"
   ]
  },
  {
   "cell_type": "markdown",
   "metadata": {},
   "source": [
    "### NumPy\n",
    "- NumPy stands for 'Numerical Python'\n",
    "    - A library consisting of multidimensional array objects and a collection of routines for processing of array\n",
    "    \n",
    "- Using NumPy, a developer can perform the follwing:\n",
    "    - Mathematical and logical operations on arrays\n",
    "    - Fourier transforms and routines for shape manipulation\n",
    "    - Operations related to linear algebra\n",
    "    - Random number generation"
   ]
  },
  {
   "cell_type": "markdown",
   "metadata": {},
   "source": [
    "### Arrays\n",
    "- The most important object defined in NumPy is the n-dimensional arrays type called __ndarray__\n",
    "    - The elements of the array all have the same type\n",
    "    - Items in the collections can be accessed using a zero-based index"
   ]
  },
  {
   "cell_type": "code",
   "execution_count": 8,
   "metadata": {},
   "outputs": [
    {
     "name": "stdout",
     "output_type": "stream",
     "text": [
      "[1 2 3]\n",
      "[[1 2]\n",
      " [3 4]]\n",
      "[[1 2 3 4 5]]\n",
      "[1. 2. 3.]\n"
     ]
    },
    {
     "data": {
      "text/plain": [
       "(array([1, 2, 3]),\n",
       " array([[1, 2],\n",
       "        [3, 4]]),\n",
       " array([[1, 2, 3, 4, 5]]),\n",
       " array([1., 2., 3.]))"
      ]
     },
     "execution_count": 8,
     "metadata": {},
     "output_type": "execute_result"
    }
   ],
   "source": [
    "import numpy as np\n",
    "\n",
    "a = np.array([1,2,3])   # One-dimensional array\n",
    "b = np.array([[1,2],\n",
    "              [3,4]])   # Two dimensional array. 반드시 리스트 내에 포함해야 한다.\n",
    "c = np.array([1,2,3,4,5], ndmin=2)   # To specify minimum number of dimensions\n",
    "d = np.array([1,2,3], dtype=float)   # To specify desired data type for the array\n",
    "print(a)\n",
    "print(b)\n",
    "print(c)\n",
    "print(d)\n",
    "a,b,c,d"
   ]
  },
  {
   "cell_type": "markdown",
   "metadata": {},
   "source": [
    "여기서 말하는 dimension이란 차원의 수를 말하는데 2차원일 때는 행렬을 떠올리면 된다."
   ]
  },
  {
   "cell_type": "markdown",
   "metadata": {},
   "source": [
    "### Array Creation\n",
    "- A new ndarray object can be constructed by any of the following array creation routines"
   ]
  },
  {
   "cell_type": "code",
   "execution_count": 9,
   "metadata": {
    "scrolled": true
   },
   "outputs": [
    {
     "name": "stdout",
     "output_type": "stream",
     "text": [
      "[0 1 2 3 4]\n",
      "[3 5 7 9]\n",
      "[0. 0. 0. 0. 0.]\n",
      "[1. 1. 1. 1. 1.]\n"
     ]
    },
    {
     "data": {
      "text/plain": [
       "(array([0, 1, 2, 3, 4]),\n",
       " array([3, 5, 7, 9]),\n",
       " array([0., 0., 0., 0., 0.]),\n",
       " array([1., 1., 1., 1., 1.]))"
      ]
     },
     "execution_count": 9,
     "metadata": {},
     "output_type": "execute_result"
    }
   ],
   "source": [
    "import numpy as np\n",
    "\n",
    "a = np.arange(5)        # Array of range(5)\n",
    "b = np.arange(3,10,2)   # From 3 to 10 in increments of 2\n",
    "c = np.zeros(5)   # Array of five zeros (default type is float)\n",
    "d = np.ones(5)    # Array of five ones (default type is float)\n",
    "\n",
    "print(a)\n",
    "print(b)\n",
    "print(c)\n",
    "print(d)\n",
    "\n",
    "a,b,c,d"
   ]
  },
  {
   "cell_type": "markdown",
   "metadata": {},
   "source": [
    "np.arange , np.zeros , np.ones 세 가지를 제대로 알고 있자."
   ]
  },
  {
   "cell_type": "code",
   "execution_count": 12,
   "metadata": {
    "scrolled": true
   },
   "outputs": [
    {
     "name": "stdout",
     "output_type": "stream",
     "text": [
      "[[1. 0. 0.]\n",
      " [0. 1. 0.]\n",
      " [0. 0. 1.]]\n",
      "[[1. 0. 0. 0.]\n",
      " [0. 1. 0. 0.]\n",
      " [0. 0. 1. 0.]]\n",
      "[10.  12.5 15.  17.5 20. ]\n",
      "[10. 15. 20.]\n"
     ]
    },
    {
     "data": {
      "text/plain": [
       "(array([[1., 0., 0.],\n",
       "        [0., 1., 0.],\n",
       "        [0., 0., 1.]]),\n",
       " array([[1., 0., 0., 0.],\n",
       "        [0., 1., 0., 0.],\n",
       "        [0., 0., 1., 0.]]),\n",
       " array([10. , 12.5, 15. , 17.5, 20. ]),\n",
       " array([10., 15., 20.]))"
      ]
     },
     "execution_count": 12,
     "metadata": {},
     "output_type": "execute_result"
    }
   ],
   "source": [
    "import numpy as np\n",
    "\n",
    "a = np.eye(3)      # Produces square identity matrix\n",
    "b = np.eye(3, 4)   # Identity matrix of size 3 × 4\n",
    "\n",
    "# To produce an array of 5 elements equally spaced from 10 to 20\n",
    "c = np.linspace(10, 20, 5)\n",
    "d = np.linspace(10, 20, 3)\n",
    "\n",
    "print(a)\n",
    "print(b)\n",
    "print(c)\n",
    "print(d)\n",
    "a,b,c,d\n"
   ]
  },
  {
   "cell_type": "markdown",
   "metadata": {},
   "source": [
    "### Getting Information and Changing Shapes\n",
    "- We can get various information about an array and change its shape in a variety of ways"
   ]
  },
  {
   "cell_type": "code",
   "execution_count": 8,
   "metadata": {},
   "outputs": [
    {
     "name": "stdout",
     "output_type": "stream",
     "text": [
      "[0 1 2 3 4 5]\n",
      "[[0 1]\n",
      " [2 3]\n",
      " [4 5]]\n",
      "5\n",
      "[1 3 5]\n",
      "(3, 2)\n",
      "6\n",
      "2\n",
      "[[0 2 4]\n",
      " [1 3 5]]\n",
      "False\n",
      "[[0 1]\n",
      " [2 3]\n",
      " [4 5]]\n",
      "[0 1 2 3 4 5]\n"
     ]
    }
   ],
   "source": [
    "import numpy as np\n",
    "\n",
    "a = np.arange(6)\n",
    "print(a)\n",
    "\n",
    "b = a.reshape(3,2)\n",
    "print(b)\n",
    "print(b[2, 1])\n",
    "print(b[:, 1])       # 1열만 추출\n",
    "print(np.shape(b))   # Array dimension as a tuple\n",
    "print(np.size(b))    # Total number of elements\n",
    "print(np.ndim(b))    # Number of dimensions\n",
    "print(np.transpose(b))   # Comptutes matrix transpose\n",
    "\n",
    "c = np.copy(b)      # Makes a deep copy. 메모리값도 새로운 것을 가진다.\n",
    "print(id(c) == id(b)) \n",
    "print(c)\n",
    "print(np.ravel(c))   # Makes the array one-dimensional"
   ]
  },
  {
   "cell_type": "markdown",
   "metadata": {},
   "source": [
    "### Mathematical Functions"
   ]
  },
  {
   "cell_type": "code",
   "execution_count": 10,
   "metadata": {},
   "outputs": [
    {
     "name": "stdout",
     "output_type": "stream",
     "text": [
      "[[12 14]\n",
      " [16 18]]\n",
      "[[11 24]\n",
      " [39 56]]\n",
      "[[37 40]\n",
      " [85 92]]\n",
      "[[35 41]\n",
      " [81 95]]\n"
     ]
    }
   ],
   "source": [
    "import numpy as np\n",
    "\n",
    "a = np.array([[1,2], [3,4]])\n",
    "b = np.array([[11,12], [13,14]])\n",
    "\n",
    "print(a + b)\n",
    "print(a * b)\n",
    "print(np.dot(a, b))   # matrix multiplication\n",
    "print(np.inner(a,b))  # inner product of row vectors"
   ]
  },
  {
   "cell_type": "code",
   "execution_count": 15,
   "metadata": {
    "scrolled": true
   },
   "outputs": [
    {
     "name": "stdout",
     "output_type": "stream",
     "text": [
      "[-2.  2. -0.  1. 10.]\n",
      "[-2.  1. -1.  0. 10.]\n",
      "[-1.  2. -0.  1. 10.]\n"
     ]
    }
   ],
   "source": [
    "import numpy as np \n",
    "\n",
    "a = np.array([-1.7, 1.5, -0.2, 0.6, 10])\n",
    "b = np.around(a)   # 반올림\n",
    "c = np.floor(a)    # 0.5초과 제거\n",
    "d = np.ceil(a)      # 0.5이상 반올림\n",
    "\n",
    "print(b)\n",
    "print(c)\n",
    "print(d)"
   ]
  },
  {
   "cell_type": "code",
   "execution_count": null,
   "metadata": {},
   "outputs": [],
   "source": [
    "import numpy as np\n",
    "\n",
    "a = np.array([1.0, 5.55, 123, 0.567, 25.532])\n",
    "b = np.around(a)\n",
    "c = n"
   ]
  }
 ],
 "metadata": {
  "kernelspec": {
   "display_name": "Python 3",
   "language": "python",
   "name": "python3"
  },
  "language_info": {
   "codemirror_mode": {
    "name": "ipython",
    "version": 3
   },
   "file_extension": ".py",
   "mimetype": "text/x-python",
   "name": "python",
   "nbconvert_exporter": "python",
   "pygments_lexer": "ipython3",
   "version": "3.8.3"
  }
 },
 "nbformat": 4,
 "nbformat_minor": 4
}
