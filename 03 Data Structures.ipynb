<<<<<<< HEAD:.ipynb_checkpoints/03 Data Structures - 1-checkpoint.ipynb
{
 "cells": [
  {
   "cell_type": "markdown",
   "metadata": {},
   "source": [
    "# List"
   ]
  },
  {
   "cell_type": "code",
   "execution_count": 22,
   "metadata": {},
   "outputs": [
    {
     "name": "stdout",
     "output_type": "stream",
     "text": [
      "1696366884248\n",
      "1696357603784\n",
      "1696366884248 1696367570760\n",
      "True True\n"
     ]
    }
   ],
   "source": [
    "a = 1,2,3\n",
    "print(id(a))\n",
    "b = [1,2,3]\n",
    "print(id(b))\n",
    "c = a[:]\n",
    "d = b[:]\n",
    "print(id(c), id(d))\n",
    "print(a == c, b == d) \n"
   ]
  },
  {
   "cell_type": "markdown",
   "metadata": {},
   "source": [
    "List는 mutable 데이터 타입이라 수정이 가능하지만 tuple은 immutable 데이터 타입이라 수정이 불가능하다.\n",
    "또한 인덱싱을 통해 객체를 복사했을 경우 tuple의 경우 메모리 값이 똑같은 데 반해 list의 메모리는 달라졌다. 이를 통해 tuple은 아니지만 list는 새로운 객체가 생겼음을 알 수 있다."
   ]
  },
  {
   "cell_type": "markdown",
   "metadata": {},
   "source": [
    "Python은 objected oriented language로 만들어진 프로그램이다."
   ]
  },
  {
   "cell_type": "code",
   "execution_count": 6,
   "metadata": {},
   "outputs": [
    {
     "name": "stdout",
     "output_type": "stream",
     "text": [
      "[1, 3]\n"
     ]
    }
   ],
   "source": [
    "del b[1]\n",
    "print(b)"
   ]
  },
  {
   "cell_type": "code",
   "execution_count": 7,
   "metadata": {},
   "outputs": [
    {
     "ename": "TypeError",
     "evalue": "'tuple' object doesn't support item deletion",
     "output_type": "error",
     "traceback": [
      "\u001b[1;31m---------------------------------------------------------------------------\u001b[0m",
      "\u001b[1;31mTypeError\u001b[0m                                 Traceback (most recent call last)",
      "\u001b[1;32m<ipython-input-7-264fee32431d>\u001b[0m in \u001b[0;36m<module>\u001b[1;34m\u001b[0m\n\u001b[1;32m----> 1\u001b[1;33m \u001b[1;32mdel\u001b[0m \u001b[0ma\u001b[0m\u001b[1;33m[\u001b[0m\u001b[1;36m0\u001b[0m\u001b[1;33m]\u001b[0m\u001b[1;33m\u001b[0m\u001b[1;33m\u001b[0m\u001b[0m\n\u001b[0m\u001b[0;32m      2\u001b[0m \u001b[0mprint\u001b[0m\u001b[1;33m(\u001b[0m\u001b[0ma\u001b[0m\u001b[1;33m)\u001b[0m\u001b[1;33m\u001b[0m\u001b[1;33m\u001b[0m\u001b[0m\n",
      "\u001b[1;31mTypeError\u001b[0m: 'tuple' object doesn't support item deletion"
     ]
    }
   ],
   "source": [
    "del a[0]"
   ]
  },
  {
   "cell_type": "markdown",
   "metadata": {},
   "source": [
    "del 명령어는 list에서 해당 원소를 삭제하는 operation이다. 객체 b의 경우 list여서 index 1에 위치한 원소가 제거됐음을 확인할 수 있었다.\n",
    "a의 경우 tuple은 immutable이기 때문에 원소를 제거하거나 변경하는 것이 불가능하다. 따라서 del 명령어를 사용할 수 없다. (애초에 list에서 원소를 삭제하는 명령어라고 배웠으니 당연한 것 같기도 하다.)"
   ]
  },
  {
   "cell_type": "code",
   "execution_count": 10,
   "metadata": {},
   "outputs": [
    {
     "name": "stdout",
     "output_type": "stream",
     "text": [
      "[2, 3, 4, 5, 1, 2, 3, 4, 5] [4, 5, 1, 2, 3, 4, 5]\n"
     ]
    }
   ],
   "source": [
    "a = [1,2,3,4,5,1,2,3,4,5]\n",
    "a.remove(1)\n",
    "b = [1,2,3,4,5,1,2,3,4,5]\n",
    "del b[0:3]\n",
    "print(a, b)"
   ]
  },
  {
   "cell_type": "markdown",
   "metadata": {},
   "source": [
    "remove method인 경우에 해당 list에서 제거하고자 하는 원소를 맨 앞의 것만 제거해준다. \n",
    "del operation는 해당 리스트에서 인덱스를 통해 범위를 지정해 원소들을 제거할 수 있다."
   ]
  },
  {
   "cell_type": "code",
   "execution_count": null,
   "metadata": {},
   "outputs": [],
   "source": [
    "c = '1 2 3'\n",
    "c.split()\n",
    "print(c)\n",
    "d = ['To', 'be', 'or', 'not', 'to', 'be']\n",
    "string = ' '.join(d)\n",
    "print(string)"
   ]
  },
  {
   "cell_type": "markdown",
   "metadata": {},
   "source": [
    "join같은 경우는 내가 항상 헷갈려 하는 대목이다. join은 list가 있을 경우, list의 원소들을 붙여주는 method이다. join이 list의 원소들을 붙여줄 때 구분해주는 단위들을 ' '.join()에서 ' ' 안에 적어서 표현해줘야 한다. "
   ]
  },
  {
   "cell_type": "markdown",
   "metadata": {},
   "source": [
    "# Tuple"
   ]
  },
  {
   "cell_type": "code",
   "execution_count": 23,
   "metadata": {},
   "outputs": [
    {
     "name": "stdout",
     "output_type": "stream",
     "text": [
      "100 정글\n",
      "정글 100\n"
     ]
    }
   ],
   "source": [
    "x = 100\n",
    "y = '정글'\n",
    "print(x, y)\n",
    "x, y = y, x\n",
    "print(x, y)"
   ]
  },
  {
   "cell_type": "markdown",
   "metadata": {},
   "source": [
    "튜플 중에서도 개인적으로 swaping인 것 같다. swaping은 변수들 간의 value를 서로 교환하고 싶을 때 x, y = y, x로 입력해주기만 하면 서로의 value를 교환할 수 있는 편리한 기능이다."
   ]
  },
  {
   "cell_type": "markdown",
   "metadata": {},
   "source": [
    "# Sequence"
   ]
  },
  {
   "cell_type": "code",
   "execution_count": 24,
   "metadata": {},
   "outputs": [
    {
     "name": "stdout",
     "output_type": "stream",
     "text": [
      "[1, 3, 5, 7, 9]\n"
     ]
    }
   ],
   "source": [
    "a = [1,2,3,4,5,6,7,8,9,10]\n",
    "print(a[::2])"
   ]
  },
  {
   "cell_type": "markdown",
   "metadata": {},
   "source": [
    "list_object[::n]의 경우 리스트의 원소들을 간격을 n으로 두어 추출하는 방법이다."
   ]
  },
  {
   "cell_type": "code",
   "execution_count": 26,
   "metadata": {
    "scrolled": true
   },
   "outputs": [
    {
     "name": "stdout",
     "output_type": "stream",
     "text": [
      "['s', 't', 'r', 'i', 'n', 'g']\n"
     ]
    }
   ],
   "source": [
    "string = 'string'\n",
    "s = list(string)\n",
    "print(s)"
   ]
  },
  {
   "cell_type": "markdown",
   "metadata": {},
   "source": [
    "list() operation의 경우는 안에 들어오는 원소를 여러 원소로 분할하여 하나의 리스트를 만든다."
   ]
  },
  {
   "cell_type": "markdown",
   "metadata": {},
   "source": [
    "# References"
   ]
  },
  {
   "cell_type": "code",
   "execution_count": 28,
   "metadata": {},
   "outputs": [
    {
     "name": "stdout",
     "output_type": "stream",
     "text": [
      "1696367570504 1696367605128 1696368401224\n"
     ]
    }
   ],
   "source": [
    "list1 = ['a', 'b', 'c']\n",
    "list2 = list1[:]\n",
    "list3 = list1.copy()\n",
    "print(id(list1), id(list2), id(list3))"
   ]
  },
  {
   "cell_type": "markdown",
   "metadata": {},
   "source": [
    "list는 데이터 타입이 mutable이기에 [:]와 .copy()를 통해 원소는 동일하게 가지지만 새로운 객체를 생성할 수 있었다."
   ]
  },
  {
   "cell_type": "markdown",
   "metadata": {},
   "source": [
    "# More about Strings"
   ]
  },
  {
   "cell_type": "code",
   "execution_count": 30,
   "metadata": {},
   "outputs": [
    {
     "name": "stdout",
     "output_type": "stream",
     "text": [
      "True\n",
      "True\n"
     ]
    }
   ],
   "source": [
    "print('p' in 'print')\n",
    "p = [0,1,2,3,4,5]\n",
    "print(0 in p)"
   ]
  },
  {
   "cell_type": "markdown",
   "metadata": {},
   "source": [
    "in 은 operation이다. a in b인 형식으로 쓰여지며 b 안에 a라는 원소가 들어있는지 확인한다."
   ]
  },
  {
   "cell_type": "code",
   "execution_count": 33,
   "metadata": {},
   "outputs": [
    {
     "name": "stdout",
     "output_type": "stream",
     "text": [
      "3\n"
     ]
    }
   ],
   "source": [
    "s1 = 'string'\n",
    "index = s1.find('i')\n",
    "print(index)"
   ]
  },
  {
   "cell_type": "markdown",
   "metadata": {},
   "source": [
    "str.find('x')는 str이라는 string에서 'x'라는 원소를 찾는 메소드로 index를 반환해준다."
   ]
  },
  {
   "cell_type": "markdown",
   "metadata": {},
   "source": [
    "# Function Definition"
   ]
  },
  {
   "cell_type": "markdown",
   "metadata": {},
   "source": [
    "\"\"\" \"\"\"(docstirng)은 일종의 코멘트 역할을 한다. 여러 줄에 걸쳐 주석을 달 수 있기 때문이다. 위치는 주로 함수 밑에 바로 위치시킨다. "
   ]
  },
  {
   "cell_type": "code",
   "execution_count": 34,
   "metadata": {},
   "outputs": [
    {
     "name": "stdout",
     "output_type": "stream",
     "text": [
      "그냥 한 번 써봤다.\n"
     ]
    }
   ],
   "source": [
    "def main():\n",
    "    \"\"\"그냥 한 번 써봤다.\"\"\"\n",
    "    return\n",
    "\n",
    "print(main.__doc__)"
   ]
  },
  {
   "cell_type": "markdown",
   "metadata": {},
   "source": [
    "위에서 세 가지를 새로 적용해봤다. 첫째는 def 명령어 바로 밑에 docstring(\"\"\"\"\"\")을 사용한 것. 두번째는 return으로 main이라는 함수를 정의해주는 구문을 마친 것. 셋째는 method를 통해 docstring을 통해 함수에 대한 설명을 출력한 것이다."
   ]
  },
  {
   "cell_type": "markdown",
   "metadata": {},
   "source": [
    "# Scope of Variables"
   ]
  },
  {
   "cell_type": "code",
   "execution_count": 52,
   "metadata": {
    "scrolled": false
   },
   "outputs": [
    {
     "name": "stdout",
     "output_type": "stream",
     "text": [
      "0 1 2 3 4 5 6 7 8 9 10 11 12 13 14 15 16 17 18 19 \n",
      "3\n"
     ]
    }
   ],
   "source": [
    "x = 3\n",
    "def main():\n",
    "    for x in range(0, 20):\n",
    "        print(x, end = ' ')\n",
    "main()              \n",
    "print('\\n' + str(x))"
   ]
  },
  {
   "cell_type": "markdown",
   "metadata": {},
   "source": [
    "변수는 global variable과 local variable로 나뉘어진다. 내가 이해한 내용으로는 global variable은 명령문 전체에 걸쳐 변수가 정의된 내용이 지속되는 것이고 local variable은 명령문 전체가 아닌 특정 영역 내에서만 정의된 내용이 지속된다. "
   ]
  },
  {
   "cell_type": "code",
   "execution_count": 44,
   "metadata": {},
   "outputs": [
    {
     "name": "stdout",
     "output_type": "stream",
     "text": [
      "4\n",
      "4\n"
     ]
    }
   ],
   "source": [
    "x = 3\n",
    "def main():\n",
    "    global x\n",
    "    x = 4\n",
    "    print(x)\n",
    "main()\n",
    "print(x)"
   ]
  },
  {
   "cell_type": "markdown",
   "metadata": {},
   "source": [
    "위에서 이해한 내용과 다르게 local variable로 정의한 내용이 global variable에도 적용됐다. 이는 global operation이 local variable을 global variable로 정의해주는 것이다."
   ]
  },
  {
   "cell_type": "code",
   "execution_count": 45,
   "metadata": {},
   "outputs": [],
   "source": [
    "IMPORTANT_CONSTANT = 0.5"
   ]
  },
  {
   "cell_type": "markdown",
   "metadata": {},
   "source": [
    "위의 IMPORTANT_CONSTANT는 Named constant라고 불리는 변수로 프로그램 내에서 자주 사용되는 constant나 global variable을 프로그램을 읽는 사람들이 쉽게 읽기 위해 작성된다. 전부 대문자로 작성되며 _로 띄어쓰기를 한다."
   ]
  },
  {
   "cell_type": "code",
   "execution_count": 47,
   "metadata": {
    "scrolled": true
   },
   "outputs": [
    {
     "name": "stdout",
     "output_type": "stream",
     "text": [
      "['a', 'b', 'c', 'd', 'e']\n"
     ]
    }
   ],
   "source": [
    "word = ['a', 'e', 'i', 'o', 'u']\n",
    "vowel = 'e'\n",
    "includedVowels = ['a', 'b', 'c', 'd']\n",
    "if (vowel in word) and (vowel not in includedVowels):\n",
    "    includedVowels.append(vowel)\n",
    "    print(includedVowels)"
   ]
  },
  {
   "cell_type": "markdown",
   "metadata": {},
   "source": [
    "그냥 ()를 활용한 조건문이 인상깊어서 써봤다."
   ]
  },
  {
   "cell_type": "markdown",
   "metadata": {},
   "source": [
    "# More examples"
   ]
  },
  {
   "cell_type": "code",
   "execution_count": 56,
   "metadata": {},
   "outputs": [
    {
     "name": "stdout",
     "output_type": "stream",
     "text": [
      "['break', 'brrr', 'democratic', 'equals', 'sequoia', 'two']\n",
      "['two', 'brrr', 'break', 'equals', 'sequoia', 'democratic']\n",
      "['sequoia', 'democratic', 'equals', 'break', 'two', 'brrr']\n"
     ]
    }
   ],
   "source": [
    "def main():\n",
    "    list1 = [\"democratic\", \"sequoia\", \"equals\", \"brrr\",\"break\", \"two\"]\n",
    "    list1.sort()\n",
    "    print(list1)\n",
    "    list1.sort(key=len)\n",
    "    print(list1)\n",
    "    list1.sort(key=numberOfVowels, reverse=True)\n",
    "    print(list1)\n",
    "def numberOfVowels(word):\n",
    "    vowels = ('a', 'e', 'i', 'o', 'u')\n",
    "    total = 0\n",
    "    for vowel in vowels:\n",
    "        total += word.count(vowel)\n",
    "    return total\n",
    "main()"
   ]
  },
  {
   "cell_type": "markdown",
   "metadata": {},
   "source": [
    "list는 .sort()라는 method를 통해 원소를 배열할 수 있다. 원래 .sort() method는 숫자가 더 작거나 string의 순서가 더 빠른 순서대로 원소를 정렬한다. 부가적인 기능으로는 중괄호 안에 reverse=True로 오름차순이 아닌 내림차순으로 정렬을 할 수 있고 key=len을 통해 원소의 길이로 정렬을 할 수도 있다. 또한 key = function으로 자신이 정의한 함수를 기준으로 정렬을 해줄 수도 있다."
   ]
  }
 ],
 "metadata": {
  "kernelspec": {
   "display_name": "Python 3",
   "language": "python",
   "name": "python3"
  },
  "language_info": {
   "codemirror_mode": {
    "name": "ipython",
    "version": 3
   },
   "file_extension": ".py",
   "mimetype": "text/x-python",
   "name": "python",
   "nbconvert_exporter": "python",
   "pygments_lexer": "ipython3",
   "version": "3.8.3"
  }
 },
 "nbformat": 4,
 "nbformat_minor": 4
}
=======
{
 "cells": [
  {
   "cell_type": "markdown",
   "metadata": {},
   "source": [
    "# List"
   ]
  },
  {
   "cell_type": "code",
   "execution_count": 22,
   "metadata": {},
   "outputs": [
    {
     "name": "stdout",
     "output_type": "stream",
     "text": [
      "1696366884248\n",
      "1696357603784\n",
      "1696366884248 1696367570760\n",
      "True True\n"
     ]
    }
   ],
   "source": [
    "a = 1,2,3\n",
    "print(id(a))\n",
    "b = [1,2,3]\n",
    "print(id(b))\n",
    "c = a[:]\n",
    "d = b[:]\n",
    "print(id(c), id(d))\n",
    "print(a == c, b == d) \n"
   ]
  },
  {
   "cell_type": "markdown",
   "metadata": {},
   "source": [
    "List는 mutable 데이터 타입이라 수정이 가능하지만 tuple은 immutable 데이터 타입이라 수정이 불가능하다.\n",
    "또한 인덱싱을 통해 객체를 복사했을 경우 tuple의 경우 메모리 값이 똑같은 데 반해 list의 메모리는 달라졌다. 이를 통해 tuple은 아니지만 list는 새로운 객체가 생겼음을 알 수 있다."
   ]
  },
  {
   "cell_type": "markdown",
   "metadata": {},
   "source": [
    "Python은 objected oriented language로 만들어진 프로그램이다."
   ]
  },
  {
   "cell_type": "code",
   "execution_count": 6,
   "metadata": {},
   "outputs": [
    {
     "name": "stdout",
     "output_type": "stream",
     "text": [
      "[1, 3]\n"
     ]
    }
   ],
   "source": [
    "del b[1]\n",
    "print(b)"
   ]
  },
  {
   "cell_type": "code",
   "execution_count": 7,
   "metadata": {},
   "outputs": [
    {
     "ename": "TypeError",
     "evalue": "'tuple' object doesn't support item deletion",
     "output_type": "error",
     "traceback": [
      "\u001b[1;31m---------------------------------------------------------------------------\u001b[0m",
      "\u001b[1;31mTypeError\u001b[0m                                 Traceback (most recent call last)",
      "\u001b[1;32m<ipython-input-7-264fee32431d>\u001b[0m in \u001b[0;36m<module>\u001b[1;34m\u001b[0m\n\u001b[1;32m----> 1\u001b[1;33m \u001b[1;32mdel\u001b[0m \u001b[0ma\u001b[0m\u001b[1;33m[\u001b[0m\u001b[1;36m0\u001b[0m\u001b[1;33m]\u001b[0m\u001b[1;33m\u001b[0m\u001b[1;33m\u001b[0m\u001b[0m\n\u001b[0m\u001b[0;32m      2\u001b[0m \u001b[0mprint\u001b[0m\u001b[1;33m(\u001b[0m\u001b[0ma\u001b[0m\u001b[1;33m)\u001b[0m\u001b[1;33m\u001b[0m\u001b[1;33m\u001b[0m\u001b[0m\n",
      "\u001b[1;31mTypeError\u001b[0m: 'tuple' object doesn't support item deletion"
     ]
    }
   ],
   "source": [
    "del a[0]"
   ]
  },
  {
   "cell_type": "markdown",
   "metadata": {},
   "source": [
    "del 명령어는 list에서 해당 원소를 삭제하는 operation이다. 객체 b의 경우 list여서 index 1에 위치한 원소가 제거됐음을 확인할 수 있었다.\n",
    "a의 경우 tuple은 immutable이기 때문에 원소를 제거하거나 변경하는 것이 불가능하다. 따라서 del 명령어를 사용할 수 없다. (애초에 list에서 원소를 삭제하는 명령어라고 배웠으니 당연한 것 같기도 하다.)"
   ]
  },
  {
   "cell_type": "code",
   "execution_count": 10,
   "metadata": {},
   "outputs": [
    {
     "name": "stdout",
     "output_type": "stream",
     "text": [
      "[2, 3, 4, 5, 1, 2, 3, 4, 5] [4, 5, 1, 2, 3, 4, 5]\n"
     ]
    }
   ],
   "source": [
    "a = [1,2,3,4,5,1,2,3,4,5]\n",
    "a.remove(1)\n",
    "b = [1,2,3,4,5,1,2,3,4,5]\n",
    "del b[0:3]\n",
    "print(a, b)"
   ]
  },
  {
   "cell_type": "markdown",
   "metadata": {},
   "source": [
    "remove method인 경우에 해당 list에서 제거하고자 하는 원소를 맨 앞의 것만 제거해준다. \n",
    "del operation는 해당 리스트에서 인덱스를 통해 범위를 지정해 원소들을 제거할 수 있다."
   ]
  },
  {
   "cell_type": "code",
   "execution_count": null,
   "metadata": {},
   "outputs": [],
   "source": [
    "c = '1 2 3'\n",
    "c.split()\n",
    "print(c)\n",
    "d = ['To', 'be', 'or', 'not', 'to', 'be']\n",
    "string = ' '.join(d)\n",
    "print(string)"
   ]
  },
  {
   "cell_type": "markdown",
   "metadata": {},
   "source": [
    "join같은 경우는 내가 항상 헷갈려 하는 대목이다. join은 list가 있을 경우, list의 원소들을 붙여주는 method이다. join이 list의 원소들을 붙여줄 때 구분해주는 단위들을 ' '.join()에서 ' ' 안에 적어서 표현해줘야 한다. "
   ]
  },
  {
   "cell_type": "markdown",
   "metadata": {},
   "source": [
    "# Tuple"
   ]
  },
  {
   "cell_type": "code",
   "execution_count": 23,
   "metadata": {},
   "outputs": [
    {
     "name": "stdout",
     "output_type": "stream",
     "text": [
      "100 정글\n",
      "정글 100\n"
     ]
    }
   ],
   "source": [
    "x = 100\n",
    "y = '정글'\n",
    "print(x, y)\n",
    "x, y = y, x\n",
    "print(x, y)"
   ]
  },
  {
   "cell_type": "markdown",
   "metadata": {},
   "source": [
    "튜플 중에서도 개인적으로 swaping인 것 같다. swaping은 변수들 간의 value를 서로 교환하고 싶을 때 x, y = y, x로 입력해주기만 하면 서로의 value를 교환할 수 있는 편리한 기능이다."
   ]
  },
  {
   "cell_type": "markdown",
   "metadata": {},
   "source": [
    "# Sequence"
   ]
  },
  {
   "cell_type": "code",
   "execution_count": 24,
   "metadata": {},
   "outputs": [
    {
     "name": "stdout",
     "output_type": "stream",
     "text": [
      "[1, 3, 5, 7, 9]\n"
     ]
    }
   ],
   "source": [
    "a = [1,2,3,4,5,6,7,8,9,10]\n",
    "print(a[::2])"
   ]
  },
  {
   "cell_type": "markdown",
   "metadata": {},
   "source": [
    "list_object[::n]의 경우 리스트의 원소들을 간격을 n으로 두어 추출하는 방법이다."
   ]
  },
  {
   "cell_type": "code",
   "execution_count": 26,
   "metadata": {
    "scrolled": true
   },
   "outputs": [
    {
     "name": "stdout",
     "output_type": "stream",
     "text": [
      "['s', 't', 'r', 'i', 'n', 'g']\n"
     ]
    }
   ],
   "source": [
    "string = 'string'\n",
    "s = list(string)\n",
    "print(s)"
   ]
  },
  {
   "cell_type": "markdown",
   "metadata": {},
   "source": [
    "list() operation의 경우는 안에 들어오는 원소를 여러 원소로 분할하여 하나의 리스트를 만든다."
   ]
  },
  {
   "cell_type": "markdown",
   "metadata": {},
   "source": [
    "# References"
   ]
  },
  {
   "cell_type": "code",
   "execution_count": 28,
   "metadata": {},
   "outputs": [
    {
     "name": "stdout",
     "output_type": "stream",
     "text": [
      "1696367570504 1696367605128 1696368401224\n"
     ]
    }
   ],
   "source": [
    "list1 = ['a', 'b', 'c']\n",
    "list2 = list1[:]\n",
    "list3 = list1.copy()\n",
    "print(id(list1), id(list2), id(list3))"
   ]
  },
  {
   "cell_type": "markdown",
   "metadata": {},
   "source": [
    "list는 데이터 타입이 mutable이기에 [:]와 .copy()를 통해 원소는 동일하게 가지지만 새로운 객체를 생성할 수 있었다."
   ]
  },
  {
   "cell_type": "markdown",
   "metadata": {},
   "source": [
    "# More about Strings"
   ]
  },
  {
   "cell_type": "code",
   "execution_count": 30,
   "metadata": {},
   "outputs": [
    {
     "name": "stdout",
     "output_type": "stream",
     "text": [
      "True\n",
      "True\n"
     ]
    }
   ],
   "source": [
    "print('p' in 'print')\n",
    "p = [0,1,2,3,4,5]\n",
    "print(0 in p)"
   ]
  },
  {
   "cell_type": "markdown",
   "metadata": {},
   "source": [
    "in 은 operation이다. a in b인 형식으로 쓰여지며 b 안에 a라는 원소가 들어있는지 확인한다."
   ]
  },
  {
   "cell_type": "code",
   "execution_count": 33,
   "metadata": {},
   "outputs": [
    {
     "name": "stdout",
     "output_type": "stream",
     "text": [
      "3\n"
     ]
    }
   ],
   "source": [
    "s1 = 'string'\n",
    "index = s1.find('i')\n",
    "print(index)"
   ]
  },
  {
   "cell_type": "markdown",
   "metadata": {},
   "source": [
    "str.find('x')는 str이라는 string에서 'x'라는 원소를 찾는 메소드로 index를 반환해준다."
   ]
  },
  {
   "cell_type": "markdown",
   "metadata": {},
   "source": [
    "# Function Definition"
   ]
  },
  {
   "cell_type": "markdown",
   "metadata": {},
   "source": [
    "\"\"\" \"\"\"(docstirng)은 일종의 코멘트 역할을 한다. 여러 줄에 걸쳐 주석을 달 수 있기 때문이다. 위치는 주로 함수 밑에 바로 위치시킨다. "
   ]
  },
  {
   "cell_type": "code",
   "execution_count": 34,
   "metadata": {},
   "outputs": [
    {
     "name": "stdout",
     "output_type": "stream",
     "text": [
      "그냥 한 번 써봤다.\n"
     ]
    }
   ],
   "source": [
    "def main():\n",
    "    \"\"\"그냥 한 번 써봤다.\"\"\"\n",
    "    return\n",
    "\n",
    "print(main.__doc__)"
   ]
  },
  {
   "cell_type": "markdown",
   "metadata": {},
   "source": [
    "위에서 세 가지를 새로 적용해봤다. 첫째는 def 명령어 바로 밑에 docstring(\"\"\"\"\"\")을 사용한 것. 두번째는 return으로 main이라는 함수를 정의해주는 구문을 마친 것. 셋째는 method를 통해 docstring을 통해 함수에 대한 설명을 출력한 것이다."
   ]
  },
  {
   "cell_type": "markdown",
   "metadata": {},
   "source": [
    "# Scope of Variables"
   ]
  },
  {
   "cell_type": "code",
   "execution_count": 52,
   "metadata": {
    "scrolled": false
   },
   "outputs": [
    {
     "name": "stdout",
     "output_type": "stream",
     "text": [
      "0 1 2 3 4 5 6 7 8 9 10 11 12 13 14 15 16 17 18 19 \n",
      "3\n"
     ]
    }
   ],
   "source": [
    "x = 3\n",
    "def main():\n",
    "    for x in range(0, 20):\n",
    "        print(x, end = ' ')\n",
    "main()              \n",
    "print('\\n' + str(x))"
   ]
  },
  {
   "cell_type": "markdown",
   "metadata": {},
   "source": [
    "변수는 global variable과 local variable로 나뉘어진다. 내가 이해한 내용으로는 global variable은 명령문 전체에 걸쳐 변수가 정의된 내용이 지속되는 것이고 local variable은 명령문 전체가 아닌 특정 영역 내에서만 정의된 내용이 지속된다. "
   ]
  },
  {
   "cell_type": "code",
   "execution_count": 44,
   "metadata": {},
   "outputs": [
    {
     "name": "stdout",
     "output_type": "stream",
     "text": [
      "4\n",
      "4\n"
     ]
    }
   ],
   "source": [
    "x = 3\n",
    "def main():\n",
    "    global x\n",
    "    x = 4\n",
    "    print(x)\n",
    "main()\n",
    "print(x)"
   ]
  },
  {
   "cell_type": "markdown",
   "metadata": {},
   "source": [
    "위에서 이해한 내용과 다르게 local variable로 정의한 내용이 global variable에도 적용됐다. 이는 global operation이 local variable을 global variable로 정의해주는 것이다."
   ]
  },
  {
   "cell_type": "code",
   "execution_count": 45,
   "metadata": {},
   "outputs": [],
   "source": [
    "IMPORTANT_CONSTANT = 0.5"
   ]
  },
  {
   "cell_type": "markdown",
   "metadata": {},
   "source": [
    "위의 IMPORTANT_CONSTANT는 Named constant라고 불리는 변수로 프로그램 내에서 자주 사용되는 constant나 global variable을 프로그램을 읽는 사람들이 쉽게 읽기 위해 작성된다. 전부 대문자로 작성되며 _로 띄어쓰기를 한다."
   ]
  },
  {
   "cell_type": "code",
   "execution_count": 47,
   "metadata": {
    "scrolled": true
   },
   "outputs": [
    {
     "name": "stdout",
     "output_type": "stream",
     "text": [
      "['a', 'b', 'c', 'd', 'e']\n"
     ]
    }
   ],
   "source": [
    "word = ['a', 'e', 'i', 'o', 'u']\n",
    "vowel = 'e'\n",
    "includedVowels = ['a', 'b', 'c', 'd']\n",
    "if (vowel in word) and (vowel not in includedVowels):\n",
    "    includedVowels.append(vowel)\n",
    "    print(includedVowels)"
   ]
  },
  {
   "cell_type": "markdown",
   "metadata": {},
   "source": [
    "그냥 ()를 활용한 조건문이 인상깊어서 써봤다."
   ]
  },
  {
   "cell_type": "markdown",
   "metadata": {},
   "source": [
    "# More examples"
   ]
  },
  {
   "cell_type": "code",
   "execution_count": 56,
   "metadata": {},
   "outputs": [
    {
     "name": "stdout",
     "output_type": "stream",
     "text": [
      "['break', 'brrr', 'democratic', 'equals', 'sequoia', 'two']\n",
      "['two', 'brrr', 'break', 'equals', 'sequoia', 'democratic']\n",
      "['sequoia', 'democratic', 'equals', 'break', 'two', 'brrr']\n"
     ]
    }
   ],
   "source": [
    "def main():\n",
    "    list1 = [\"democratic\", \"sequoia\", \"equals\", \"brrr\",\"break\", \"two\"]\n",
    "    list1.sort()\n",
    "    print(list1)\n",
    "    list1.sort(key=len)\n",
    "    print(list1)\n",
    "    list1.sort(key=numberOfVowels, reverse=True)\n",
    "    print(list1)\n",
    "def numberOfVowels(word):\n",
    "    vowels = ('a', 'e', 'i', 'o', 'u')\n",
    "    total = 0\n",
    "    for vowel in vowels:\n",
    "        total += word.count(vowel)\n",
    "    return total\n",
    "main()"
   ]
  },
  {
   "cell_type": "markdown",
   "metadata": {},
   "source": [
    "list는 .sort()라는 method를 통해 원소를 배열할 수 있다. 원래 .sort() method는 숫자가 더 작거나 string의 순서가 더 빠른 순서대로 원소를 정렬한다. 부가적인 기능으로는 중괄호 안에 reverse=True로 오름차순이 아닌 내림차순으로 정렬을 할 수 있고 key=len을 통해 원소의 길이로 정렬을 할 수도 있다. 또한 key = function으로 자신이 정의한 함수를 기준으로 정렬을 해줄 수도 있다."
   ]
  }
 ],
 "metadata": {
  "kernelspec": {
   "display_name": "Python 3",
   "language": "python",
   "name": "python3"
  },
  "language_info": {
   "codemirror_mode": {
    "name": "ipython",
    "version": 3
   },
   "file_extension": ".py",
   "mimetype": "text/x-python",
   "name": "python",
   "nbconvert_exporter": "python",
   "pygments_lexer": "ipython3",
   "version": "3.7.6"
  }
 },
 "nbformat": 4,
 "nbformat_minor": 4
}
>>>>>>> de9a6738fa63e8d98d590dd14c2a900c8424b68d:03 Data Structures.ipynb
