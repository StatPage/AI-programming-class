{
 "cells": [
  {
   "cell_type": "markdown",
   "metadata": {},
   "source": [
    "Dicitionary-Valued Dictionaries\n",
    "- Dictionary's values can be any type of object including a dictionary\n",
    "- Consider the dictionary that consists of dictionaries\n",
    "- The value of nations would be the dictionary"
   ]
  },
  {
   "cell_type": "code",
   "execution_count": 3,
   "metadata": {
    "scrolled": false
   },
   "outputs": [
    {
     "name": "stdout",
     "output_type": "stream",
     "text": [
      "Enter the name of a continentother than Antarctica: Europe\n",
      "   Russian Federation: 142.50\n",
      "   Germany: 81.00\n",
      "   United Kingdom: 66.70\n",
      "   France: 66.30\n",
      "   Italy: 61.70\n",
      "   Spain: 47.70\n",
      "   Ukraine: 44.30\n",
      "   Poland: 38.30\n",
      "   Romania: 21.70\n",
      "   Netherlands: 16.59\n",
      "   Greece: 11.80\n",
      "   Portugal: 10.90\n",
      "   Czech Republic: 10.60\n",
      "   Belgium: 10.40\n",
      "   Hungary: 10.00\n",
      "   Sweden: 9.70\n",
      "   Belarus: 9.60\n",
      "   Austria: 8.20\n",
      "   Switzerland: 8.10\n",
      "   Serbia: 7.20\n",
      "   Bulgaria: 6.90\n",
      "   Denmark: 5.60\n",
      "   Slovakia: 5.40\n",
      "   Finland: 5.30\n",
      "   Norway: 5.10\n",
      "   Ireland: 4.80\n",
      "   Croatia: 4.50\n",
      "   Bosnia and Herzegovina: 3.90\n",
      "   Republic of Moldova: 3.60\n",
      "   Lithuania: 3.50\n",
      "   Albania: 3.00\n",
      "   Latvia: 2.20\n",
      "   The former Yugoslav Republic of Macedonia: 2.10\n",
      "   Slovenia: 2.00\n",
      "   Estonia: 1.30\n",
      "   Montenegro: 0.65\n",
      "   Luxembourg: 0.52\n",
      "   Malta: 0.41\n",
      "   Iceland: 0.32\n",
      "   Andorra: 0.09\n",
      "   Liechtenstein: 0.04\n",
      "   San Marino: 0.03\n",
      "   Monaco: 0.03\n"
     ]
    }
   ],
   "source": [
    "import pickle\n",
    "\n",
    "def main():\n",
    "    ## Display contries (and their population) from a specified continent.\n",
    "    nations = getDictionary(\"data/UNdict.dat\")\n",
    "    print(\"Enter the name of a continent\", end='')\n",
    "    continent = input(\"other than Antarctica: \")\n",
    "    continentDict = constructContinentNations(nations, continent)\n",
    "    dispalySortedResults(continentDict)\n",
    "    \n",
    "def getDictionary(fileName):\n",
    "    infile = open(fileName, 'rb')\n",
    "    countries = pickle.load(infile)\n",
    "    infile.close()\n",
    "    return countries\n",
    "\n",
    "def constructContinentNations(nations, continent):\n",
    "    continentDict = {}\n",
    "    for nation in nations:\n",
    "        if nations[nation][\"cont\"] == continent:\n",
    "            continentDict[nation] = nations[nation]\n",
    "    return continentDict\n",
    "\n",
    "def dispalySortedResults(dictionaryName):\n",
    "    continentList = sorted(dictionaryName.items(), key=lambda k: k[1][\"popl\"], reverse=True)\n",
    "    for k in continentList:\n",
    "        print(\"   {0:s}: {1:,.2f}\".format(k[0], k[1][\"popl\"]))\n",
    "\n",
    "main()"
   ]
  },
  {
   "cell_type": "markdown",
   "metadata": {},
   "source": [
    "# 꼭 덮어서 만들어볼 것."
   ]
  },
  {
   "attachments": {},
   "cell_type": "markdown",
   "metadata": {},
   "source": [
    "![image](https://user-images.githubusercontent.com/61931924/96403262-d1975800-1212-11eb-860d-e5292676887c.png)\n"
   ]
  },
  {
   "cell_type": "markdown",
   "metadata": {},
   "source": [
    "### Using a Dictionary with Tuples as Keys\n",
    "- _USpresStatesDict.dat_ holds a dictionary whose items look like   \n",
    "    {'Kennedy', 'John'}: 'Massachusetts'\n",
    "    ('Reagan', 'Ronald'}: 'California'"
   ]
  },
  {
   "cell_type": "code",
   "execution_count": null,
   "metadata": {},
   "outputs": [],
   "source": [
    "import pickle\n",
    "\n",
    "def main():\n",
    "    presDict = createDictFromBinaryFile(\"USpresStatesDict.dat\")\n",
    "    state = getState(presDict)\n",
    "    displayOutput(state, presDict)\n",
    "    \n",
    "def createDictFromBinaryFile(fileName):\n",
    "    infile = open(fileName, 'rb')\n",
    "    dictionary = pickle.load(infile)\n",
    "    infile.close()\n",
    "    return dictionary\n",
    "\n",
    "def getState(dictName):\n",
    "    state = input(\"Enter the name of a state: \")\n",
    "    if state in dictname.values():\n",
    "        return state\n",
    "    else:\n",
    "        return \"There are no presidents from \" + state + '.'\n",
    "\n",
    "def displayOutput(state, dictName):\n",
    "    if state.starswith(\"There\"):\n",
    "        print(state)\n",
    "    else:\n",
    "        print(\"Presidents from\", state + ':')\n",
    "        for pres in strted(dictName):   # dictionary에 sorted operator를 쓰면 dictionary의 key가 정렬이 된다.\n",
    "            if dictName[pres] == state:\n",
    "                print(\"  \" + pres[1] + \" \" + pres[0])\n",
    "\n",
    "main()"
   ]
  },
  {
   "attachments": {},
   "cell_type": "markdown",
   "metadata": {},
   "source": [
    "![image](https://user-images.githubusercontent.com/61931924/96403274-df4cdd80-1212-11eb-9802-9ad8b3bc2f75.png)"
   ]
  },
  {
   "cell_type": "markdown",
   "metadata": {},
   "source": [
    "### Dictionary Comprehension\n",
    "- Dictionaries can be created with dictionary comprehension, e.g.,  \n",
    "        {x: x * x for x in range(4)}\n",
    "- Dictionary comprehension can be used to extract a subset of a dictionary, e.g.,  \n",
    "    NE = [\"Maine\", \"Conneticut\", \"New Hampshire\", \"Massachusetts\", \"Vermont\", \"Rhode Island\"}  \n",
    "    subSet = {key: presDict{key} for key in presDict if presDict[key] in NE}  \n",
    "    \n",
    "comprehension에서 if문은 조건을 만족하는 key만 출력하겠다는 것을 의미한다."
   ]
  }
 ],
 "metadata": {
  "kernelspec": {
   "display_name": "Python 3",
   "language": "python",
   "name": "python3"
  },
  "language_info": {
   "codemirror_mode": {
    "name": "ipython",
    "version": 3
   },
   "file_extension": ".py",
   "mimetype": "text/x-python",
   "name": "python",
   "nbconvert_exporter": "python",
   "pygments_lexer": "ipython3",
   "version": "3.8.3"
  }
 },
 "nbformat": 4,
 "nbformat_minor": 4
}
